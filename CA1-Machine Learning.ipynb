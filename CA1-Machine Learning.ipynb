{
 "cells": [
  {
   "cell_type": "markdown",
   "metadata": {},
   "source": [
    "### CA1 Machine learning\n",
    "\n",
    "## Model 1 Supervised Learning\n",
    "\n",
    "# Import packages"
   ]
  },
  {
   "cell_type": "code",
   "execution_count": 228,
   "metadata": {},
   "outputs": [],
   "source": [
    "#Import packages necessary for model\n",
    "import numpy as np\n",
    "import pandas as pd\n",
    "import matplotlib.pyplot as plt\n",
    "import seaborn as sns\n",
    "from sklearn.metrics import confusion_matrix\n",
    "from sklearn.model_selection import KFold\n",
    "from sklearn.model_selection import cross_val_score\n",
    "from sklearn.model_selection import GridSearchCV\n",
    "from sklearn.preprocessing import scale\n",
    "from sklearn.linear_model import LinearRegression\n",
    "from sklearn.model_selection import train_test_split, cross_val_score\n",
    "from sklearn import metrics\n",
    "# Import thi slibrary to suppress the warnings\n",
    "import warnings\n",
    "warnings.filterwarnings('ignore')   "
   ]
  },
  {
   "cell_type": "markdown",
   "metadata": {},
   "source": [
    "## Abstract: \n",
    "This dataset is sythetic and concerns student academic performance and is from Kaggle (www.kaggle.com. (n.d.)). Student Performance (Multiple Linear Regression). [online] Available at: https://www.kaggle.com/datasets/nikhil7280/student-performance-multiple-linear-regression.\r\n",
    "\r",
    "It contains the following data\n",
    "\n",
    " Hours Studied: The total number of hours spent studying by each student.\r\n",
    "Previous Scores: The scores obtained by students in previous test.\r\n",
    "Extracurricular Activities: Whether the student participates in extracurricular activities (/or o).\r\n",
    "Sleep Hours: The average number of hours of sleep the student had p d\n",
    "\n",
    "ay.\r\n",
    "Sample Question Papers Practiced: The number of sample question papers the student practicle:\r\n",
    "\r\n",
    "Performance Index: A measure of the overall performance ostudent representingresents the student's academc erf.orma\n",
    "## Key Research Questions\n",
    "Can we predict whether students will pass or fail their examination. \n",
    "To what extent d MachiDo the other variables impact on student perform model?"
   ]
  },
  {
   "cell_type": "markdown",
   "metadata": {},
   "source": [
    "\n"
   ]
  },
  {
   "cell_type": "code",
   "execution_count": 229,
   "metadata": {},
   "outputs": [],
   "source": [
    "# Read Student Perfromance file\n",
    "df_SP = pd.read_csv('Student_Performance.csv')\n",
    "\n"
   ]
  },
  {
   "cell_type": "code",
   "execution_count": 230,
   "metadata": {},
   "outputs": [
    {
     "data": {
      "text/plain": [
       "(10000, 6)"
      ]
     },
     "execution_count": 230,
     "metadata": {},
     "output_type": "execute_result"
    }
   ],
   "source": [
    "df_SP.shape"
   ]
  },
  {
   "cell_type": "code",
   "execution_count": 231,
   "metadata": {
    "scrolled": true
   },
   "outputs": [
    {
     "data": {
      "text/html": [
       "<div>\n",
       "<style scoped>\n",
       "    .dataframe tbody tr th:only-of-type {\n",
       "        vertical-align: middle;\n",
       "    }\n",
       "\n",
       "    .dataframe tbody tr th {\n",
       "        vertical-align: top;\n",
       "    }\n",
       "\n",
       "    .dataframe thead th {\n",
       "        text-align: right;\n",
       "    }\n",
       "</style>\n",
       "<table border=\"1\" class=\"dataframe\">\n",
       "  <thead>\n",
       "    <tr style=\"text-align: right;\">\n",
       "      <th></th>\n",
       "      <th>Hours Studied</th>\n",
       "      <th>Previous Scores</th>\n",
       "      <th>Extracurricular Activities</th>\n",
       "      <th>Sleep Hours</th>\n",
       "      <th>Sample Question Papers Practiced</th>\n",
       "      <th>Performance Index</th>\n",
       "    </tr>\n",
       "  </thead>\n",
       "  <tbody>\n",
       "    <tr>\n",
       "      <th>0</th>\n",
       "      <td>7</td>\n",
       "      <td>99</td>\n",
       "      <td>Yes</td>\n",
       "      <td>9</td>\n",
       "      <td>1</td>\n",
       "      <td>91.0</td>\n",
       "    </tr>\n",
       "    <tr>\n",
       "      <th>1</th>\n",
       "      <td>4</td>\n",
       "      <td>82</td>\n",
       "      <td>No</td>\n",
       "      <td>4</td>\n",
       "      <td>2</td>\n",
       "      <td>65.0</td>\n",
       "    </tr>\n",
       "    <tr>\n",
       "      <th>2</th>\n",
       "      <td>8</td>\n",
       "      <td>51</td>\n",
       "      <td>Yes</td>\n",
       "      <td>7</td>\n",
       "      <td>2</td>\n",
       "      <td>45.0</td>\n",
       "    </tr>\n",
       "    <tr>\n",
       "      <th>3</th>\n",
       "      <td>5</td>\n",
       "      <td>52</td>\n",
       "      <td>Yes</td>\n",
       "      <td>5</td>\n",
       "      <td>2</td>\n",
       "      <td>36.0</td>\n",
       "    </tr>\n",
       "    <tr>\n",
       "      <th>4</th>\n",
       "      <td>7</td>\n",
       "      <td>75</td>\n",
       "      <td>No</td>\n",
       "      <td>8</td>\n",
       "      <td>5</td>\n",
       "      <td>66.0</td>\n",
       "    </tr>\n",
       "  </tbody>\n",
       "</table>\n",
       "</div>"
      ],
      "text/plain": [
       "   Hours Studied  Previous Scores Extracurricular Activities  Sleep Hours  \\\n",
       "0              7               99                        Yes            9   \n",
       "1              4               82                         No            4   \n",
       "2              8               51                        Yes            7   \n",
       "3              5               52                        Yes            5   \n",
       "4              7               75                         No            8   \n",
       "\n",
       "   Sample Question Papers Practiced  Performance Index  \n",
       "0                                 1               91.0  \n",
       "1                                 2               65.0  \n",
       "2                                 2               45.0  \n",
       "3                                 2               36.0  \n",
       "4                                 5               66.0  "
      ]
     },
     "execution_count": 231,
     "metadata": {},
     "output_type": "execute_result"
    }
   ],
   "source": [
    "# Display first 5 records\n",
    "df_SP.head()"
   ]
  },
  {
   "cell_type": "code",
   "execution_count": 232,
   "metadata": {},
   "outputs": [
    {
     "name": "stdout",
     "output_type": "stream",
     "text": [
      "<class 'pandas.core.frame.DataFrame'>\n",
      "RangeIndex: 10000 entries, 0 to 9999\n",
      "Data columns (total 6 columns):\n",
      " #   Column                            Non-Null Count  Dtype  \n",
      "---  ------                            --------------  -----  \n",
      " 0   Hours Studied                     10000 non-null  int64  \n",
      " 1   Previous Scores                   10000 non-null  int64  \n",
      " 2   Extracurricular Activities        10000 non-null  object \n",
      " 3   Sleep Hours                       10000 non-null  int64  \n",
      " 4   Sample Question Papers Practiced  10000 non-null  int64  \n",
      " 5   Performance Index                 10000 non-null  float64\n",
      "dtypes: float64(1), int64(4), object(1)\n",
      "memory usage: 468.9+ KB\n"
     ]
    }
   ],
   "source": [
    "df_SP.info()"
   ]
  },
  {
   "cell_type": "code",
   "execution_count": 233,
   "metadata": {
    "scrolled": true
   },
   "outputs": [
    {
     "data": {
      "text/html": [
       "<div>\n",
       "<style scoped>\n",
       "    .dataframe tbody tr th:only-of-type {\n",
       "        vertical-align: middle;\n",
       "    }\n",
       "\n",
       "    .dataframe tbody tr th {\n",
       "        vertical-align: top;\n",
       "    }\n",
       "\n",
       "    .dataframe thead th {\n",
       "        text-align: right;\n",
       "    }\n",
       "</style>\n",
       "<table border=\"1\" class=\"dataframe\">\n",
       "  <thead>\n",
       "    <tr style=\"text-align: right;\">\n",
       "      <th></th>\n",
       "      <th>Hours Studied</th>\n",
       "      <th>Previous Scores</th>\n",
       "      <th>Sleep Hours</th>\n",
       "      <th>Sample Question Papers Practiced</th>\n",
       "      <th>Performance Index</th>\n",
       "    </tr>\n",
       "  </thead>\n",
       "  <tbody>\n",
       "    <tr>\n",
       "      <th>count</th>\n",
       "      <td>10000.000000</td>\n",
       "      <td>10000.000000</td>\n",
       "      <td>10000.000000</td>\n",
       "      <td>10000.000000</td>\n",
       "      <td>10000.000000</td>\n",
       "    </tr>\n",
       "    <tr>\n",
       "      <th>mean</th>\n",
       "      <td>4.992900</td>\n",
       "      <td>69.445700</td>\n",
       "      <td>6.530600</td>\n",
       "      <td>4.583300</td>\n",
       "      <td>55.224800</td>\n",
       "    </tr>\n",
       "    <tr>\n",
       "      <th>std</th>\n",
       "      <td>2.589309</td>\n",
       "      <td>17.343152</td>\n",
       "      <td>1.695863</td>\n",
       "      <td>2.867348</td>\n",
       "      <td>19.212558</td>\n",
       "    </tr>\n",
       "    <tr>\n",
       "      <th>min</th>\n",
       "      <td>1.000000</td>\n",
       "      <td>40.000000</td>\n",
       "      <td>4.000000</td>\n",
       "      <td>0.000000</td>\n",
       "      <td>10.000000</td>\n",
       "    </tr>\n",
       "    <tr>\n",
       "      <th>25%</th>\n",
       "      <td>3.000000</td>\n",
       "      <td>54.000000</td>\n",
       "      <td>5.000000</td>\n",
       "      <td>2.000000</td>\n",
       "      <td>40.000000</td>\n",
       "    </tr>\n",
       "    <tr>\n",
       "      <th>50%</th>\n",
       "      <td>5.000000</td>\n",
       "      <td>69.000000</td>\n",
       "      <td>7.000000</td>\n",
       "      <td>5.000000</td>\n",
       "      <td>55.000000</td>\n",
       "    </tr>\n",
       "    <tr>\n",
       "      <th>75%</th>\n",
       "      <td>7.000000</td>\n",
       "      <td>85.000000</td>\n",
       "      <td>8.000000</td>\n",
       "      <td>7.000000</td>\n",
       "      <td>71.000000</td>\n",
       "    </tr>\n",
       "    <tr>\n",
       "      <th>max</th>\n",
       "      <td>9.000000</td>\n",
       "      <td>99.000000</td>\n",
       "      <td>9.000000</td>\n",
       "      <td>9.000000</td>\n",
       "      <td>100.000000</td>\n",
       "    </tr>\n",
       "  </tbody>\n",
       "</table>\n",
       "</div>"
      ],
      "text/plain": [
       "       Hours Studied  Previous Scores   Sleep Hours  \\\n",
       "count   10000.000000     10000.000000  10000.000000   \n",
       "mean        4.992900        69.445700      6.530600   \n",
       "std         2.589309        17.343152      1.695863   \n",
       "min         1.000000        40.000000      4.000000   \n",
       "25%         3.000000        54.000000      5.000000   \n",
       "50%         5.000000        69.000000      7.000000   \n",
       "75%         7.000000        85.000000      8.000000   \n",
       "max         9.000000        99.000000      9.000000   \n",
       "\n",
       "       Sample Question Papers Practiced  Performance Index  \n",
       "count                      10000.000000       10000.000000  \n",
       "mean                           4.583300          55.224800  \n",
       "std                            2.867348          19.212558  \n",
       "min                            0.000000          10.000000  \n",
       "25%                            2.000000          40.000000  \n",
       "50%                            5.000000          55.000000  \n",
       "75%                            7.000000          71.000000  \n",
       "max                            9.000000         100.000000  "
      ]
     },
     "execution_count": 233,
     "metadata": {},
     "output_type": "execute_result"
    }
   ],
   "source": [
    "# Description of the file\n",
    "df_SP.describe()"
   ]
  },
  {
   "cell_type": "markdown",
   "metadata": {},
   "source": [
    "# Does the Data need to be wrangled?\n",
    "- missing values - none see below\n",
    "- covert string / categorical to numeric - yes extracurricular activities - see below\n",
    "- need to be normalised / rescaled - no need - data falls within limited bounds - no possibilityof extreme  outliers."
   ]
  },
  {
   "cell_type": "code",
   "execution_count": 234,
   "metadata": {},
   "outputs": [
    {
     "name": "stdout",
     "output_type": "stream",
     "text": [
      "Missing Values:\n",
      "Hours Studied                       0\n",
      "Previous Scores                     0\n",
      "Extracurricular Activities          0\n",
      "Sleep Hours                         0\n",
      "Sample Question Papers Practiced    0\n",
      "Performance Index                   0\n",
      "dtype: int64\n"
     ]
    }
   ],
   "source": [
    "# Check for missing values\n",
    "missing_values = df_SP.isnull().sum()\n",
    "print(\"Missing Values:\")\n",
    "print(missing_values)"
   ]
  },
  {
   "cell_type": "code",
   "execution_count": 235,
   "metadata": {},
   "outputs": [
    {
     "name": "stdout",
     "output_type": "stream",
     "text": [
      "Class No: Count = 5052\n",
      "Class Yes: Count = 4948\n"
     ]
    }
   ],
   "source": [
    "# Find unique value for Extracurricular Activities\n",
    "unique_classes, class_counts = np.unique(df_SP['Extracurricular Activities'], return_counts=True)\n",
    "\n",
    "for cls, count in zip(unique_classes, class_counts):\n",
    "    print(f\"Class {cls}: Count = {count}\")"
   ]
  },
  {
   "cell_type": "code",
   "execution_count": 236,
   "metadata": {},
   "outputs": [],
   "source": [
    "#Replace non-numeric categorical data No with 0 and Yes with 1\n",
    "df_SP['Extracurricular Activities'].replace('No',0,inplace=True)\n",
    "df_SP['Extracurricular Activities'].replace('Yes',1,inplace=True)"
   ]
  },
  {
   "cell_type": "code",
   "execution_count": 237,
   "metadata": {},
   "outputs": [
    {
     "data": {
      "text/html": [
       "<div>\n",
       "<style scoped>\n",
       "    .dataframe tbody tr th:only-of-type {\n",
       "        vertical-align: middle;\n",
       "    }\n",
       "\n",
       "    .dataframe tbody tr th {\n",
       "        vertical-align: top;\n",
       "    }\n",
       "\n",
       "    .dataframe thead th {\n",
       "        text-align: right;\n",
       "    }\n",
       "</style>\n",
       "<table border=\"1\" class=\"dataframe\">\n",
       "  <thead>\n",
       "    <tr style=\"text-align: right;\">\n",
       "      <th></th>\n",
       "      <th>Hours Studied</th>\n",
       "      <th>Previous Scores</th>\n",
       "      <th>Extracurricular Activities</th>\n",
       "      <th>Sleep Hours</th>\n",
       "      <th>Sample Question Papers Practiced</th>\n",
       "      <th>Performance Index</th>\n",
       "    </tr>\n",
       "  </thead>\n",
       "  <tbody>\n",
       "    <tr>\n",
       "      <th>0</th>\n",
       "      <td>7</td>\n",
       "      <td>99</td>\n",
       "      <td>1</td>\n",
       "      <td>9</td>\n",
       "      <td>1</td>\n",
       "      <td>91.0</td>\n",
       "    </tr>\n",
       "    <tr>\n",
       "      <th>1</th>\n",
       "      <td>4</td>\n",
       "      <td>82</td>\n",
       "      <td>0</td>\n",
       "      <td>4</td>\n",
       "      <td>2</td>\n",
       "      <td>65.0</td>\n",
       "    </tr>\n",
       "    <tr>\n",
       "      <th>2</th>\n",
       "      <td>8</td>\n",
       "      <td>51</td>\n",
       "      <td>1</td>\n",
       "      <td>7</td>\n",
       "      <td>2</td>\n",
       "      <td>45.0</td>\n",
       "    </tr>\n",
       "    <tr>\n",
       "      <th>3</th>\n",
       "      <td>5</td>\n",
       "      <td>52</td>\n",
       "      <td>1</td>\n",
       "      <td>5</td>\n",
       "      <td>2</td>\n",
       "      <td>36.0</td>\n",
       "    </tr>\n",
       "    <tr>\n",
       "      <th>4</th>\n",
       "      <td>7</td>\n",
       "      <td>75</td>\n",
       "      <td>0</td>\n",
       "      <td>8</td>\n",
       "      <td>5</td>\n",
       "      <td>66.0</td>\n",
       "    </tr>\n",
       "  </tbody>\n",
       "</table>\n",
       "</div>"
      ],
      "text/plain": [
       "   Hours Studied  Previous Scores  Extracurricular Activities  Sleep Hours  \\\n",
       "0              7               99                           1            9   \n",
       "1              4               82                           0            4   \n",
       "2              8               51                           1            7   \n",
       "3              5               52                           1            5   \n",
       "4              7               75                           0            8   \n",
       "\n",
       "   Sample Question Papers Practiced  Performance Index  \n",
       "0                                 1               91.0  \n",
       "1                                 2               65.0  \n",
       "2                                 2               45.0  \n",
       "3                                 2               36.0  \n",
       "4                                 5               66.0  "
      ]
     },
     "execution_count": 237,
     "metadata": {},
     "output_type": "execute_result"
    }
   ],
   "source": [
    "# Check Extracurricular Activities field now 1 or 0  - Display first 5 records\n",
    "df_SP.head()"
   ]
  },
  {
   "cell_type": "code",
   "execution_count": 238,
   "metadata": {},
   "outputs": [
    {
     "data": {
      "text/plain": [
       "<seaborn.axisgrid.FacetGrid at 0x14848fb3610>"
      ]
     },
     "execution_count": 238,
     "metadata": {},
     "output_type": "execute_result"
    },
    {
     "data": {
      "image/png": "[encoded data removed]",
      "text/plain": [
       "<Figure size 500x500 with 1 Axes>"
      ]
     },
     "metadata": {},
     "output_type": "display_data"
    }
   ],
   "source": [
    "# Plot the Hours Studied\n",
    "sns.displot(df_SP, x=\"Hours Studied\")"
   ]
  },
  {
   "cell_type": "code",
   "execution_count": 239,
   "metadata": {
    "scrolled": true
   },
   "outputs": [
    {
     "data": {
      "text/plain": [
       "<seaborn.axisgrid.FacetGrid at 0x148491c07d0>"
      ]
     },
     "execution_count": 239,
     "metadata": {},
     "output_type": "execute_result"
    },
    {
     "data": {
      "image/png": "[encoded data removed]",
      "text/plain": [
       "<Figure size 500x500 with 1 Axes>"
      ]
     },
     "metadata": {},
     "output_type": "display_data"
    }
   ],
   "source": [
    "sns.displot(df_SP, x=\"Previous Scores\")"
   ]
  },
  {
   "cell_type": "code",
   "execution_count": 240,
   "metadata": {
    "scrolled": true
   },
   "outputs": [
    {
     "data": {
      "text/plain": [
       "<seaborn.axisgrid.FacetGrid at 0x148490c13d0>"
      ]
     },
     "execution_count": 240,
     "metadata": {},
     "output_type": "execute_result"
    },
    {
     "data": {
      "image/png": "[encoded data removed]",
      "text/plain": [
       "<Figure size 500x500 with 1 Axes>"
      ]
     },
     "metadata": {},
     "output_type": "display_data"
    }
   ],
   "source": [
    "sns.displot(df_SP, x=\"Sample Question Papers Practiced\")"
   ]
  },
  {
   "cell_type": "code",
   "execution_count": 241,
   "metadata": {},
   "outputs": [
    {
     "data": {
      "text/plain": [
       "<seaborn.axisgrid.FacetGrid at 0x1484a3e53d0>"
      ]
     },
     "execution_count": 241,
     "metadata": {},
     "output_type": "execute_result"
    },
    {
     "data": {
      "image/png": "[encoded data removed]",
      "text/plain": [
       "<Figure size 500x500 with 1 Axes>"
      ]
     },
     "metadata": {},
     "output_type": "display_data"
    }
   ],
   "source": [
    "sns.displot(df_SP, x=\"Performance Index\")"
   ]
  },
  {
   "cell_type": "code",
   "execution_count": null,
   "metadata": {},
   "outputs": [],
   "source": []
  },
  {
   "cell_type": "code",
   "execution_count": null,
   "metadata": {},
   "outputs": [],
   "source": []
  },
  {
   "cell_type": "markdown",
   "metadata": {},
   "source": [
    "### Question 1 - can these variables predict whether a student passes or fails?\n",
    "A = 90-100%\n",
    "B = 80-90%\n",
    "C = 70-79%\n",
    "D = 60-69%\n",
    "F = below 60%\n",
    "Convert values below 60% to 0 and above to 1"
   ]
  },
  {
   "cell_type": "code",
   "execution_count": 242,
   "metadata": {
    "scrolled": true
   },
   "outputs": [
    {
     "data": {
      "text/html": [
       "<div>\n",
       "<style scoped>\n",
       "    .dataframe tbody tr th:only-of-type {\n",
       "        vertical-align: middle;\n",
       "    }\n",
       "\n",
       "    .dataframe tbody tr th {\n",
       "        vertical-align: top;\n",
       "    }\n",
       "\n",
       "    .dataframe thead th {\n",
       "        text-align: right;\n",
       "    }\n",
       "</style>\n",
       "<table border=\"1\" class=\"dataframe\">\n",
       "  <thead>\n",
       "    <tr style=\"text-align: right;\">\n",
       "      <th></th>\n",
       "      <th>Hours Studied</th>\n",
       "      <th>Previous Scores</th>\n",
       "      <th>Extracurricular Activities</th>\n",
       "      <th>Sleep Hours</th>\n",
       "      <th>Sample Question Papers Practiced</th>\n",
       "      <th>Performance Index</th>\n",
       "    </tr>\n",
       "  </thead>\n",
       "  <tbody>\n",
       "    <tr>\n",
       "      <th>0</th>\n",
       "      <td>7</td>\n",
       "      <td>99</td>\n",
       "      <td>1</td>\n",
       "      <td>9</td>\n",
       "      <td>1</td>\n",
       "      <td>91.0</td>\n",
       "    </tr>\n",
       "    <tr>\n",
       "      <th>1</th>\n",
       "      <td>4</td>\n",
       "      <td>82</td>\n",
       "      <td>0</td>\n",
       "      <td>4</td>\n",
       "      <td>2</td>\n",
       "      <td>65.0</td>\n",
       "    </tr>\n",
       "    <tr>\n",
       "      <th>2</th>\n",
       "      <td>8</td>\n",
       "      <td>51</td>\n",
       "      <td>1</td>\n",
       "      <td>7</td>\n",
       "      <td>2</td>\n",
       "      <td>45.0</td>\n",
       "    </tr>\n",
       "    <tr>\n",
       "      <th>3</th>\n",
       "      <td>5</td>\n",
       "      <td>52</td>\n",
       "      <td>1</td>\n",
       "      <td>5</td>\n",
       "      <td>2</td>\n",
       "      <td>36.0</td>\n",
       "    </tr>\n",
       "    <tr>\n",
       "      <th>4</th>\n",
       "      <td>7</td>\n",
       "      <td>75</td>\n",
       "      <td>0</td>\n",
       "      <td>8</td>\n",
       "      <td>5</td>\n",
       "      <td>66.0</td>\n",
       "    </tr>\n",
       "    <tr>\n",
       "      <th>...</th>\n",
       "      <td>...</td>\n",
       "      <td>...</td>\n",
       "      <td>...</td>\n",
       "      <td>...</td>\n",
       "      <td>...</td>\n",
       "      <td>...</td>\n",
       "    </tr>\n",
       "    <tr>\n",
       "      <th>9995</th>\n",
       "      <td>1</td>\n",
       "      <td>49</td>\n",
       "      <td>1</td>\n",
       "      <td>4</td>\n",
       "      <td>2</td>\n",
       "      <td>23.0</td>\n",
       "    </tr>\n",
       "    <tr>\n",
       "      <th>9996</th>\n",
       "      <td>7</td>\n",
       "      <td>64</td>\n",
       "      <td>1</td>\n",
       "      <td>8</td>\n",
       "      <td>5</td>\n",
       "      <td>58.0</td>\n",
       "    </tr>\n",
       "    <tr>\n",
       "      <th>9997</th>\n",
       "      <td>6</td>\n",
       "      <td>83</td>\n",
       "      <td>1</td>\n",
       "      <td>8</td>\n",
       "      <td>5</td>\n",
       "      <td>74.0</td>\n",
       "    </tr>\n",
       "    <tr>\n",
       "      <th>9998</th>\n",
       "      <td>9</td>\n",
       "      <td>97</td>\n",
       "      <td>1</td>\n",
       "      <td>7</td>\n",
       "      <td>0</td>\n",
       "      <td>95.0</td>\n",
       "    </tr>\n",
       "    <tr>\n",
       "      <th>9999</th>\n",
       "      <td>7</td>\n",
       "      <td>74</td>\n",
       "      <td>0</td>\n",
       "      <td>8</td>\n",
       "      <td>1</td>\n",
       "      <td>64.0</td>\n",
       "    </tr>\n",
       "  </tbody>\n",
       "</table>\n",
       "<p>10000 rows × 6 columns</p>\n",
       "</div>"
      ],
      "text/plain": [
       "      Hours Studied  Previous Scores  Extracurricular Activities  Sleep Hours  \\\n",
       "0                 7               99                           1            9   \n",
       "1                 4               82                           0            4   \n",
       "2                 8               51                           1            7   \n",
       "3                 5               52                           1            5   \n",
       "4                 7               75                           0            8   \n",
       "...             ...              ...                         ...          ...   \n",
       "9995              1               49                           1            4   \n",
       "9996              7               64                           1            8   \n",
       "9997              6               83                           1            8   \n",
       "9998              9               97                           1            7   \n",
       "9999              7               74                           0            8   \n",
       "\n",
       "      Sample Question Papers Practiced  Performance Index  \n",
       "0                                    1               91.0  \n",
       "1                                    2               65.0  \n",
       "2                                    2               45.0  \n",
       "3                                    2               36.0  \n",
       "4                                    5               66.0  \n",
       "...                                ...                ...  \n",
       "9995                                 2               23.0  \n",
       "9996                                 5               58.0  \n",
       "9997                                 5               74.0  \n",
       "9998                                 0               95.0  \n",
       "9999                                 1               64.0  \n",
       "\n",
       "[10000 rows x 6 columns]"
      ]
     },
     "execution_count": 242,
     "metadata": {},
     "output_type": "execute_result"
    }
   ],
   "source": [
    "df_SP"
   ]
  },
  {
   "cell_type": "code",
   "execution_count": 243,
   "metadata": {},
   "outputs": [
    {
     "name": "stdout",
     "output_type": "stream",
     "text": [
      "      Hours Studied  Previous Scores  Extracurricular Activities  Sleep Hours  \\\n",
      "0                 7               99                           1            9   \n",
      "1                 4               82                           0            4   \n",
      "2                 8               51                           1            7   \n",
      "3                 5               52                           1            5   \n",
      "4                 7               75                           0            8   \n",
      "...             ...              ...                         ...          ...   \n",
      "9995              1               49                           1            4   \n",
      "9996              7               64                           1            8   \n",
      "9997              6               83                           1            8   \n",
      "9998              9               97                           1            7   \n",
      "9999              7               74                           0            8   \n",
      "\n",
      "      Sample Question Papers Practiced  Performance Index  PassFail  \n",
      "0                                    1               91.0         1  \n",
      "1                                    2               65.0         1  \n",
      "2                                    2               45.0         0  \n",
      "3                                    2               36.0         0  \n",
      "4                                    5               66.0         1  \n",
      "...                                ...                ...       ...  \n",
      "9995                                 2               23.0         0  \n",
      "9996                                 5               58.0         0  \n",
      "9997                                 5               74.0         1  \n",
      "9998                                 0               95.0         1  \n",
      "9999                                 1               64.0         1  \n",
      "\n",
      "[10000 rows x 7 columns]\n"
     ]
    }
   ],
   "source": [
    "df_SP['PassFail'] = (df_SP['Performance Index'] > 60).astype(int)\n",
    "\n",
    "print(df_SP)"
   ]
  },
  {
   "cell_type": "code",
   "execution_count": 244,
   "metadata": {},
   "outputs": [],
   "source": [
    "# Setup new Datasets for SVC and Regression tests.\n",
    "df_SPInd = df_SP.drop(['Performance Index','PassFail'], axis = 1)\n",
    "df_SPDCon = df_SP['Performance Index']\n",
    "df_SPDDis = df_SP['PassFail']\n",
    "df_SPSleepPer = df_SP[['Sleep Hours','Performance Index']]\n",
    "df_SPHSPer = df_SP[['Hours Studied','Performance Index']]\n",
    "df_SPSQPPer = df_SP[['Sample Question Papers Practiced','Performance Index']]\n",
    "df_SPPSPer = df_SP[['Previous Scores','Performance Index']]\n",
    "# axis = 1 means along columnwise"
   ]
  },
  {
   "cell_type": "code",
   "execution_count": 251,
   "metadata": {
    "scrolled": true
   },
   "outputs": [
    {
     "data": {
      "text/html": [
       "<div>\n",
       "<style scoped>\n",
       "    .dataframe tbody tr th:only-of-type {\n",
       "        vertical-align: middle;\n",
       "    }\n",
       "\n",
       "    .dataframe tbody tr th {\n",
       "        vertical-align: top;\n",
       "    }\n",
       "\n",
       "    .dataframe thead th {\n",
       "        text-align: right;\n",
       "    }\n",
       "</style>\n",
       "<table border=\"1\" class=\"dataframe\">\n",
       "  <thead>\n",
       "    <tr style=\"text-align: right;\">\n",
       "      <th></th>\n",
       "      <th>Hours Studied</th>\n",
       "      <th>Previous Scores</th>\n",
       "      <th>Extracurricular Activities</th>\n",
       "      <th>Sleep Hours</th>\n",
       "      <th>Sample Question Papers Practiced</th>\n",
       "    </tr>\n",
       "  </thead>\n",
       "  <tbody>\n",
       "    <tr>\n",
       "      <th>0</th>\n",
       "      <td>7</td>\n",
       "      <td>99</td>\n",
       "      <td>1</td>\n",
       "      <td>9</td>\n",
       "      <td>1</td>\n",
       "    </tr>\n",
       "    <tr>\n",
       "      <th>1</th>\n",
       "      <td>4</td>\n",
       "      <td>82</td>\n",
       "      <td>0</td>\n",
       "      <td>4</td>\n",
       "      <td>2</td>\n",
       "    </tr>\n",
       "    <tr>\n",
       "      <th>2</th>\n",
       "      <td>8</td>\n",
       "      <td>51</td>\n",
       "      <td>1</td>\n",
       "      <td>7</td>\n",
       "      <td>2</td>\n",
       "    </tr>\n",
       "    <tr>\n",
       "      <th>3</th>\n",
       "      <td>5</td>\n",
       "      <td>52</td>\n",
       "      <td>1</td>\n",
       "      <td>5</td>\n",
       "      <td>2</td>\n",
       "    </tr>\n",
       "    <tr>\n",
       "      <th>4</th>\n",
       "      <td>7</td>\n",
       "      <td>75</td>\n",
       "      <td>0</td>\n",
       "      <td>8</td>\n",
       "      <td>5</td>\n",
       "    </tr>\n",
       "  </tbody>\n",
       "</table>\n",
       "</div>"
      ],
      "text/plain": [
       "   Hours Studied  Previous Scores  Extracurricular Activities  Sleep Hours  \\\n",
       "0              7               99                           1            9   \n",
       "1              4               82                           0            4   \n",
       "2              8               51                           1            7   \n",
       "3              5               52                           1            5   \n",
       "4              7               75                           0            8   \n",
       "\n",
       "   Sample Question Papers Practiced  \n",
       "0                                 1  \n",
       "1                                 2  \n",
       "2                                 2  \n",
       "3                                 2  \n",
       "4                                 5  "
      ]
     },
     "execution_count": 251,
     "metadata": {},
     "output_type": "execute_result"
    }
   ],
   "source": [
    "#Display some records to confirm that the results are as expected \n",
    "#Display last 5 records\n",
    "df_SPInd.head()"
   ]
  },
  {
   "cell_type": "code",
   "execution_count": 252,
   "metadata": {},
   "outputs": [
    {
     "data": {
      "text/html": [
       "<div>\n",
       "<style scoped>\n",
       "    .dataframe tbody tr th:only-of-type {\n",
       "        vertical-align: middle;\n",
       "    }\n",
       "\n",
       "    .dataframe tbody tr th {\n",
       "        vertical-align: top;\n",
       "    }\n",
       "\n",
       "    .dataframe thead th {\n",
       "        text-align: right;\n",
       "    }\n",
       "</style>\n",
       "<table border=\"1\" class=\"dataframe\">\n",
       "  <thead>\n",
       "    <tr style=\"text-align: right;\">\n",
       "      <th></th>\n",
       "      <th>Sleep Hours</th>\n",
       "      <th>Performance Index</th>\n",
       "    </tr>\n",
       "  </thead>\n",
       "  <tbody>\n",
       "    <tr>\n",
       "      <th>0</th>\n",
       "      <td>9</td>\n",
       "      <td>91.0</td>\n",
       "    </tr>\n",
       "    <tr>\n",
       "      <th>1</th>\n",
       "      <td>4</td>\n",
       "      <td>65.0</td>\n",
       "    </tr>\n",
       "    <tr>\n",
       "      <th>2</th>\n",
       "      <td>7</td>\n",
       "      <td>45.0</td>\n",
       "    </tr>\n",
       "    <tr>\n",
       "      <th>3</th>\n",
       "      <td>5</td>\n",
       "      <td>36.0</td>\n",
       "    </tr>\n",
       "    <tr>\n",
       "      <th>4</th>\n",
       "      <td>8</td>\n",
       "      <td>66.0</td>\n",
       "    </tr>\n",
       "  </tbody>\n",
       "</table>\n",
       "</div>"
      ],
      "text/plain": [
       "   Sleep Hours  Performance Index\n",
       "0            9               91.0\n",
       "1            4               65.0\n",
       "2            7               45.0\n",
       "3            5               36.0\n",
       "4            8               66.0"
      ]
     },
     "execution_count": 252,
     "metadata": {},
     "output_type": "execute_result"
    }
   ],
   "source": [
    "df_SPSleepPer.head()"
   ]
  },
  {
   "cell_type": "code",
   "execution_count": 253,
   "metadata": {},
   "outputs": [
    {
     "data": {
      "text/html": [
       "<div>\n",
       "<style scoped>\n",
       "    .dataframe tbody tr th:only-of-type {\n",
       "        vertical-align: middle;\n",
       "    }\n",
       "\n",
       "    .dataframe tbody tr th {\n",
       "        vertical-align: top;\n",
       "    }\n",
       "\n",
       "    .dataframe thead th {\n",
       "        text-align: right;\n",
       "    }\n",
       "</style>\n",
       "<table border=\"1\" class=\"dataframe\">\n",
       "  <thead>\n",
       "    <tr style=\"text-align: right;\">\n",
       "      <th></th>\n",
       "      <th>Hours Studied</th>\n",
       "      <th>Performance Index</th>\n",
       "    </tr>\n",
       "  </thead>\n",
       "  <tbody>\n",
       "    <tr>\n",
       "      <th>0</th>\n",
       "      <td>7</td>\n",
       "      <td>91.0</td>\n",
       "    </tr>\n",
       "    <tr>\n",
       "      <th>1</th>\n",
       "      <td>4</td>\n",
       "      <td>65.0</td>\n",
       "    </tr>\n",
       "    <tr>\n",
       "      <th>2</th>\n",
       "      <td>8</td>\n",
       "      <td>45.0</td>\n",
       "    </tr>\n",
       "    <tr>\n",
       "      <th>3</th>\n",
       "      <td>5</td>\n",
       "      <td>36.0</td>\n",
       "    </tr>\n",
       "    <tr>\n",
       "      <th>4</th>\n",
       "      <td>7</td>\n",
       "      <td>66.0</td>\n",
       "    </tr>\n",
       "  </tbody>\n",
       "</table>\n",
       "</div>"
      ],
      "text/plain": [
       "   Hours Studied  Performance Index\n",
       "0              7               91.0\n",
       "1              4               65.0\n",
       "2              8               45.0\n",
       "3              5               36.0\n",
       "4              7               66.0"
      ]
     },
     "execution_count": 253,
     "metadata": {},
     "output_type": "execute_result"
    }
   ],
   "source": [
    "df_SPHSPer.head()"
   ]
  },
  {
   "cell_type": "code",
   "execution_count": null,
   "metadata": {},
   "outputs": [],
   "source": []
  },
  {
   "cell_type": "code",
   "execution_count": 254,
   "metadata": {},
   "outputs": [
    {
     "data": {
      "text/plain": [
       "0    91.0\n",
       "1    65.0\n",
       "2    45.0\n",
       "3    36.0\n",
       "4    66.0\n",
       "Name: Performance Index, dtype: float64"
      ]
     },
     "execution_count": 254,
     "metadata": {},
     "output_type": "execute_result"
    }
   ],
   "source": [
    "df_SPDCon.head()\n"
   ]
  },
  {
   "cell_type": "code",
   "execution_count": 255,
   "metadata": {},
   "outputs": [
    {
     "data": {
      "text/plain": [
       "0    1\n",
       "1    1\n",
       "2    0\n",
       "3    0\n",
       "4    1\n",
       "Name: PassFail, dtype: int32"
      ]
     },
     "execution_count": 255,
     "metadata": {},
     "output_type": "execute_result"
    }
   ],
   "source": [
    "df_SPDDis.head()"
   ]
  },
  {
   "cell_type": "code",
   "execution_count": 188,
   "metadata": {},
   "outputs": [],
   "source": [
    "# Store the values as X and y before the applying the ML model\n",
    "# For machine learning model, the data has already been split into independent and dependent variables\n",
    "\n",
    "X = df_SPInd           # Features (independent variables) from the Student Performance\n",
    "\n",
    "y = df_SPDDis            # Target variable (Pass / Fail) for the prediction\n",
    "\n"
   ]
  },
  {
   "cell_type": "code",
   "execution_count": 189,
   "metadata": {},
   "outputs": [
    {
     "name": "stdout",
     "output_type": "stream",
     "text": [
      "      Hours Studied  Previous Scores  Extracurricular Activities  Sleep Hours  \\\n",
      "0                 7               99                           1            9   \n",
      "1                 4               82                           0            4   \n",
      "2                 8               51                           1            7   \n",
      "3                 5               52                           1            5   \n",
      "4                 7               75                           0            8   \n",
      "...             ...              ...                         ...          ...   \n",
      "9995              1               49                           1            4   \n",
      "9996              7               64                           1            8   \n",
      "9997              6               83                           1            8   \n",
      "9998              9               97                           1            7   \n",
      "9999              7               74                           0            8   \n",
      "\n",
      "      Sample Question Papers Practiced  \n",
      "0                                    1  \n",
      "1                                    2  \n",
      "2                                    2  \n",
      "3                                    2  \n",
      "4                                    5  \n",
      "...                                ...  \n",
      "9995                                 2  \n",
      "9996                                 5  \n",
      "9997                                 5  \n",
      "9998                                 0  \n",
      "9999                                 1  \n",
      "\n",
      "[10000 rows x 5 columns] 0       1\n",
      "1       1\n",
      "2       0\n",
      "3       0\n",
      "4       1\n",
      "       ..\n",
      "9995    0\n",
      "9996    0\n",
      "9997    1\n",
      "9998    1\n",
      "9999    1\n",
      "Name: PassFail, Length: 10000, dtype: int32\n"
     ]
    }
   ],
   "source": [
    "# print Independent and dependent variables for a quick visual check\n",
    "print(X,y)"
   ]
  },
  {
   "cell_type": "code",
   "execution_count": 256,
   "metadata": {
    "scrolled": true
   },
   "outputs": [
    {
     "data": {
      "text/plain": [
       "PassFail\n",
       "0    5878\n",
       "1    4122\n",
       "Name: count, dtype: int64"
      ]
     },
     "execution_count": 256,
     "metadata": {},
     "output_type": "execute_result"
    }
   ],
   "source": [
    "# Display the label variables of binary types\n",
    "y.value_counts()"
   ]
  },
  {
   "cell_type": "markdown",
   "metadata": {},
   "source": [
    "## Splitting Data into Training and Testing"
   ]
  },
  {
   "cell_type": "code",
   "execution_count": 284,
   "metadata": {},
   "outputs": [],
   "source": [
    "# Import train_test_split function\n",
    "from sklearn.model_selection import train_test_split  \n",
    "\n",
    "# Split dataset into training set and test set\n",
    "X_train, X_test, y_train, y_test = train_test_split(X, y, test_size = 0.30, random_state = 102) # 80% training and 20% test\n"
   ]
  },
  {
   "cell_type": "code",
   "execution_count": 285,
   "metadata": {},
   "outputs": [
    {
     "data": {
      "text/plain": [
       "(      Hours Studied  Previous Scores  Extracurricular Activities  Sleep Hours  \\\n",
       " 5205              1               76                           1            7   \n",
       " 9693              9               72                           1            6   \n",
       " 7899              7               93                           0            6   \n",
       " 4702              1               94                           0            6   \n",
       " 841               5               82                           0            8   \n",
       " ...             ...              ...                         ...          ...   \n",
       " 969               1               59                           1            7   \n",
       " 4075              9               67                           1            6   \n",
       " 2882              9               51                           0            8   \n",
       " 2290              1               83                           0            7   \n",
       " 4851              6               71                           0            6   \n",
       " \n",
       "       Sample Question Papers Practiced  \n",
       " 5205                                 3  \n",
       " 9693                                 8  \n",
       " 7899                                 8  \n",
       " 4702                                 8  \n",
       " 841                                  3  \n",
       " ...                                ...  \n",
       " 969                                  9  \n",
       " 4075                                 8  \n",
       " 2882                                 3  \n",
       " 2290                                 5  \n",
       " 4851                                 6  \n",
       " \n",
       " [7000 rows x 5 columns],)"
      ]
     },
     "execution_count": 285,
     "metadata": {},
     "output_type": "execute_result"
    }
   ],
   "source": [
    "X_train, "
   ]
  },
  {
   "cell_type": "code",
   "execution_count": 286,
   "metadata": {},
   "outputs": [
    {
     "data": {
      "text/html": [
       "<div>\n",
       "<style scoped>\n",
       "    .dataframe tbody tr th:only-of-type {\n",
       "        vertical-align: middle;\n",
       "    }\n",
       "\n",
       "    .dataframe tbody tr th {\n",
       "        vertical-align: top;\n",
       "    }\n",
       "\n",
       "    .dataframe thead th {\n",
       "        text-align: right;\n",
       "    }\n",
       "</style>\n",
       "<table border=\"1\" class=\"dataframe\">\n",
       "  <thead>\n",
       "    <tr style=\"text-align: right;\">\n",
       "      <th></th>\n",
       "      <th>Hours Studied</th>\n",
       "      <th>Previous Scores</th>\n",
       "      <th>Extracurricular Activities</th>\n",
       "      <th>Sleep Hours</th>\n",
       "      <th>Sample Question Papers Practiced</th>\n",
       "    </tr>\n",
       "  </thead>\n",
       "  <tbody>\n",
       "    <tr>\n",
       "      <th>4237</th>\n",
       "      <td>8</td>\n",
       "      <td>85</td>\n",
       "      <td>1</td>\n",
       "      <td>5</td>\n",
       "      <td>7</td>\n",
       "    </tr>\n",
       "    <tr>\n",
       "      <th>867</th>\n",
       "      <td>5</td>\n",
       "      <td>60</td>\n",
       "      <td>0</td>\n",
       "      <td>8</td>\n",
       "      <td>0</td>\n",
       "    </tr>\n",
       "    <tr>\n",
       "      <th>3907</th>\n",
       "      <td>5</td>\n",
       "      <td>54</td>\n",
       "      <td>1</td>\n",
       "      <td>8</td>\n",
       "      <td>9</td>\n",
       "    </tr>\n",
       "    <tr>\n",
       "      <th>2215</th>\n",
       "      <td>7</td>\n",
       "      <td>62</td>\n",
       "      <td>1</td>\n",
       "      <td>4</td>\n",
       "      <td>7</td>\n",
       "    </tr>\n",
       "    <tr>\n",
       "      <th>4753</th>\n",
       "      <td>7</td>\n",
       "      <td>91</td>\n",
       "      <td>0</td>\n",
       "      <td>9</td>\n",
       "      <td>2</td>\n",
       "    </tr>\n",
       "    <tr>\n",
       "      <th>...</th>\n",
       "      <td>...</td>\n",
       "      <td>...</td>\n",
       "      <td>...</td>\n",
       "      <td>...</td>\n",
       "      <td>...</td>\n",
       "    </tr>\n",
       "    <tr>\n",
       "      <th>8686</th>\n",
       "      <td>2</td>\n",
       "      <td>61</td>\n",
       "      <td>1</td>\n",
       "      <td>6</td>\n",
       "      <td>5</td>\n",
       "    </tr>\n",
       "    <tr>\n",
       "      <th>7808</th>\n",
       "      <td>9</td>\n",
       "      <td>42</td>\n",
       "      <td>0</td>\n",
       "      <td>5</td>\n",
       "      <td>0</td>\n",
       "    </tr>\n",
       "    <tr>\n",
       "      <th>9754</th>\n",
       "      <td>7</td>\n",
       "      <td>74</td>\n",
       "      <td>1</td>\n",
       "      <td>7</td>\n",
       "      <td>4</td>\n",
       "    </tr>\n",
       "    <tr>\n",
       "      <th>6280</th>\n",
       "      <td>2</td>\n",
       "      <td>86</td>\n",
       "      <td>0</td>\n",
       "      <td>5</td>\n",
       "      <td>9</td>\n",
       "    </tr>\n",
       "    <tr>\n",
       "      <th>5739</th>\n",
       "      <td>5</td>\n",
       "      <td>48</td>\n",
       "      <td>0</td>\n",
       "      <td>6</td>\n",
       "      <td>4</td>\n",
       "    </tr>\n",
       "  </tbody>\n",
       "</table>\n",
       "<p>3000 rows × 5 columns</p>\n",
       "</div>"
      ],
      "text/plain": [
       "      Hours Studied  Previous Scores  Extracurricular Activities  Sleep Hours  \\\n",
       "4237              8               85                           1            5   \n",
       "867               5               60                           0            8   \n",
       "3907              5               54                           1            8   \n",
       "2215              7               62                           1            4   \n",
       "4753              7               91                           0            9   \n",
       "...             ...              ...                         ...          ...   \n",
       "8686              2               61                           1            6   \n",
       "7808              9               42                           0            5   \n",
       "9754              7               74                           1            7   \n",
       "6280              2               86                           0            5   \n",
       "5739              5               48                           0            6   \n",
       "\n",
       "      Sample Question Papers Practiced  \n",
       "4237                                 7  \n",
       "867                                  0  \n",
       "3907                                 9  \n",
       "2215                                 7  \n",
       "4753                                 2  \n",
       "...                                ...  \n",
       "8686                                 5  \n",
       "7808                                 0  \n",
       "9754                                 4  \n",
       "6280                                 9  \n",
       "5739                                 4  \n",
       "\n",
       "[3000 rows x 5 columns]"
      ]
     },
     "execution_count": 286,
     "metadata": {},
     "output_type": "execute_result"
    }
   ],
   "source": [
    "X_test"
   ]
  },
  {
   "cell_type": "code",
   "execution_count": 287,
   "metadata": {},
   "outputs": [
    {
     "data": {
      "text/plain": [
       "5205    0\n",
       "9693    1\n",
       "7899    1\n",
       "4702    1\n",
       "841     1\n",
       "       ..\n",
       "969     0\n",
       "4075    1\n",
       "2882    0\n",
       "2290    0\n",
       "4851    0\n",
       "Name: PassFail, Length: 7000, dtype: int32"
      ]
     },
     "execution_count": 287,
     "metadata": {},
     "output_type": "execute_result"
    }
   ],
   "source": [
    "y_train"
   ]
  },
  {
   "cell_type": "code",
   "execution_count": 288,
   "metadata": {},
   "outputs": [
    {
     "data": {
      "text/plain": [
       "4237    1\n",
       "867     0\n",
       "3907    0\n",
       "2215    0\n",
       "4753    1\n",
       "       ..\n",
       "8686    0\n",
       "7808    0\n",
       "9754    1\n",
       "6280    1\n",
       "5739    0\n",
       "Name: PassFail, Length: 3000, dtype: int32"
      ]
     },
     "execution_count": 288,
     "metadata": {},
     "output_type": "execute_result"
    }
   ],
   "source": [
    "y_test"
   ]
  },
  {
   "cell_type": "code",
   "execution_count": 289,
   "metadata": {},
   "outputs": [
    {
     "name": "stdout",
     "output_type": "stream",
     "text": [
      "Total number of rows and columns for the complete dataset:  (10000, 5) (10000,)\n",
      "Number of rows and columns after splitting dataset:  (7000, 5) (3000, 5) (7000,) (3000,)\n"
     ]
    }
   ],
   "source": [
    "# Display the rows and columns (dimenions) of an unsplit dataset\n",
    "print('Total number of rows and columns for the complete dataset: ', X.shape, y.shape)\n",
    "\n",
    "# Display the rows and columns (dimenions) of the split   dataset\n",
    "print('Number of rows and columns after splitting dataset: ', X_train.shape, X_test.shape, y_train.shape, y_test.shape )"
   ]
  },
  {
   "cell_type": "markdown",
   "metadata": {},
   "source": [
    "## Generating The Model\n",
    "SVM module is imported from sklearn to create a support vector classifier in svc() by passing the argument kernel as the linear kernel. The data-set is trained using the set() with the predict() function used to make predictions."
   ]
  },
  {
   "cell_type": "code",
   "execution_count": 290,
   "metadata": {},
   "outputs": [],
   "source": [
    "# Import the library for the model named as 'SVM'\n",
    "from sklearn import svm\n",
    "\n",
    "# Create a classifier\n",
    "cls_svm = svm.SVC(kernel = \"linear\")    # Press shift + tab key simultaneoulsy to get the help for the function or method SVC\n",
    "\n",
    "# Train the model\n",
    "cls_svm.fit(X_train, y_train)\n",
    "\n",
    "# Predict the response\n",
    "y_pred = cls_svm.predict(X_test)"
   ]
  },
  {
   "cell_type": "markdown",
   "metadata": {},
   "source": [
    "## Evaluation of the Model\n"
   ]
  },
  {
   "cell_type": "code",
   "execution_count": 291,
   "metadata": {},
   "outputs": [
    {
     "name": "stdout",
     "output_type": "stream",
     "text": [
      "accuracy: 0.977\n",
      "precision: 0.9739837398373984\n",
      "recall 0.9700404858299595\n",
      "accuracy: 0.98\n",
      "precision: 0.97\n",
      "recall: 0.97\n"
     ]
    }
   ],
   "source": [
    "# Import the library for accuracy, precision and recall\n",
    "from sklearn import metrics\n",
    "\n",
    "# accuracy\n",
    "print(\"accuracy:\", metrics.accuracy_score(y_test, y_pred))\n",
    "\n",
    "# precision score\n",
    "print(\"precision:\", metrics.precision_score(y_test, y_pred))\n",
    "\n",
    "# recall score\n",
    "print(\"recall\" , metrics.recall_score(y_test, y_pred))\n",
    "\n",
    "# Display upto 2 decimal places\n",
    "print( \"accuracy: {:.2f}\".format(metrics.accuracy_score(y_test, y_pred)) )\n",
    "print( \"precision: {:.2f}\".format(metrics.precision_score(y_test, y_pred)) )\n",
    "print( \"recall: {:.2f}\".format(metrics.recall_score(y_test, y_pred)) )"
   ]
  },
  {
   "cell_type": "code",
   "execution_count": 265,
   "metadata": {},
   "outputs": [
    {
     "name": "stdout",
     "output_type": "stream",
     "text": [
      "Class 0: Count = 1172\n",
      "Class 1: Count = 828\n"
     ]
    }
   ],
   "source": [
    "import numpy as np\n",
    "\n",
    "# Display the unique classes present in y_test and their counts\n",
    "unique_classes, class_counts = np.unique(y_test, return_counts=True)\n",
    "\n",
    "for cls, count in zip(unique_classes, class_counts):\n",
    "    print(f\"Class {cls}: Count = {count}\")"
   ]
  },
  {
   "cell_type": "code",
   "execution_count": 266,
   "metadata": {},
   "outputs": [
    {
     "name": "stdout",
     "output_type": "stream",
     "text": [
      "Class 0: Count = 1174\n",
      "Class 1: Count = 826\n"
     ]
    }
   ],
   "source": [
    "import numpy as np\n",
    "\n",
    "# Display the unique classes present in y_test and their counts\n",
    "unique_classes, class_counts = np.unique(y_pred, return_counts=True)\n",
    "\n",
    "for cls, count in zip(unique_classes, class_counts):\n",
    "    print(f\"Class {cls}: Count = {count}\")"
   ]
  },
  {
   "cell_type": "code",
   "execution_count": 267,
   "metadata": {
    "scrolled": true
   },
   "outputs": [
    {
     "data": {
      "image/png": "[encoded data removed]",
      "text/plain": [
       "<Figure size 640x480 with 2 Axes>"
      ]
     },
     "metadata": {},
     "output_type": "display_data"
    }
   ],
   "source": [
    "from sklearn.metrics import confusion_matrix\n",
    "import seaborn as sns\n",
    "import matplotlib.pyplot as plt\n",
    "\n",
    "# Call a method predict by using an object classifier 'cls_svm'\n",
    "y_predict = cls_svm.predict(X_test)\n",
    "\n",
    "# Calculate cm by calling a method named as 'confusion_matrix'\n",
    "cm = confusion_matrix(y_test, y_predict)\n",
    "\n",
    "# Define labels for the confusion matrix\n",
    "labels = ['True Positive', 'False Negative', 'False Positive', 'True Negative']\n",
    "\n",
    "# Create a heatmap with annotations and sum of rows/columns\n",
    "sns.heatmap(cm, annot=True, fmt='d', cmap='Blues', xticklabels=['Predicted 0', 'Predicted 1', 'Sum'], yticklabels=['Actual 0', 'Actual 1', 'Sum'])\n",
    "\n",
    "# Add labels for TP, FP, TN, FN\n",
    "for i in range(len(labels)):\n",
    "    plt.text(i % 2 + 0.5, int(i / 2) + 0.75, str(labels[i]) + \" = \" + str(cm.flatten()[i]), color='red', fontsize=10, ha='center', va='center')\n",
    "\n",
    "# Add sum of rows and columns\n",
    "for i in range(2):\n",
    "    plt.text(2.5, i + 0.75, str(cm.sum(axis=1)[i]), color='blue', fontsize=10, ha='center', va='center')\n",
    "    plt.text(i + 0.5, 2.75, str(cm.sum(axis=0)[i]), color='blue', fontsize=10, ha='center', va='center')\n",
    "\n",
    "# Add overall sum\n",
    "plt.text(2.5, 2.75, str(cm.sum()), color='blue', fontsize=12, ha='center', va='center')\n",
    "\n",
    "# Show the plot\n",
    "plt.show()\n"
   ]
  },
  {
   "cell_type": "markdown",
   "metadata": {},
   "source": [
    "## What does the confusion_matrix information result mean?\n",
    "Out of 2000 students we predicted that 1174 would fail and 826 would pass. "
   ]
  },
  {
   "cell_type": "markdown",
   "metadata": {},
   "source": [
    "## Hyperparameter Tuning\n",
    "Test a number of parameters to discover which is optimal. The parametes chosen are:\n",
    "- choice of kernal\n",
    "- Level of \"C\" \n",
    "- Level of Gamma "
   ]
  },
  {
   "cell_type": "code",
   "execution_count": 292,
   "metadata": {},
   "outputs": [],
   "source": [
    "#create a KFold with 5 splits\n",
    "folds = KFold(n_splits = 5, shuffle = True, random_state = 4)"
   ]
  },
  {
   "cell_type": "code",
   "execution_count": 295,
   "metadata": {},
   "outputs": [],
   "source": [
    "hyper_params = [ {'gamma': [0.01, 0.001, 0.0001],\n",
    "                  'C': [1, 10, 100, 1000],\n",
    "                  'kernel': ['linear', 'rbf', 'poly']}]"
   ]
  },
  {
   "cell_type": "code",
   "execution_count": 296,
   "metadata": {},
   "outputs": [],
   "source": [
    "Model = svm.SVC(kernel=\"linear\")  #Model"
   ]
  },
  {
   "cell_type": "code",
   "execution_count": 297,
   "metadata": {},
   "outputs": [],
   "source": [
    "# set up GridSearchCV()\n",
    "model_cv = GridSearchCV(estimator = Model, \n",
    "                        param_grid = hyper_params, \n",
    "                        scoring= 'accuracy', \n",
    "                        cv = folds, \n",
    "                        verbose = 2,\n",
    "                        return_train_score=True) "
   ]
  },
  {
   "cell_type": "code",
   "execution_count": 298,
   "metadata": {},
   "outputs": [
    {
     "name": "stdout",
     "output_type": "stream",
     "text": [
      "Fitting 5 folds for each of 36 candidates, totalling 180 fits\n",
      "[CV] END .....................C=1, gamma=0.01, kernel=linear; total time=   0.2s\n",
      "[CV] END .....................C=1, gamma=0.01, kernel=linear; total time=   0.1s\n",
      "[CV] END .....................C=1, gamma=0.01, kernel=linear; total time=   0.1s\n",
      "[CV] END .....................C=1, gamma=0.01, kernel=linear; total time=   0.1s\n",
      "[CV] END .....................C=1, gamma=0.01, kernel=linear; total time=   0.1s\n",
      "[CV] END ........................C=1, gamma=0.01, kernel=rbf; total time=   0.2s\n",
      "[CV] END ........................C=1, gamma=0.01, kernel=rbf; total time=   0.2s\n",
      "[CV] END ........................C=1, gamma=0.01, kernel=rbf; total time=   0.2s\n",
      "[CV] END ........................C=1, gamma=0.01, kernel=rbf; total time=   0.2s\n",
      "[CV] END ........................C=1, gamma=0.01, kernel=rbf; total time=   0.2s\n",
      "[CV] END .......................C=1, gamma=0.01, kernel=poly; total time=   3.1s\n",
      "[CV] END .......................C=1, gamma=0.01, kernel=poly; total time=   5.2s\n",
      "[CV] END .......................C=1, gamma=0.01, kernel=poly; total time=   4.2s\n",
      "[CV] END .......................C=1, gamma=0.01, kernel=poly; total time=   3.1s\n",
      "[CV] END .......................C=1, gamma=0.01, kernel=poly; total time=   3.6s\n",
      "[CV] END ....................C=1, gamma=0.001, kernel=linear; total time=   0.1s\n",
      "[CV] END ....................C=1, gamma=0.001, kernel=linear; total time=   0.1s\n",
      "[CV] END ....................C=1, gamma=0.001, kernel=linear; total time=   0.1s\n",
      "[CV] END ....................C=1, gamma=0.001, kernel=linear; total time=   0.0s\n",
      "[CV] END ....................C=1, gamma=0.001, kernel=linear; total time=   0.1s\n",
      "[CV] END .......................C=1, gamma=0.001, kernel=rbf; total time=   0.2s\n",
      "[CV] END .......................C=1, gamma=0.001, kernel=rbf; total time=   0.7s\n",
      "[CV] END .......................C=1, gamma=0.001, kernel=rbf; total time=   0.3s\n",
      "[CV] END .......................C=1, gamma=0.001, kernel=rbf; total time=   0.2s\n",
      "[CV] END .......................C=1, gamma=0.001, kernel=rbf; total time=   0.2s\n",
      "[CV] END ......................C=1, gamma=0.001, kernel=poly; total time=   0.0s\n",
      "[CV] END ......................C=1, gamma=0.001, kernel=poly; total time=   0.1s\n",
      "[CV] END ......................C=1, gamma=0.001, kernel=poly; total time=   0.3s\n",
      "[CV] END ......................C=1, gamma=0.001, kernel=poly; total time=   0.2s\n",
      "[CV] END ......................C=1, gamma=0.001, kernel=poly; total time=   0.0s\n",
      "[CV] END ...................C=1, gamma=0.0001, kernel=linear; total time=   0.1s\n",
      "[CV] END ...................C=1, gamma=0.0001, kernel=linear; total time=   0.1s\n",
      "[CV] END ...................C=1, gamma=0.0001, kernel=linear; total time=   0.1s\n",
      "[CV] END ...................C=1, gamma=0.0001, kernel=linear; total time=   0.1s\n",
      "[CV] END ...................C=1, gamma=0.0001, kernel=linear; total time=   0.1s\n",
      "[CV] END ......................C=1, gamma=0.0001, kernel=rbf; total time=   0.4s\n",
      "[CV] END ......................C=1, gamma=0.0001, kernel=rbf; total time=   0.7s\n",
      "[CV] END ......................C=1, gamma=0.0001, kernel=rbf; total time=   0.5s\n",
      "[CV] END ......................C=1, gamma=0.0001, kernel=rbf; total time=   0.5s\n",
      "[CV] END ......................C=1, gamma=0.0001, kernel=rbf; total time=   0.4s\n",
      "[CV] END .....................C=1, gamma=0.0001, kernel=poly; total time=   0.2s\n",
      "[CV] END .....................C=1, gamma=0.0001, kernel=poly; total time=   0.6s\n",
      "[CV] END .....................C=1, gamma=0.0001, kernel=poly; total time=   0.2s\n",
      "[CV] END .....................C=1, gamma=0.0001, kernel=poly; total time=   0.2s\n",
      "[CV] END .....................C=1, gamma=0.0001, kernel=poly; total time=   0.2s\n",
      "[CV] END ....................C=10, gamma=0.01, kernel=linear; total time=   0.7s\n",
      "[CV] END ....................C=10, gamma=0.01, kernel=linear; total time=   1.0s\n",
      "[CV] END ....................C=10, gamma=0.01, kernel=linear; total time=   0.4s\n",
      "[CV] END ....................C=10, gamma=0.01, kernel=linear; total time=   0.3s\n",
      "[CV] END ....................C=10, gamma=0.01, kernel=linear; total time=   0.3s\n",
      "[CV] END .......................C=10, gamma=0.01, kernel=rbf; total time=   0.1s\n",
      "[CV] END .......................C=10, gamma=0.01, kernel=rbf; total time=   0.2s\n",
      "[CV] END .......................C=10, gamma=0.01, kernel=rbf; total time=   0.3s\n",
      "[CV] END .......................C=10, gamma=0.01, kernel=rbf; total time=   0.1s\n",
      "[CV] END .......................C=10, gamma=0.01, kernel=rbf; total time=   0.1s\n",
      "[CV] END ......................C=10, gamma=0.01, kernel=poly; total time=  20.3s\n",
      "[CV] END ......................C=10, gamma=0.01, kernel=poly; total time=  17.1s\n",
      "[CV] END ......................C=10, gamma=0.01, kernel=poly; total time=  20.0s\n",
      "[CV] END ......................C=10, gamma=0.01, kernel=poly; total time=  37.5s\n",
      "[CV] END ......................C=10, gamma=0.01, kernel=poly; total time=  22.3s\n",
      "[CV] END ...................C=10, gamma=0.001, kernel=linear; total time=   0.3s\n",
      "[CV] END ...................C=10, gamma=0.001, kernel=linear; total time=   0.4s\n",
      "[CV] END ...................C=10, gamma=0.001, kernel=linear; total time=   0.9s\n",
      "[CV] END ...................C=10, gamma=0.001, kernel=linear; total time=   0.9s\n",
      "[CV] END ...................C=10, gamma=0.001, kernel=linear; total time=   0.3s\n",
      "[CV] END ......................C=10, gamma=0.001, kernel=rbf; total time=   0.2s\n",
      "[CV] END ......................C=10, gamma=0.001, kernel=rbf; total time=   0.2s\n",
      "[CV] END ......................C=10, gamma=0.001, kernel=rbf; total time=   0.1s\n",
      "[CV] END ......................C=10, gamma=0.001, kernel=rbf; total time=   0.2s\n",
      "[CV] END ......................C=10, gamma=0.001, kernel=rbf; total time=   0.3s\n",
      "[CV] END .....................C=10, gamma=0.001, kernel=poly; total time=   0.4s\n",
      "[CV] END .....................C=10, gamma=0.001, kernel=poly; total time=   0.3s\n",
      "[CV] END .....................C=10, gamma=0.001, kernel=poly; total time=   0.1s\n",
      "[CV] END .....................C=10, gamma=0.001, kernel=poly; total time=   0.1s\n",
      "[CV] END .....................C=10, gamma=0.001, kernel=poly; total time=   0.1s\n",
      "[CV] END ..................C=10, gamma=0.0001, kernel=linear; total time=   0.3s\n",
      "[CV] END ..................C=10, gamma=0.0001, kernel=linear; total time=   0.3s\n",
      "[CV] END ..................C=10, gamma=0.0001, kernel=linear; total time=   0.3s\n",
      "[CV] END ..................C=10, gamma=0.0001, kernel=linear; total time=   0.3s\n",
      "[CV] END ..................C=10, gamma=0.0001, kernel=linear; total time=   0.6s\n",
      "[CV] END .....................C=10, gamma=0.0001, kernel=rbf; total time=   0.7s\n",
      "[CV] END .....................C=10, gamma=0.0001, kernel=rbf; total time=   0.2s\n",
      "[CV] END .....................C=10, gamma=0.0001, kernel=rbf; total time=   0.2s\n",
      "[CV] END .....................C=10, gamma=0.0001, kernel=rbf; total time=   0.2s\n",
      "[CV] END .....................C=10, gamma=0.0001, kernel=rbf; total time=   0.2s\n",
      "[CV] END ....................C=10, gamma=0.0001, kernel=poly; total time=   0.2s\n",
      "[CV] END ....................C=10, gamma=0.0001, kernel=poly; total time=   0.1s\n",
      "[CV] END ....................C=10, gamma=0.0001, kernel=poly; total time=   0.1s\n",
      "[CV] END ....................C=10, gamma=0.0001, kernel=poly; total time=   0.1s\n",
      "[CV] END ....................C=10, gamma=0.0001, kernel=poly; total time=   0.1s\n",
      "[CV] END ...................C=100, gamma=0.01, kernel=linear; total time=   3.2s\n",
      "[CV] END ...................C=100, gamma=0.01, kernel=linear; total time=   2.4s\n",
      "[CV] END ...................C=100, gamma=0.01, kernel=linear; total time=   3.0s\n",
      "[CV] END ...................C=100, gamma=0.01, kernel=linear; total time=   2.4s\n",
      "[CV] END ...................C=100, gamma=0.01, kernel=linear; total time=   2.2s\n",
      "[CV] END ......................C=100, gamma=0.01, kernel=rbf; total time=   0.2s\n",
      "[CV] END ......................C=100, gamma=0.01, kernel=rbf; total time=   0.2s\n",
      "[CV] END ......................C=100, gamma=0.01, kernel=rbf; total time=   0.2s\n",
      "[CV] END ......................C=100, gamma=0.01, kernel=rbf; total time=   0.3s\n",
      "[CV] END ......................C=100, gamma=0.01, kernel=rbf; total time=   0.2s\n",
      "[CV] END .....................C=100, gamma=0.01, kernel=poly; total time=  50.9s\n",
      "[CV] END .....................C=100, gamma=0.01, kernel=poly; total time=  50.3s\n",
      "[CV] END .....................C=100, gamma=0.01, kernel=poly; total time=  50.7s\n",
      "[CV] END .....................C=100, gamma=0.01, kernel=poly; total time=  47.3s\n",
      "[CV] END .....................C=100, gamma=0.01, kernel=poly; total time=  40.7s\n",
      "[CV] END ..................C=100, gamma=0.001, kernel=linear; total time=   2.7s\n",
      "[CV] END ..................C=100, gamma=0.001, kernel=linear; total time=   2.9s\n",
      "[CV] END ..................C=100, gamma=0.001, kernel=linear; total time=   3.0s\n",
      "[CV] END ..................C=100, gamma=0.001, kernel=linear; total time=   1.7s\n",
      "[CV] END ..................C=100, gamma=0.001, kernel=linear; total time=   2.5s\n",
      "[CV] END .....................C=100, gamma=0.001, kernel=rbf; total time=   0.1s\n",
      "[CV] END .....................C=100, gamma=0.001, kernel=rbf; total time=   0.1s\n",
      "[CV] END .....................C=100, gamma=0.001, kernel=rbf; total time=   0.4s\n",
      "[CV] END .....................C=100, gamma=0.001, kernel=rbf; total time=   0.2s\n",
      "[CV] END .....................C=100, gamma=0.001, kernel=rbf; total time=   0.1s\n",
      "[CV] END ....................C=100, gamma=0.001, kernel=poly; total time=   0.5s\n",
      "[CV] END ....................C=100, gamma=0.001, kernel=poly; total time=   0.5s\n",
      "[CV] END ....................C=100, gamma=0.001, kernel=poly; total time=   1.3s\n",
      "[CV] END ....................C=100, gamma=0.001, kernel=poly; total time=   0.6s\n",
      "[CV] END ....................C=100, gamma=0.001, kernel=poly; total time=   0.4s\n",
      "[CV] END .................C=100, gamma=0.0001, kernel=linear; total time=   2.3s\n",
      "[CV] END .................C=100, gamma=0.0001, kernel=linear; total time=   3.1s\n",
      "[CV] END .................C=100, gamma=0.0001, kernel=linear; total time=   2.9s\n",
      "[CV] END .................C=100, gamma=0.0001, kernel=linear; total time=   1.6s\n",
      "[CV] END .................C=100, gamma=0.0001, kernel=linear; total time=   2.4s\n",
      "[CV] END ....................C=100, gamma=0.0001, kernel=rbf; total time=   0.1s\n",
      "[CV] END ....................C=100, gamma=0.0001, kernel=rbf; total time=   0.3s\n",
      "[CV] END ....................C=100, gamma=0.0001, kernel=rbf; total time=   0.5s\n",
      "[CV] END ....................C=100, gamma=0.0001, kernel=rbf; total time=   0.1s\n",
      "[CV] END ....................C=100, gamma=0.0001, kernel=rbf; total time=   0.1s\n",
      "[CV] END ...................C=100, gamma=0.0001, kernel=poly; total time=   0.1s\n",
      "[CV] END ...................C=100, gamma=0.0001, kernel=poly; total time=   0.1s\n",
      "[CV] END ...................C=100, gamma=0.0001, kernel=poly; total time=   0.1s\n",
      "[CV] END ...................C=100, gamma=0.0001, kernel=poly; total time=   0.1s\n",
      "[CV] END ...................C=100, gamma=0.0001, kernel=poly; total time=   0.3s\n",
      "[CV] END ..................C=1000, gamma=0.01, kernel=linear; total time=  20.2s\n",
      "[CV] END ..................C=1000, gamma=0.01, kernel=linear; total time=  27.7s\n",
      "[CV] END ..................C=1000, gamma=0.01, kernel=linear; total time=  18.7s\n",
      "[CV] END ..................C=1000, gamma=0.01, kernel=linear; total time=  19.5s\n",
      "[CV] END ..................C=1000, gamma=0.01, kernel=linear; total time=  18.6s\n",
      "[CV] END .....................C=1000, gamma=0.01, kernel=rbf; total time=   0.4s\n",
      "[CV] END .....................C=1000, gamma=0.01, kernel=rbf; total time=   0.4s\n",
      "[CV] END .....................C=1000, gamma=0.01, kernel=rbf; total time=   0.5s\n",
      "[CV] END .....................C=1000, gamma=0.01, kernel=rbf; total time=   0.9s\n",
      "[CV] END .....................C=1000, gamma=0.01, kernel=rbf; total time=   0.9s\n",
      "[CV] END ....................C=1000, gamma=0.01, kernel=poly; total time=  56.7s\n",
      "[CV] END ....................C=1000, gamma=0.01, kernel=poly; total time=  33.6s\n",
      "[CV] END ....................C=1000, gamma=0.01, kernel=poly; total time=  53.2s\n",
      "[CV] END ....................C=1000, gamma=0.01, kernel=poly; total time= 1.1min\n",
      "[CV] END ....................C=1000, gamma=0.01, kernel=poly; total time=  60.0s\n",
      "[CV] END .................C=1000, gamma=0.001, kernel=linear; total time=  20.0s\n",
      "[CV] END .................C=1000, gamma=0.001, kernel=linear; total time=  27.3s\n",
      "[CV] END .................C=1000, gamma=0.001, kernel=linear; total time=  17.0s\n",
      "[CV] END .................C=1000, gamma=0.001, kernel=linear; total time=  21.3s\n",
      "[CV] END .................C=1000, gamma=0.001, kernel=linear; total time=  19.3s\n",
      "[CV] END ....................C=1000, gamma=0.001, kernel=rbf; total time=   0.4s\n",
      "[CV] END ....................C=1000, gamma=0.001, kernel=rbf; total time=   0.2s\n",
      "[CV] END ....................C=1000, gamma=0.001, kernel=rbf; total time=   0.2s\n",
      "[CV] END ....................C=1000, gamma=0.001, kernel=rbf; total time=   0.2s\n",
      "[CV] END ....................C=1000, gamma=0.001, kernel=rbf; total time=   0.1s\n",
      "[CV] END ...................C=1000, gamma=0.001, kernel=poly; total time=   4.5s\n",
      "[CV] END ...................C=1000, gamma=0.001, kernel=poly; total time=   5.9s\n",
      "[CV] END ...................C=1000, gamma=0.001, kernel=poly; total time=   6.4s\n",
      "[CV] END ...................C=1000, gamma=0.001, kernel=poly; total time=   3.6s\n",
      "[CV] END ...................C=1000, gamma=0.001, kernel=poly; total time=   4.6s\n",
      "[CV] END ................C=1000, gamma=0.0001, kernel=linear; total time=  20.5s\n",
      "[CV] END ................C=1000, gamma=0.0001, kernel=linear; total time=  26.4s\n",
      "[CV] END ................C=1000, gamma=0.0001, kernel=linear; total time=  17.7s\n",
      "[CV] END ................C=1000, gamma=0.0001, kernel=linear; total time=  18.9s\n",
      "[CV] END ................C=1000, gamma=0.0001, kernel=linear; total time=  18.4s\n",
      "[CV] END ...................C=1000, gamma=0.0001, kernel=rbf; total time=   0.1s\n",
      "[CV] END ...................C=1000, gamma=0.0001, kernel=rbf; total time=   0.1s\n",
      "[CV] END ...................C=1000, gamma=0.0001, kernel=rbf; total time=   0.1s\n",
      "[CV] END ...................C=1000, gamma=0.0001, kernel=rbf; total time=   0.5s\n",
      "[CV] END ...................C=1000, gamma=0.0001, kernel=rbf; total time=   0.4s\n",
      "[CV] END ..................C=1000, gamma=0.0001, kernel=poly; total time=   0.0s\n",
      "[CV] END ..................C=1000, gamma=0.0001, kernel=poly; total time=   0.1s\n",
      "[CV] END ..................C=1000, gamma=0.0001, kernel=poly; total time=   0.0s\n",
      "[CV] END ..................C=1000, gamma=0.0001, kernel=poly; total time=   0.0s\n",
      "[CV] END ..................C=1000, gamma=0.0001, kernel=poly; total time=   0.0s\n"
     ]
    },
    {
     "data": {
      "text/html": [
       "<style>#sk-container-id-2 {color: black;background-color: white;}#sk-container-id-2 pre{padding: 0;}#sk-container-id-2 div.sk-toggleable {background-color: white;}#sk-container-id-2 label.sk-toggleable__label {cursor: pointer;display: block;width: 100%;margin-bottom: 0;padding: 0.3em;box-sizing: border-box;text-align: center;}#sk-container-id-2 label.sk-toggleable__label-arrow:before {content: \"▸\";float: left;margin-right: 0.25em;color: #696969;}#sk-container-id-2 label.sk-toggleable__label-arrow:hover:before {color: black;}#sk-container-id-2 div.sk-estimator:hover label.sk-toggleable__label-arrow:before {color: black;}#sk-container-id-2 div.sk-toggleable__content {max-height: 0;max-width: 0;overflow: hidden;text-align: left;background-color: #f0f8ff;}#sk-container-id-2 div.sk-toggleable__content pre {margin: 0.2em;color: black;border-radius: 0.25em;background-color: #f0f8ff;}#sk-container-id-2 input.sk-toggleable__control:checked~div.sk-toggleable__content {max-height: 200px;max-width: 100%;overflow: auto;}#sk-container-id-2 input.sk-toggleable__control:checked~label.sk-toggleable__label-arrow:before {content: \"▾\";}#sk-container-id-2 div.sk-estimator input.sk-toggleable__control:checked~label.sk-toggleable__label {background-color: #d4ebff;}#sk-container-id-2 div.sk-label input.sk-toggleable__control:checked~label.sk-toggleable__label {background-color: #d4ebff;}#sk-container-id-2 input.sk-hidden--visually {border: 0;clip: rect(1px 1px 1px 1px);clip: rect(1px, 1px, 1px, 1px);height: 1px;margin: -1px;overflow: hidden;padding: 0;position: absolute;width: 1px;}#sk-container-id-2 div.sk-estimator {font-family: monospace;background-color: #f0f8ff;border: 1px dotted black;border-radius: 0.25em;box-sizing: border-box;margin-bottom: 0.5em;}#sk-container-id-2 div.sk-estimator:hover {background-color: #d4ebff;}#sk-container-id-2 div.sk-parallel-item::after {content: \"\";width: 100%;border-bottom: 1px solid gray;flex-grow: 1;}#sk-container-id-2 div.sk-label:hover label.sk-toggleable__label {background-color: #d4ebff;}#sk-container-id-2 div.sk-serial::before {content: \"\";position: absolute;border-left: 1px solid gray;box-sizing: border-box;top: 0;bottom: 0;left: 50%;z-index: 0;}#sk-container-id-2 div.sk-serial {display: flex;flex-direction: column;align-items: center;background-color: white;padding-right: 0.2em;padding-left: 0.2em;position: relative;}#sk-container-id-2 div.sk-item {position: relative;z-index: 1;}#sk-container-id-2 div.sk-parallel {display: flex;align-items: stretch;justify-content: center;background-color: white;position: relative;}#sk-container-id-2 div.sk-item::before, #sk-container-id-2 div.sk-parallel-item::before {content: \"\";position: absolute;border-left: 1px solid gray;box-sizing: border-box;top: 0;bottom: 0;left: 50%;z-index: -1;}#sk-container-id-2 div.sk-parallel-item {display: flex;flex-direction: column;z-index: 1;position: relative;background-color: white;}#sk-container-id-2 div.sk-parallel-item:first-child::after {align-self: flex-end;width: 50%;}#sk-container-id-2 div.sk-parallel-item:last-child::after {align-self: flex-start;width: 50%;}#sk-container-id-2 div.sk-parallel-item:only-child::after {width: 0;}#sk-container-id-2 div.sk-dashed-wrapped {border: 1px dashed gray;margin: 0 0.4em 0.5em 0.4em;box-sizing: border-box;padding-bottom: 0.4em;background-color: white;}#sk-container-id-2 div.sk-label label {font-family: monospace;font-weight: bold;display: inline-block;line-height: 1.2em;}#sk-container-id-2 div.sk-label-container {text-align: center;}#sk-container-id-2 div.sk-container {/* jupyter's `normalize.less` sets `[hidden] { display: none; }` but bootstrap.min.css set `[hidden] { display: none !important; }` so we also need the `!important` here to be able to override the default hidden behavior on the sphinx rendered scikit-learn.org. See: https://github.com/scikit-learn/scikit-learn/issues/21755 */display: inline-block !important;position: relative;}#sk-container-id-2 div.sk-text-repr-fallback {display: none;}</style><div id=\"sk-container-id-2\" class=\"sk-top-container\"><div class=\"sk-text-repr-fallback\"><pre>GridSearchCV(cv=KFold(n_splits=5, random_state=4, shuffle=True),\n",
       "             estimator=SVC(kernel=&#x27;linear&#x27;),\n",
       "             param_grid=[{&#x27;C&#x27;: [1, 10, 100, 1000],\n",
       "                          &#x27;gamma&#x27;: [0.01, 0.001, 0.0001],\n",
       "                          &#x27;kernel&#x27;: [&#x27;linear&#x27;, &#x27;rbf&#x27;, &#x27;poly&#x27;]}],\n",
       "             return_train_score=True, scoring=&#x27;accuracy&#x27;, verbose=2)</pre><b>In a Jupyter environment, please rerun this cell to show the HTML representation or trust the notebook. <br />On GitHub, the HTML representation is unable to render, please try loading this page with nbviewer.org.</b></div><div class=\"sk-container\" hidden><div class=\"sk-item sk-dashed-wrapped\"><div class=\"sk-label-container\"><div class=\"sk-label sk-toggleable\"><input class=\"sk-toggleable__control sk-hidden--visually\" id=\"sk-estimator-id-4\" type=\"checkbox\" ><label for=\"sk-estimator-id-4\" class=\"sk-toggleable__label sk-toggleable__label-arrow\">GridSearchCV</label><div class=\"sk-toggleable__content\"><pre>GridSearchCV(cv=KFold(n_splits=5, random_state=4, shuffle=True),\n",
       "             estimator=SVC(kernel=&#x27;linear&#x27;),\n",
       "             param_grid=[{&#x27;C&#x27;: [1, 10, 100, 1000],\n",
       "                          &#x27;gamma&#x27;: [0.01, 0.001, 0.0001],\n",
       "                          &#x27;kernel&#x27;: [&#x27;linear&#x27;, &#x27;rbf&#x27;, &#x27;poly&#x27;]}],\n",
       "             return_train_score=True, scoring=&#x27;accuracy&#x27;, verbose=2)</pre></div></div></div><div class=\"sk-parallel\"><div class=\"sk-parallel-item\"><div class=\"sk-item\"><div class=\"sk-label-container\"><div class=\"sk-label sk-toggleable\"><input class=\"sk-toggleable__control sk-hidden--visually\" id=\"sk-estimator-id-5\" type=\"checkbox\" ><label for=\"sk-estimator-id-5\" class=\"sk-toggleable__label sk-toggleable__label-arrow\">estimator: SVC</label><div class=\"sk-toggleable__content\"><pre>SVC(kernel=&#x27;linear&#x27;)</pre></div></div></div><div class=\"sk-serial\"><div class=\"sk-item\"><div class=\"sk-estimator sk-toggleable\"><input class=\"sk-toggleable__control sk-hidden--visually\" id=\"sk-estimator-id-6\" type=\"checkbox\" ><label for=\"sk-estimator-id-6\" class=\"sk-toggleable__label sk-toggleable__label-arrow\">SVC</label><div class=\"sk-toggleable__content\"><pre>SVC(kernel=&#x27;linear&#x27;)</pre></div></div></div></div></div></div></div></div></div></div>"
      ],
      "text/plain": [
       "GridSearchCV(cv=KFold(n_splits=5, random_state=4, shuffle=True),\n",
       "             estimator=SVC(kernel='linear'),\n",
       "             param_grid=[{'C': [1, 10, 100, 1000],\n",
       "                          'gamma': [0.01, 0.001, 0.0001],\n",
       "                          'kernel': ['linear', 'rbf', 'poly']}],\n",
       "             return_train_score=True, scoring='accuracy', verbose=2)"
      ]
     },
     "execution_count": 298,
     "metadata": {},
     "output_type": "execute_result"
    }
   ],
   "source": [
    "# fit the model\n",
    "model_cv.fit(X_train, y_train)       "
   ]
  },
  {
   "cell_type": "code",
   "execution_count": 299,
   "metadata": {},
   "outputs": [
    {
     "data": {
      "text/html": [
       "<div>\n",
       "<style scoped>\n",
       "    .dataframe tbody tr th:only-of-type {\n",
       "        vertical-align: middle;\n",
       "    }\n",
       "\n",
       "    .dataframe tbody tr th {\n",
       "        vertical-align: top;\n",
       "    }\n",
       "\n",
       "    .dataframe thead th {\n",
       "        text-align: right;\n",
       "    }\n",
       "</style>\n",
       "<table border=\"1\" class=\"dataframe\">\n",
       "  <thead>\n",
       "    <tr style=\"text-align: right;\">\n",
       "      <th></th>\n",
       "      <th>mean_fit_time</th>\n",
       "      <th>std_fit_time</th>\n",
       "      <th>mean_score_time</th>\n",
       "      <th>std_score_time</th>\n",
       "      <th>param_C</th>\n",
       "      <th>param_gamma</th>\n",
       "      <th>param_kernel</th>\n",
       "      <th>params</th>\n",
       "      <th>split0_test_score</th>\n",
       "      <th>split1_test_score</th>\n",
       "      <th>...</th>\n",
       "      <th>mean_test_score</th>\n",
       "      <th>std_test_score</th>\n",
       "      <th>rank_test_score</th>\n",
       "      <th>split0_train_score</th>\n",
       "      <th>split1_train_score</th>\n",
       "      <th>split2_train_score</th>\n",
       "      <th>split3_train_score</th>\n",
       "      <th>split4_train_score</th>\n",
       "      <th>mean_train_score</th>\n",
       "      <th>std_train_score</th>\n",
       "    </tr>\n",
       "  </thead>\n",
       "  <tbody>\n",
       "    <tr>\n",
       "      <th>0</th>\n",
       "      <td>0.168746</td>\n",
       "      <td>0.039644</td>\n",
       "      <td>0.017531</td>\n",
       "      <td>0.002122</td>\n",
       "      <td>1</td>\n",
       "      <td>0.01</td>\n",
       "      <td>linear</td>\n",
       "      <td>{'C': 1, 'gamma': 0.01, 'kernel': 'linear'}</td>\n",
       "      <td>0.962857</td>\n",
       "      <td>0.977143</td>\n",
       "      <td>...</td>\n",
       "      <td>0.970286</td>\n",
       "      <td>0.004836</td>\n",
       "      <td>8</td>\n",
       "      <td>0.972321</td>\n",
       "      <td>0.968571</td>\n",
       "      <td>0.969464</td>\n",
       "      <td>0.970714</td>\n",
       "      <td>0.971071</td>\n",
       "      <td>0.970429</td>\n",
       "      <td>0.001301</td>\n",
       "    </tr>\n",
       "    <tr>\n",
       "      <th>1</th>\n",
       "      <td>0.178298</td>\n",
       "      <td>0.004366</td>\n",
       "      <td>0.091067</td>\n",
       "      <td>0.003188</td>\n",
       "      <td>1</td>\n",
       "      <td>0.01</td>\n",
       "      <td>rbf</td>\n",
       "      <td>{'C': 1, 'gamma': 0.01, 'kernel': 'rbf'}</td>\n",
       "      <td>0.964286</td>\n",
       "      <td>0.973571</td>\n",
       "      <td>...</td>\n",
       "      <td>0.969429</td>\n",
       "      <td>0.003736</td>\n",
       "      <td>27</td>\n",
       "      <td>0.972321</td>\n",
       "      <td>0.971429</td>\n",
       "      <td>0.970179</td>\n",
       "      <td>0.972143</td>\n",
       "      <td>0.972321</td>\n",
       "      <td>0.971679</td>\n",
       "      <td>0.000819</td>\n",
       "    </tr>\n",
       "    <tr>\n",
       "      <th>2</th>\n",
       "      <td>3.931864</td>\n",
       "      <td>0.782435</td>\n",
       "      <td>0.023686</td>\n",
       "      <td>0.010490</td>\n",
       "      <td>1</td>\n",
       "      <td>0.01</td>\n",
       "      <td>poly</td>\n",
       "      <td>{'C': 1, 'gamma': 0.01, 'kernel': 'poly'}</td>\n",
       "      <td>0.961429</td>\n",
       "      <td>0.972857</td>\n",
       "      <td>...</td>\n",
       "      <td>0.969286</td>\n",
       "      <td>0.004333</td>\n",
       "      <td>28</td>\n",
       "      <td>0.973393</td>\n",
       "      <td>0.971964</td>\n",
       "      <td>0.971964</td>\n",
       "      <td>0.973036</td>\n",
       "      <td>0.973036</td>\n",
       "      <td>0.972679</td>\n",
       "      <td>0.000598</td>\n",
       "    </tr>\n",
       "    <tr>\n",
       "      <th>3</th>\n",
       "      <td>0.138896</td>\n",
       "      <td>0.007275</td>\n",
       "      <td>0.015700</td>\n",
       "      <td>0.000742</td>\n",
       "      <td>1</td>\n",
       "      <td>0.001</td>\n",
       "      <td>linear</td>\n",
       "      <td>{'C': 1, 'gamma': 0.001, 'kernel': 'linear'}</td>\n",
       "      <td>0.962857</td>\n",
       "      <td>0.977143</td>\n",
       "      <td>...</td>\n",
       "      <td>0.970286</td>\n",
       "      <td>0.004836</td>\n",
       "      <td>8</td>\n",
       "      <td>0.972321</td>\n",
       "      <td>0.968571</td>\n",
       "      <td>0.969464</td>\n",
       "      <td>0.970714</td>\n",
       "      <td>0.971071</td>\n",
       "      <td>0.970429</td>\n",
       "      <td>0.001301</td>\n",
       "    </tr>\n",
       "    <tr>\n",
       "      <th>4</th>\n",
       "      <td>0.279425</td>\n",
       "      <td>0.119289</td>\n",
       "      <td>0.154022</td>\n",
       "      <td>0.064684</td>\n",
       "      <td>1</td>\n",
       "      <td>0.001</td>\n",
       "      <td>rbf</td>\n",
       "      <td>{'C': 1, 'gamma': 0.001, 'kernel': 'rbf'}</td>\n",
       "      <td>0.961429</td>\n",
       "      <td>0.970714</td>\n",
       "      <td>...</td>\n",
       "      <td>0.967857</td>\n",
       "      <td>0.004403</td>\n",
       "      <td>31</td>\n",
       "      <td>0.970179</td>\n",
       "      <td>0.967321</td>\n",
       "      <td>0.967143</td>\n",
       "      <td>0.967857</td>\n",
       "      <td>0.967679</td>\n",
       "      <td>0.968036</td>\n",
       "      <td>0.001101</td>\n",
       "    </tr>\n",
       "    <tr>\n",
       "      <th>5</th>\n",
       "      <td>0.198920</td>\n",
       "      <td>0.084179</td>\n",
       "      <td>0.029208</td>\n",
       "      <td>0.012720</td>\n",
       "      <td>1</td>\n",
       "      <td>0.001</td>\n",
       "      <td>poly</td>\n",
       "      <td>{'C': 1, 'gamma': 0.001, 'kernel': 'poly'}</td>\n",
       "      <td>0.963571</td>\n",
       "      <td>0.975714</td>\n",
       "      <td>...</td>\n",
       "      <td>0.970286</td>\n",
       "      <td>0.004751</td>\n",
       "      <td>8</td>\n",
       "      <td>0.972143</td>\n",
       "      <td>0.969107</td>\n",
       "      <td>0.970179</td>\n",
       "      <td>0.970893</td>\n",
       "      <td>0.971071</td>\n",
       "      <td>0.970679</td>\n",
       "      <td>0.001006</td>\n",
       "    </tr>\n",
       "    <tr>\n",
       "      <th>6</th>\n",
       "      <td>0.144986</td>\n",
       "      <td>0.006134</td>\n",
       "      <td>0.016564</td>\n",
       "      <td>0.002319</td>\n",
       "      <td>1</td>\n",
       "      <td>0.0001</td>\n",
       "      <td>linear</td>\n",
       "      <td>{'C': 1, 'gamma': 0.0001, 'kernel': 'linear'}</td>\n",
       "      <td>0.962857</td>\n",
       "      <td>0.977143</td>\n",
       "      <td>...</td>\n",
       "      <td>0.970286</td>\n",
       "      <td>0.004836</td>\n",
       "      <td>8</td>\n",
       "      <td>0.972321</td>\n",
       "      <td>0.968571</td>\n",
       "      <td>0.969464</td>\n",
       "      <td>0.970714</td>\n",
       "      <td>0.971071</td>\n",
       "      <td>0.970429</td>\n",
       "      <td>0.001301</td>\n",
       "    </tr>\n",
       "    <tr>\n",
       "      <th>7</th>\n",
       "      <td>0.414522</td>\n",
       "      <td>0.114874</td>\n",
       "      <td>0.204086</td>\n",
       "      <td>0.026823</td>\n",
       "      <td>1</td>\n",
       "      <td>0.0001</td>\n",
       "      <td>rbf</td>\n",
       "      <td>{'C': 1, 'gamma': 0.0001, 'kernel': 'rbf'}</td>\n",
       "      <td>0.947857</td>\n",
       "      <td>0.947143</td>\n",
       "      <td>...</td>\n",
       "      <td>0.947429</td>\n",
       "      <td>0.004300</td>\n",
       "      <td>35</td>\n",
       "      <td>0.948750</td>\n",
       "      <td>0.947500</td>\n",
       "      <td>0.948393</td>\n",
       "      <td>0.948036</td>\n",
       "      <td>0.948214</td>\n",
       "      <td>0.948179</td>\n",
       "      <td>0.000413</td>\n",
       "    </tr>\n",
       "    <tr>\n",
       "      <th>8</th>\n",
       "      <td>0.319722</td>\n",
       "      <td>0.134223</td>\n",
       "      <td>0.065772</td>\n",
       "      <td>0.025247</td>\n",
       "      <td>1</td>\n",
       "      <td>0.0001</td>\n",
       "      <td>poly</td>\n",
       "      <td>{'C': 1, 'gamma': 0.0001, 'kernel': 'poly'}</td>\n",
       "      <td>0.936429</td>\n",
       "      <td>0.933571</td>\n",
       "      <td>...</td>\n",
       "      <td>0.934714</td>\n",
       "      <td>0.003213</td>\n",
       "      <td>36</td>\n",
       "      <td>0.934643</td>\n",
       "      <td>0.935000</td>\n",
       "      <td>0.933929</td>\n",
       "      <td>0.935536</td>\n",
       "      <td>0.935179</td>\n",
       "      <td>0.934857</td>\n",
       "      <td>0.000546</td>\n",
       "    </tr>\n",
       "    <tr>\n",
       "      <th>9</th>\n",
       "      <td>0.604635</td>\n",
       "      <td>0.235779</td>\n",
       "      <td>0.024421</td>\n",
       "      <td>0.011007</td>\n",
       "      <td>10</td>\n",
       "      <td>0.01</td>\n",
       "      <td>linear</td>\n",
       "      <td>{'C': 10, 'gamma': 0.01, 'kernel': 'linear'}</td>\n",
       "      <td>0.962857</td>\n",
       "      <td>0.977857</td>\n",
       "      <td>...</td>\n",
       "      <td>0.970286</td>\n",
       "      <td>0.005002</td>\n",
       "      <td>8</td>\n",
       "      <td>0.972321</td>\n",
       "      <td>0.968750</td>\n",
       "      <td>0.968929</td>\n",
       "      <td>0.970714</td>\n",
       "      <td>0.971071</td>\n",
       "      <td>0.970357</td>\n",
       "      <td>0.001351</td>\n",
       "    </tr>\n",
       "    <tr>\n",
       "      <th>10</th>\n",
       "      <td>0.192093</td>\n",
       "      <td>0.079747</td>\n",
       "      <td>0.077524</td>\n",
       "      <td>0.021654</td>\n",
       "      <td>10</td>\n",
       "      <td>0.01</td>\n",
       "      <td>rbf</td>\n",
       "      <td>{'C': 10, 'gamma': 0.01, 'kernel': 'rbf'}</td>\n",
       "      <td>0.965714</td>\n",
       "      <td>0.970714</td>\n",
       "      <td>...</td>\n",
       "      <td>0.970000</td>\n",
       "      <td>0.002821</td>\n",
       "      <td>22</td>\n",
       "      <td>0.974286</td>\n",
       "      <td>0.973214</td>\n",
       "      <td>0.972143</td>\n",
       "      <td>0.974107</td>\n",
       "      <td>0.974464</td>\n",
       "      <td>0.973643</td>\n",
       "      <td>0.000865</td>\n",
       "    </tr>\n",
       "    <tr>\n",
       "      <th>11</th>\n",
       "      <td>23.522584</td>\n",
       "      <td>7.242638</td>\n",
       "      <td>0.020773</td>\n",
       "      <td>0.009631</td>\n",
       "      <td>10</td>\n",
       "      <td>0.01</td>\n",
       "      <td>poly</td>\n",
       "      <td>{'C': 10, 'gamma': 0.01, 'kernel': 'poly'}</td>\n",
       "      <td>0.963571</td>\n",
       "      <td>0.971429</td>\n",
       "      <td>...</td>\n",
       "      <td>0.970143</td>\n",
       "      <td>0.003709</td>\n",
       "      <td>19</td>\n",
       "      <td>0.973393</td>\n",
       "      <td>0.972857</td>\n",
       "      <td>0.972321</td>\n",
       "      <td>0.972857</td>\n",
       "      <td>0.973929</td>\n",
       "      <td>0.973071</td>\n",
       "      <td>0.000546</td>\n",
       "    </tr>\n",
       "    <tr>\n",
       "      <th>12</th>\n",
       "      <td>0.631639</td>\n",
       "      <td>0.262816</td>\n",
       "      <td>0.021749</td>\n",
       "      <td>0.010368</td>\n",
       "      <td>10</td>\n",
       "      <td>0.001</td>\n",
       "      <td>linear</td>\n",
       "      <td>{'C': 10, 'gamma': 0.001, 'kernel': 'linear'}</td>\n",
       "      <td>0.962857</td>\n",
       "      <td>0.977857</td>\n",
       "      <td>...</td>\n",
       "      <td>0.970286</td>\n",
       "      <td>0.005002</td>\n",
       "      <td>8</td>\n",
       "      <td>0.972321</td>\n",
       "      <td>0.968750</td>\n",
       "      <td>0.968929</td>\n",
       "      <td>0.970714</td>\n",
       "      <td>0.971071</td>\n",
       "      <td>0.970357</td>\n",
       "      <td>0.001351</td>\n",
       "    </tr>\n",
       "    <tr>\n",
       "      <th>13</th>\n",
       "      <td>0.172355</td>\n",
       "      <td>0.019512</td>\n",
       "      <td>0.112278</td>\n",
       "      <td>0.039882</td>\n",
       "      <td>10</td>\n",
       "      <td>0.001</td>\n",
       "      <td>rbf</td>\n",
       "      <td>{'C': 10, 'gamma': 0.001, 'kernel': 'rbf'}</td>\n",
       "      <td>0.962857</td>\n",
       "      <td>0.976429</td>\n",
       "      <td>...</td>\n",
       "      <td>0.970143</td>\n",
       "      <td>0.004682</td>\n",
       "      <td>21</td>\n",
       "      <td>0.973036</td>\n",
       "      <td>0.970000</td>\n",
       "      <td>0.970536</td>\n",
       "      <td>0.971607</td>\n",
       "      <td>0.971964</td>\n",
       "      <td>0.971429</td>\n",
       "      <td>0.001071</td>\n",
       "    </tr>\n",
       "    <tr>\n",
       "      <th>14</th>\n",
       "      <td>0.275119</td>\n",
       "      <td>0.114526</td>\n",
       "      <td>0.025866</td>\n",
       "      <td>0.011454</td>\n",
       "      <td>10</td>\n",
       "      <td>0.001</td>\n",
       "      <td>poly</td>\n",
       "      <td>{'C': 10, 'gamma': 0.001, 'kernel': 'poly'}</td>\n",
       "      <td>0.964286</td>\n",
       "      <td>0.976429</td>\n",
       "      <td>...</td>\n",
       "      <td>0.970714</td>\n",
       "      <td>0.004928</td>\n",
       "      <td>1</td>\n",
       "      <td>0.973036</td>\n",
       "      <td>0.970179</td>\n",
       "      <td>0.970536</td>\n",
       "      <td>0.971607</td>\n",
       "      <td>0.971786</td>\n",
       "      <td>0.971429</td>\n",
       "      <td>0.001010</td>\n",
       "    </tr>\n",
       "    <tr>\n",
       "      <th>15</th>\n",
       "      <td>0.453587</td>\n",
       "      <td>0.111742</td>\n",
       "      <td>0.020169</td>\n",
       "      <td>0.007438</td>\n",
       "      <td>10</td>\n",
       "      <td>0.0001</td>\n",
       "      <td>linear</td>\n",
       "      <td>{'C': 10, 'gamma': 0.0001, 'kernel': 'linear'}</td>\n",
       "      <td>0.962857</td>\n",
       "      <td>0.977857</td>\n",
       "      <td>...</td>\n",
       "      <td>0.970286</td>\n",
       "      <td>0.005002</td>\n",
       "      <td>8</td>\n",
       "      <td>0.972321</td>\n",
       "      <td>0.968750</td>\n",
       "      <td>0.968929</td>\n",
       "      <td>0.970714</td>\n",
       "      <td>0.971071</td>\n",
       "      <td>0.970357</td>\n",
       "      <td>0.001351</td>\n",
       "    </tr>\n",
       "    <tr>\n",
       "      <th>16</th>\n",
       "      <td>0.278487</td>\n",
       "      <td>0.115783</td>\n",
       "      <td>0.147589</td>\n",
       "      <td>0.060448</td>\n",
       "      <td>10</td>\n",
       "      <td>0.0001</td>\n",
       "      <td>rbf</td>\n",
       "      <td>{'C': 10, 'gamma': 0.0001, 'kernel': 'rbf'}</td>\n",
       "      <td>0.962143</td>\n",
       "      <td>0.970714</td>\n",
       "      <td>...</td>\n",
       "      <td>0.967714</td>\n",
       "      <td>0.004481</td>\n",
       "      <td>32</td>\n",
       "      <td>0.970179</td>\n",
       "      <td>0.968393</td>\n",
       "      <td>0.967500</td>\n",
       "      <td>0.968393</td>\n",
       "      <td>0.968036</td>\n",
       "      <td>0.968500</td>\n",
       "      <td>0.000901</td>\n",
       "    </tr>\n",
       "    <tr>\n",
       "      <th>17</th>\n",
       "      <td>0.206212</td>\n",
       "      <td>0.038310</td>\n",
       "      <td>0.044097</td>\n",
       "      <td>0.002775</td>\n",
       "      <td>10</td>\n",
       "      <td>0.0001</td>\n",
       "      <td>poly</td>\n",
       "      <td>{'C': 10, 'gamma': 0.0001, 'kernel': 'poly'}</td>\n",
       "      <td>0.962857</td>\n",
       "      <td>0.967857</td>\n",
       "      <td>...</td>\n",
       "      <td>0.964000</td>\n",
       "      <td>0.003017</td>\n",
       "      <td>34</td>\n",
       "      <td>0.965357</td>\n",
       "      <td>0.963214</td>\n",
       "      <td>0.964107</td>\n",
       "      <td>0.964286</td>\n",
       "      <td>0.963750</td>\n",
       "      <td>0.964143</td>\n",
       "      <td>0.000709</td>\n",
       "    </tr>\n",
       "    <tr>\n",
       "      <th>18</th>\n",
       "      <td>2.716382</td>\n",
       "      <td>0.361135</td>\n",
       "      <td>0.020664</td>\n",
       "      <td>0.009429</td>\n",
       "      <td>100</td>\n",
       "      <td>0.01</td>\n",
       "      <td>linear</td>\n",
       "      <td>{'C': 100, 'gamma': 0.01, 'kernel': 'linear'}</td>\n",
       "      <td>0.962857</td>\n",
       "      <td>0.977857</td>\n",
       "      <td>...</td>\n",
       "      <td>0.970429</td>\n",
       "      <td>0.005002</td>\n",
       "      <td>5</td>\n",
       "      <td>0.972679</td>\n",
       "      <td>0.968750</td>\n",
       "      <td>0.968929</td>\n",
       "      <td>0.970714</td>\n",
       "      <td>0.971071</td>\n",
       "      <td>0.970429</td>\n",
       "      <td>0.001458</td>\n",
       "    </tr>\n",
       "    <tr>\n",
       "      <th>19</th>\n",
       "      <td>0.229446</td>\n",
       "      <td>0.074598</td>\n",
       "      <td>0.079532</td>\n",
       "      <td>0.029599</td>\n",
       "      <td>100</td>\n",
       "      <td>0.01</td>\n",
       "      <td>rbf</td>\n",
       "      <td>{'C': 100, 'gamma': 0.01, 'kernel': 'rbf'}</td>\n",
       "      <td>0.966429</td>\n",
       "      <td>0.965714</td>\n",
       "      <td>...</td>\n",
       "      <td>0.968571</td>\n",
       "      <td>0.002785</td>\n",
       "      <td>30</td>\n",
       "      <td>0.975893</td>\n",
       "      <td>0.973750</td>\n",
       "      <td>0.972500</td>\n",
       "      <td>0.975000</td>\n",
       "      <td>0.974821</td>\n",
       "      <td>0.974393</td>\n",
       "      <td>0.001166</td>\n",
       "    </tr>\n",
       "    <tr>\n",
       "      <th>20</th>\n",
       "      <td>48.060277</td>\n",
       "      <td>3.869092</td>\n",
       "      <td>0.032851</td>\n",
       "      <td>0.032309</td>\n",
       "      <td>100</td>\n",
       "      <td>0.01</td>\n",
       "      <td>poly</td>\n",
       "      <td>{'C': 100, 'gamma': 0.01, 'kernel': 'poly'}</td>\n",
       "      <td>0.966429</td>\n",
       "      <td>0.972857</td>\n",
       "      <td>...</td>\n",
       "      <td>0.970429</td>\n",
       "      <td>0.002416</td>\n",
       "      <td>4</td>\n",
       "      <td>0.974643</td>\n",
       "      <td>0.971607</td>\n",
       "      <td>0.972500</td>\n",
       "      <td>0.971071</td>\n",
       "      <td>0.973214</td>\n",
       "      <td>0.972607</td>\n",
       "      <td>0.001256</td>\n",
       "    </tr>\n",
       "    <tr>\n",
       "      <th>21</th>\n",
       "      <td>2.639679</td>\n",
       "      <td>0.471668</td>\n",
       "      <td>0.017050</td>\n",
       "      <td>0.003449</td>\n",
       "      <td>100</td>\n",
       "      <td>0.001</td>\n",
       "      <td>linear</td>\n",
       "      <td>{'C': 100, 'gamma': 0.001, 'kernel': 'linear'}</td>\n",
       "      <td>0.962857</td>\n",
       "      <td>0.977857</td>\n",
       "      <td>...</td>\n",
       "      <td>0.970429</td>\n",
       "      <td>0.005002</td>\n",
       "      <td>5</td>\n",
       "      <td>0.972679</td>\n",
       "      <td>0.968750</td>\n",
       "      <td>0.968929</td>\n",
       "      <td>0.970714</td>\n",
       "      <td>0.971071</td>\n",
       "      <td>0.970429</td>\n",
       "      <td>0.001458</td>\n",
       "    </tr>\n",
       "    <tr>\n",
       "      <th>22</th>\n",
       "      <td>0.220156</td>\n",
       "      <td>0.089639</td>\n",
       "      <td>0.087213</td>\n",
       "      <td>0.041786</td>\n",
       "      <td>100</td>\n",
       "      <td>0.001</td>\n",
       "      <td>rbf</td>\n",
       "      <td>{'C': 100, 'gamma': 0.001, 'kernel': 'rbf'}</td>\n",
       "      <td>0.963571</td>\n",
       "      <td>0.975714</td>\n",
       "      <td>...</td>\n",
       "      <td>0.969857</td>\n",
       "      <td>0.004247</td>\n",
       "      <td>23</td>\n",
       "      <td>0.973571</td>\n",
       "      <td>0.970357</td>\n",
       "      <td>0.971071</td>\n",
       "      <td>0.971786</td>\n",
       "      <td>0.973214</td>\n",
       "      <td>0.972000</td>\n",
       "      <td>0.001229</td>\n",
       "    </tr>\n",
       "    <tr>\n",
       "      <th>23</th>\n",
       "      <td>0.737678</td>\n",
       "      <td>0.333204</td>\n",
       "      <td>0.028607</td>\n",
       "      <td>0.013813</td>\n",
       "      <td>100</td>\n",
       "      <td>0.001</td>\n",
       "      <td>poly</td>\n",
       "      <td>{'C': 100, 'gamma': 0.001, 'kernel': 'poly'}</td>\n",
       "      <td>0.963571</td>\n",
       "      <td>0.975000</td>\n",
       "      <td>...</td>\n",
       "      <td>0.970143</td>\n",
       "      <td>0.004175</td>\n",
       "      <td>19</td>\n",
       "      <td>0.973214</td>\n",
       "      <td>0.971429</td>\n",
       "      <td>0.971071</td>\n",
       "      <td>0.971786</td>\n",
       "      <td>0.972679</td>\n",
       "      <td>0.972036</td>\n",
       "      <td>0.000795</td>\n",
       "    </tr>\n",
       "    <tr>\n",
       "      <th>24</th>\n",
       "      <td>2.562782</td>\n",
       "      <td>0.524967</td>\n",
       "      <td>0.024361</td>\n",
       "      <td>0.011279</td>\n",
       "      <td>100</td>\n",
       "      <td>0.0001</td>\n",
       "      <td>linear</td>\n",
       "      <td>{'C': 100, 'gamma': 0.0001, 'kernel': 'linear'}</td>\n",
       "      <td>0.962857</td>\n",
       "      <td>0.977857</td>\n",
       "      <td>...</td>\n",
       "      <td>0.970429</td>\n",
       "      <td>0.005002</td>\n",
       "      <td>5</td>\n",
       "      <td>0.972679</td>\n",
       "      <td>0.968750</td>\n",
       "      <td>0.968929</td>\n",
       "      <td>0.970714</td>\n",
       "      <td>0.971071</td>\n",
       "      <td>0.970429</td>\n",
       "      <td>0.001458</td>\n",
       "    </tr>\n",
       "    <tr>\n",
       "      <th>25</th>\n",
       "      <td>0.212744</td>\n",
       "      <td>0.088525</td>\n",
       "      <td>0.116756</td>\n",
       "      <td>0.049726</td>\n",
       "      <td>100</td>\n",
       "      <td>0.0001</td>\n",
       "      <td>rbf</td>\n",
       "      <td>{'C': 100, 'gamma': 0.0001, 'kernel': 'rbf'}</td>\n",
       "      <td>0.962857</td>\n",
       "      <td>0.978571</td>\n",
       "      <td>...</td>\n",
       "      <td>0.970714</td>\n",
       "      <td>0.005345</td>\n",
       "      <td>1</td>\n",
       "      <td>0.973929</td>\n",
       "      <td>0.969821</td>\n",
       "      <td>0.970000</td>\n",
       "      <td>0.970536</td>\n",
       "      <td>0.971607</td>\n",
       "      <td>0.971179</td>\n",
       "      <td>0.001509</td>\n",
       "    </tr>\n",
       "    <tr>\n",
       "      <th>26</th>\n",
       "      <td>0.186654</td>\n",
       "      <td>0.073720</td>\n",
       "      <td>0.037235</td>\n",
       "      <td>0.017484</td>\n",
       "      <td>100</td>\n",
       "      <td>0.0001</td>\n",
       "      <td>poly</td>\n",
       "      <td>{'C': 100, 'gamma': 0.0001, 'kernel': 'poly'}</td>\n",
       "      <td>0.962143</td>\n",
       "      <td>0.974286</td>\n",
       "      <td>...</td>\n",
       "      <td>0.968857</td>\n",
       "      <td>0.004620</td>\n",
       "      <td>29</td>\n",
       "      <td>0.970357</td>\n",
       "      <td>0.968750</td>\n",
       "      <td>0.968036</td>\n",
       "      <td>0.969107</td>\n",
       "      <td>0.969821</td>\n",
       "      <td>0.969214</td>\n",
       "      <td>0.000811</td>\n",
       "    </tr>\n",
       "    <tr>\n",
       "      <th>27</th>\n",
       "      <td>21.022342</td>\n",
       "      <td>3.411026</td>\n",
       "      <td>0.027844</td>\n",
       "      <td>0.009933</td>\n",
       "      <td>1000</td>\n",
       "      <td>0.01</td>\n",
       "      <td>linear</td>\n",
       "      <td>{'C': 1000, 'gamma': 0.01, 'kernel': 'linear'}</td>\n",
       "      <td>0.962857</td>\n",
       "      <td>0.977857</td>\n",
       "      <td>...</td>\n",
       "      <td>0.970286</td>\n",
       "      <td>0.005002</td>\n",
       "      <td>8</td>\n",
       "      <td>0.972679</td>\n",
       "      <td>0.968750</td>\n",
       "      <td>0.968929</td>\n",
       "      <td>0.971071</td>\n",
       "      <td>0.971071</td>\n",
       "      <td>0.970500</td>\n",
       "      <td>0.001479</td>\n",
       "    </tr>\n",
       "    <tr>\n",
       "      <th>28</th>\n",
       "      <td>0.640574</td>\n",
       "      <td>0.211342</td>\n",
       "      <td>0.078745</td>\n",
       "      <td>0.034950</td>\n",
       "      <td>1000</td>\n",
       "      <td>0.01</td>\n",
       "      <td>rbf</td>\n",
       "      <td>{'C': 1000, 'gamma': 0.01, 'kernel': 'rbf'}</td>\n",
       "      <td>0.962857</td>\n",
       "      <td>0.965714</td>\n",
       "      <td>...</td>\n",
       "      <td>0.967571</td>\n",
       "      <td>0.003631</td>\n",
       "      <td>33</td>\n",
       "      <td>0.978929</td>\n",
       "      <td>0.978036</td>\n",
       "      <td>0.976250</td>\n",
       "      <td>0.977321</td>\n",
       "      <td>0.978929</td>\n",
       "      <td>0.977893</td>\n",
       "      <td>0.001019</td>\n",
       "    </tr>\n",
       "    <tr>\n",
       "      <th>29</th>\n",
       "      <td>54.068992</td>\n",
       "      <td>11.051696</td>\n",
       "      <td>0.018786</td>\n",
       "      <td>0.007378</td>\n",
       "      <td>1000</td>\n",
       "      <td>0.01</td>\n",
       "      <td>poly</td>\n",
       "      <td>{'C': 1000, 'gamma': 0.01, 'kernel': 'poly'}</td>\n",
       "      <td>0.964286</td>\n",
       "      <td>0.974286</td>\n",
       "      <td>...</td>\n",
       "      <td>0.970571</td>\n",
       "      <td>0.003870</td>\n",
       "      <td>3</td>\n",
       "      <td>0.972679</td>\n",
       "      <td>0.971250</td>\n",
       "      <td>0.971964</td>\n",
       "      <td>0.971071</td>\n",
       "      <td>0.973036</td>\n",
       "      <td>0.972000</td>\n",
       "      <td>0.000769</td>\n",
       "    </tr>\n",
       "    <tr>\n",
       "      <th>30</th>\n",
       "      <td>21.045738</td>\n",
       "      <td>3.437084</td>\n",
       "      <td>0.027529</td>\n",
       "      <td>0.012109</td>\n",
       "      <td>1000</td>\n",
       "      <td>0.001</td>\n",
       "      <td>linear</td>\n",
       "      <td>{'C': 1000, 'gamma': 0.001, 'kernel': 'linear'}</td>\n",
       "      <td>0.962857</td>\n",
       "      <td>0.977857</td>\n",
       "      <td>...</td>\n",
       "      <td>0.970286</td>\n",
       "      <td>0.005002</td>\n",
       "      <td>8</td>\n",
       "      <td>0.972679</td>\n",
       "      <td>0.968750</td>\n",
       "      <td>0.968929</td>\n",
       "      <td>0.971071</td>\n",
       "      <td>0.971071</td>\n",
       "      <td>0.970500</td>\n",
       "      <td>0.001479</td>\n",
       "    </tr>\n",
       "    <tr>\n",
       "      <th>31</th>\n",
       "      <td>0.252072</td>\n",
       "      <td>0.103854</td>\n",
       "      <td>0.071458</td>\n",
       "      <td>0.011843</td>\n",
       "      <td>1000</td>\n",
       "      <td>0.001</td>\n",
       "      <td>rbf</td>\n",
       "      <td>{'C': 1000, 'gamma': 0.001, 'kernel': 'rbf'}</td>\n",
       "      <td>0.964286</td>\n",
       "      <td>0.972143</td>\n",
       "      <td>...</td>\n",
       "      <td>0.969714</td>\n",
       "      <td>0.003017</td>\n",
       "      <td>24</td>\n",
       "      <td>0.973214</td>\n",
       "      <td>0.972143</td>\n",
       "      <td>0.971786</td>\n",
       "      <td>0.973036</td>\n",
       "      <td>0.973929</td>\n",
       "      <td>0.972821</td>\n",
       "      <td>0.000769</td>\n",
       "    </tr>\n",
       "    <tr>\n",
       "      <th>32</th>\n",
       "      <td>5.085521</td>\n",
       "      <td>1.017708</td>\n",
       "      <td>0.022533</td>\n",
       "      <td>0.010185</td>\n",
       "      <td>1000</td>\n",
       "      <td>0.001</td>\n",
       "      <td>poly</td>\n",
       "      <td>{'C': 1000, 'gamma': 0.001, 'kernel': 'poly'}</td>\n",
       "      <td>0.963571</td>\n",
       "      <td>0.972143</td>\n",
       "      <td>...</td>\n",
       "      <td>0.969571</td>\n",
       "      <td>0.003338</td>\n",
       "      <td>26</td>\n",
       "      <td>0.974107</td>\n",
       "      <td>0.972143</td>\n",
       "      <td>0.971607</td>\n",
       "      <td>0.972321</td>\n",
       "      <td>0.972857</td>\n",
       "      <td>0.972607</td>\n",
       "      <td>0.000850</td>\n",
       "    </tr>\n",
       "    <tr>\n",
       "      <th>33</th>\n",
       "      <td>20.453009</td>\n",
       "      <td>3.157049</td>\n",
       "      <td>0.023545</td>\n",
       "      <td>0.010523</td>\n",
       "      <td>1000</td>\n",
       "      <td>0.0001</td>\n",
       "      <td>linear</td>\n",
       "      <td>{'C': 1000, 'gamma': 0.0001, 'kernel': 'linear'}</td>\n",
       "      <td>0.962857</td>\n",
       "      <td>0.977857</td>\n",
       "      <td>...</td>\n",
       "      <td>0.970286</td>\n",
       "      <td>0.005002</td>\n",
       "      <td>8</td>\n",
       "      <td>0.972679</td>\n",
       "      <td>0.968750</td>\n",
       "      <td>0.968929</td>\n",
       "      <td>0.971071</td>\n",
       "      <td>0.971071</td>\n",
       "      <td>0.970500</td>\n",
       "      <td>0.001479</td>\n",
       "    </tr>\n",
       "    <tr>\n",
       "      <th>34</th>\n",
       "      <td>0.237558</td>\n",
       "      <td>0.111056</td>\n",
       "      <td>0.104092</td>\n",
       "      <td>0.047726</td>\n",
       "      <td>1000</td>\n",
       "      <td>0.0001</td>\n",
       "      <td>rbf</td>\n",
       "      <td>{'C': 1000, 'gamma': 0.0001, 'kernel': 'rbf'}</td>\n",
       "      <td>0.962857</td>\n",
       "      <td>0.974286</td>\n",
       "      <td>...</td>\n",
       "      <td>0.969714</td>\n",
       "      <td>0.004155</td>\n",
       "      <td>25</td>\n",
       "      <td>0.972679</td>\n",
       "      <td>0.970714</td>\n",
       "      <td>0.969464</td>\n",
       "      <td>0.971250</td>\n",
       "      <td>0.971250</td>\n",
       "      <td>0.971071</td>\n",
       "      <td>0.001035</td>\n",
       "    </tr>\n",
       "    <tr>\n",
       "      <th>35</th>\n",
       "      <td>0.124554</td>\n",
       "      <td>0.003381</td>\n",
       "      <td>0.020402</td>\n",
       "      <td>0.003721</td>\n",
       "      <td>1000</td>\n",
       "      <td>0.0001</td>\n",
       "      <td>poly</td>\n",
       "      <td>{'C': 1000, 'gamma': 0.0001, 'kernel': 'poly'}</td>\n",
       "      <td>0.963571</td>\n",
       "      <td>0.975714</td>\n",
       "      <td>...</td>\n",
       "      <td>0.970286</td>\n",
       "      <td>0.004751</td>\n",
       "      <td>8</td>\n",
       "      <td>0.972143</td>\n",
       "      <td>0.969107</td>\n",
       "      <td>0.970179</td>\n",
       "      <td>0.970893</td>\n",
       "      <td>0.971071</td>\n",
       "      <td>0.970679</td>\n",
       "      <td>0.001006</td>\n",
       "    </tr>\n",
       "  </tbody>\n",
       "</table>\n",
       "<p>36 rows × 23 columns</p>\n",
       "</div>"
      ],
      "text/plain": [
       "    mean_fit_time  std_fit_time  mean_score_time  std_score_time param_C  \\\n",
       "0        0.168746      0.039644         0.017531        0.002122       1   \n",
       "1        0.178298      0.004366         0.091067        0.003188       1   \n",
       "2        3.931864      0.782435         0.023686        0.010490       1   \n",
       "3        0.138896      0.007275         0.015700        0.000742       1   \n",
       "4        0.279425      0.119289         0.154022        0.064684       1   \n",
       "5        0.198920      0.084179         0.029208        0.012720       1   \n",
       "6        0.144986      0.006134         0.016564        0.002319       1   \n",
       "7        0.414522      0.114874         0.204086        0.026823       1   \n",
       "8        0.319722      0.134223         0.065772        0.025247       1   \n",
       "9        0.604635      0.235779         0.024421        0.011007      10   \n",
       "10       0.192093      0.079747         0.077524        0.021654      10   \n",
       "11      23.522584      7.242638         0.020773        0.009631      10   \n",
       "12       0.631639      0.262816         0.021749        0.010368      10   \n",
       "13       0.172355      0.019512         0.112278        0.039882      10   \n",
       "14       0.275119      0.114526         0.025866        0.011454      10   \n",
       "15       0.453587      0.111742         0.020169        0.007438      10   \n",
       "16       0.278487      0.115783         0.147589        0.060448      10   \n",
       "17       0.206212      0.038310         0.044097        0.002775      10   \n",
       "18       2.716382      0.361135         0.020664        0.009429     100   \n",
       "19       0.229446      0.074598         0.079532        0.029599     100   \n",
       "20      48.060277      3.869092         0.032851        0.032309     100   \n",
       "21       2.639679      0.471668         0.017050        0.003449     100   \n",
       "22       0.220156      0.089639         0.087213        0.041786     100   \n",
       "23       0.737678      0.333204         0.028607        0.013813     100   \n",
       "24       2.562782      0.524967         0.024361        0.011279     100   \n",
       "25       0.212744      0.088525         0.116756        0.049726     100   \n",
       "26       0.186654      0.073720         0.037235        0.017484     100   \n",
       "27      21.022342      3.411026         0.027844        0.009933    1000   \n",
       "28       0.640574      0.211342         0.078745        0.034950    1000   \n",
       "29      54.068992     11.051696         0.018786        0.007378    1000   \n",
       "30      21.045738      3.437084         0.027529        0.012109    1000   \n",
       "31       0.252072      0.103854         0.071458        0.011843    1000   \n",
       "32       5.085521      1.017708         0.022533        0.010185    1000   \n",
       "33      20.453009      3.157049         0.023545        0.010523    1000   \n",
       "34       0.237558      0.111056         0.104092        0.047726    1000   \n",
       "35       0.124554      0.003381         0.020402        0.003721    1000   \n",
       "\n",
       "   param_gamma param_kernel                                            params  \\\n",
       "0         0.01       linear       {'C': 1, 'gamma': 0.01, 'kernel': 'linear'}   \n",
       "1         0.01          rbf          {'C': 1, 'gamma': 0.01, 'kernel': 'rbf'}   \n",
       "2         0.01         poly         {'C': 1, 'gamma': 0.01, 'kernel': 'poly'}   \n",
       "3        0.001       linear      {'C': 1, 'gamma': 0.001, 'kernel': 'linear'}   \n",
       "4        0.001          rbf         {'C': 1, 'gamma': 0.001, 'kernel': 'rbf'}   \n",
       "5        0.001         poly        {'C': 1, 'gamma': 0.001, 'kernel': 'poly'}   \n",
       "6       0.0001       linear     {'C': 1, 'gamma': 0.0001, 'kernel': 'linear'}   \n",
       "7       0.0001          rbf        {'C': 1, 'gamma': 0.0001, 'kernel': 'rbf'}   \n",
       "8       0.0001         poly       {'C': 1, 'gamma': 0.0001, 'kernel': 'poly'}   \n",
       "9         0.01       linear      {'C': 10, 'gamma': 0.01, 'kernel': 'linear'}   \n",
       "10        0.01          rbf         {'C': 10, 'gamma': 0.01, 'kernel': 'rbf'}   \n",
       "11        0.01         poly        {'C': 10, 'gamma': 0.01, 'kernel': 'poly'}   \n",
       "12       0.001       linear     {'C': 10, 'gamma': 0.001, 'kernel': 'linear'}   \n",
       "13       0.001          rbf        {'C': 10, 'gamma': 0.001, 'kernel': 'rbf'}   \n",
       "14       0.001         poly       {'C': 10, 'gamma': 0.001, 'kernel': 'poly'}   \n",
       "15      0.0001       linear    {'C': 10, 'gamma': 0.0001, 'kernel': 'linear'}   \n",
       "16      0.0001          rbf       {'C': 10, 'gamma': 0.0001, 'kernel': 'rbf'}   \n",
       "17      0.0001         poly      {'C': 10, 'gamma': 0.0001, 'kernel': 'poly'}   \n",
       "18        0.01       linear     {'C': 100, 'gamma': 0.01, 'kernel': 'linear'}   \n",
       "19        0.01          rbf        {'C': 100, 'gamma': 0.01, 'kernel': 'rbf'}   \n",
       "20        0.01         poly       {'C': 100, 'gamma': 0.01, 'kernel': 'poly'}   \n",
       "21       0.001       linear    {'C': 100, 'gamma': 0.001, 'kernel': 'linear'}   \n",
       "22       0.001          rbf       {'C': 100, 'gamma': 0.001, 'kernel': 'rbf'}   \n",
       "23       0.001         poly      {'C': 100, 'gamma': 0.001, 'kernel': 'poly'}   \n",
       "24      0.0001       linear   {'C': 100, 'gamma': 0.0001, 'kernel': 'linear'}   \n",
       "25      0.0001          rbf      {'C': 100, 'gamma': 0.0001, 'kernel': 'rbf'}   \n",
       "26      0.0001         poly     {'C': 100, 'gamma': 0.0001, 'kernel': 'poly'}   \n",
       "27        0.01       linear    {'C': 1000, 'gamma': 0.01, 'kernel': 'linear'}   \n",
       "28        0.01          rbf       {'C': 1000, 'gamma': 0.01, 'kernel': 'rbf'}   \n",
       "29        0.01         poly      {'C': 1000, 'gamma': 0.01, 'kernel': 'poly'}   \n",
       "30       0.001       linear   {'C': 1000, 'gamma': 0.001, 'kernel': 'linear'}   \n",
       "31       0.001          rbf      {'C': 1000, 'gamma': 0.001, 'kernel': 'rbf'}   \n",
       "32       0.001         poly     {'C': 1000, 'gamma': 0.001, 'kernel': 'poly'}   \n",
       "33      0.0001       linear  {'C': 1000, 'gamma': 0.0001, 'kernel': 'linear'}   \n",
       "34      0.0001          rbf     {'C': 1000, 'gamma': 0.0001, 'kernel': 'rbf'}   \n",
       "35      0.0001         poly    {'C': 1000, 'gamma': 0.0001, 'kernel': 'poly'}   \n",
       "\n",
       "    split0_test_score  split1_test_score  ...  mean_test_score  \\\n",
       "0            0.962857           0.977143  ...         0.970286   \n",
       "1            0.964286           0.973571  ...         0.969429   \n",
       "2            0.961429           0.972857  ...         0.969286   \n",
       "3            0.962857           0.977143  ...         0.970286   \n",
       "4            0.961429           0.970714  ...         0.967857   \n",
       "5            0.963571           0.975714  ...         0.970286   \n",
       "6            0.962857           0.977143  ...         0.970286   \n",
       "7            0.947857           0.947143  ...         0.947429   \n",
       "8            0.936429           0.933571  ...         0.934714   \n",
       "9            0.962857           0.977857  ...         0.970286   \n",
       "10           0.965714           0.970714  ...         0.970000   \n",
       "11           0.963571           0.971429  ...         0.970143   \n",
       "12           0.962857           0.977857  ...         0.970286   \n",
       "13           0.962857           0.976429  ...         0.970143   \n",
       "14           0.964286           0.976429  ...         0.970714   \n",
       "15           0.962857           0.977857  ...         0.970286   \n",
       "16           0.962143           0.970714  ...         0.967714   \n",
       "17           0.962857           0.967857  ...         0.964000   \n",
       "18           0.962857           0.977857  ...         0.970429   \n",
       "19           0.966429           0.965714  ...         0.968571   \n",
       "20           0.966429           0.972857  ...         0.970429   \n",
       "21           0.962857           0.977857  ...         0.970429   \n",
       "22           0.963571           0.975714  ...         0.969857   \n",
       "23           0.963571           0.975000  ...         0.970143   \n",
       "24           0.962857           0.977857  ...         0.970429   \n",
       "25           0.962857           0.978571  ...         0.970714   \n",
       "26           0.962143           0.974286  ...         0.968857   \n",
       "27           0.962857           0.977857  ...         0.970286   \n",
       "28           0.962857           0.965714  ...         0.967571   \n",
       "29           0.964286           0.974286  ...         0.970571   \n",
       "30           0.962857           0.977857  ...         0.970286   \n",
       "31           0.964286           0.972143  ...         0.969714   \n",
       "32           0.963571           0.972143  ...         0.969571   \n",
       "33           0.962857           0.977857  ...         0.970286   \n",
       "34           0.962857           0.974286  ...         0.969714   \n",
       "35           0.963571           0.975714  ...         0.970286   \n",
       "\n",
       "    std_test_score  rank_test_score  split0_train_score  split1_train_score  \\\n",
       "0         0.004836                8            0.972321            0.968571   \n",
       "1         0.003736               27            0.972321            0.971429   \n",
       "2         0.004333               28            0.973393            0.971964   \n",
       "3         0.004836                8            0.972321            0.968571   \n",
       "4         0.004403               31            0.970179            0.967321   \n",
       "5         0.004751                8            0.972143            0.969107   \n",
       "6         0.004836                8            0.972321            0.968571   \n",
       "7         0.004300               35            0.948750            0.947500   \n",
       "8         0.003213               36            0.934643            0.935000   \n",
       "9         0.005002                8            0.972321            0.968750   \n",
       "10        0.002821               22            0.974286            0.973214   \n",
       "11        0.003709               19            0.973393            0.972857   \n",
       "12        0.005002                8            0.972321            0.968750   \n",
       "13        0.004682               21            0.973036            0.970000   \n",
       "14        0.004928                1            0.973036            0.970179   \n",
       "15        0.005002                8            0.972321            0.968750   \n",
       "16        0.004481               32            0.970179            0.968393   \n",
       "17        0.003017               34            0.965357            0.963214   \n",
       "18        0.005002                5            0.972679            0.968750   \n",
       "19        0.002785               30            0.975893            0.973750   \n",
       "20        0.002416                4            0.974643            0.971607   \n",
       "21        0.005002                5            0.972679            0.968750   \n",
       "22        0.004247               23            0.973571            0.970357   \n",
       "23        0.004175               19            0.973214            0.971429   \n",
       "24        0.005002                5            0.972679            0.968750   \n",
       "25        0.005345                1            0.973929            0.969821   \n",
       "26        0.004620               29            0.970357            0.968750   \n",
       "27        0.005002                8            0.972679            0.968750   \n",
       "28        0.003631               33            0.978929            0.978036   \n",
       "29        0.003870                3            0.972679            0.971250   \n",
       "30        0.005002                8            0.972679            0.968750   \n",
       "31        0.003017               24            0.973214            0.972143   \n",
       "32        0.003338               26            0.974107            0.972143   \n",
       "33        0.005002                8            0.972679            0.968750   \n",
       "34        0.004155               25            0.972679            0.970714   \n",
       "35        0.004751                8            0.972143            0.969107   \n",
       "\n",
       "    split2_train_score  split3_train_score  split4_train_score  \\\n",
       "0             0.969464            0.970714            0.971071   \n",
       "1             0.970179            0.972143            0.972321   \n",
       "2             0.971964            0.973036            0.973036   \n",
       "3             0.969464            0.970714            0.971071   \n",
       "4             0.967143            0.967857            0.967679   \n",
       "5             0.970179            0.970893            0.971071   \n",
       "6             0.969464            0.970714            0.971071   \n",
       "7             0.948393            0.948036            0.948214   \n",
       "8             0.933929            0.935536            0.935179   \n",
       "9             0.968929            0.970714            0.971071   \n",
       "10            0.972143            0.974107            0.974464   \n",
       "11            0.972321            0.972857            0.973929   \n",
       "12            0.968929            0.970714            0.971071   \n",
       "13            0.970536            0.971607            0.971964   \n",
       "14            0.970536            0.971607            0.971786   \n",
       "15            0.968929            0.970714            0.971071   \n",
       "16            0.967500            0.968393            0.968036   \n",
       "17            0.964107            0.964286            0.963750   \n",
       "18            0.968929            0.970714            0.971071   \n",
       "19            0.972500            0.975000            0.974821   \n",
       "20            0.972500            0.971071            0.973214   \n",
       "21            0.968929            0.970714            0.971071   \n",
       "22            0.971071            0.971786            0.973214   \n",
       "23            0.971071            0.971786            0.972679   \n",
       "24            0.968929            0.970714            0.971071   \n",
       "25            0.970000            0.970536            0.971607   \n",
       "26            0.968036            0.969107            0.969821   \n",
       "27            0.968929            0.971071            0.971071   \n",
       "28            0.976250            0.977321            0.978929   \n",
       "29            0.971964            0.971071            0.973036   \n",
       "30            0.968929            0.971071            0.971071   \n",
       "31            0.971786            0.973036            0.973929   \n",
       "32            0.971607            0.972321            0.972857   \n",
       "33            0.968929            0.971071            0.971071   \n",
       "34            0.969464            0.971250            0.971250   \n",
       "35            0.970179            0.970893            0.971071   \n",
       "\n",
       "    mean_train_score  std_train_score  \n",
       "0           0.970429         0.001301  \n",
       "1           0.971679         0.000819  \n",
       "2           0.972679         0.000598  \n",
       "3           0.970429         0.001301  \n",
       "4           0.968036         0.001101  \n",
       "5           0.970679         0.001006  \n",
       "6           0.970429         0.001301  \n",
       "7           0.948179         0.000413  \n",
       "8           0.934857         0.000546  \n",
       "9           0.970357         0.001351  \n",
       "10          0.973643         0.000865  \n",
       "11          0.973071         0.000546  \n",
       "12          0.970357         0.001351  \n",
       "13          0.971429         0.001071  \n",
       "14          0.971429         0.001010  \n",
       "15          0.970357         0.001351  \n",
       "16          0.968500         0.000901  \n",
       "17          0.964143         0.000709  \n",
       "18          0.970429         0.001458  \n",
       "19          0.974393         0.001166  \n",
       "20          0.972607         0.001256  \n",
       "21          0.970429         0.001458  \n",
       "22          0.972000         0.001229  \n",
       "23          0.972036         0.000795  \n",
       "24          0.970429         0.001458  \n",
       "25          0.971179         0.001509  \n",
       "26          0.969214         0.000811  \n",
       "27          0.970500         0.001479  \n",
       "28          0.977893         0.001019  \n",
       "29          0.972000         0.000769  \n",
       "30          0.970500         0.001479  \n",
       "31          0.972821         0.000769  \n",
       "32          0.972607         0.000850  \n",
       "33          0.970500         0.001479  \n",
       "34          0.971071         0.001035  \n",
       "35          0.970679         0.001006  \n",
       "\n",
       "[36 rows x 23 columns]"
      ]
     },
     "execution_count": 299,
     "metadata": {},
     "output_type": "execute_result"
    }
   ],
   "source": [
    "# cv results\n",
    "cv_results = pd.DataFrame(model_cv.cv_results_)\n",
    "cv_results"
   ]
  },
  {
   "cell_type": "code",
   "execution_count": 300,
   "metadata": {},
   "outputs": [
    {
     "data": {
      "image/png": "[encoded data removed]",
      "text/plain": [
       "<Figure size 1600x600 with 3 Axes>"
      ]
     },
     "metadata": {},
     "output_type": "display_data"
    }
   ],
   "source": [
    "# converting C to numeric type for plotting on x-axis\n",
    "cv_results['param_C'] = cv_results['param_C'].astype('int')\n",
    "\n",
    "# # plotting\n",
    "plt.figure(figsize=(16,6))\n",
    "\n",
    "# subplot 1/3\n",
    "plt.subplot(131)\n",
    "gamma_01 = cv_results[cv_results['param_gamma']==0.01]\n",
    "\n",
    "plt.plot(gamma_01[\"param_C\"], gamma_01[\"mean_test_score\"])\n",
    "plt.plot(gamma_01[\"param_C\"], gamma_01[\"mean_train_score\"])\n",
    "plt.xlabel('C')\n",
    "plt.ylabel('Accuracy')\n",
    "plt.title(\"Gamma=0.01\")\n",
    "plt.ylim([0.80, 1])\n",
    "plt.legend(['test accuracy', 'train accuracy'], loc='upper left')\n",
    "plt.xscale('log')\n",
    "\n",
    "# subplot 2/3\n",
    "plt.subplot(132)\n",
    "gamma_001 = cv_results[cv_results['param_gamma']==0.001]\n",
    "\n",
    "plt.plot(gamma_001[\"param_C\"], gamma_001[\"mean_test_score\"])\n",
    "plt.plot(gamma_001[\"param_C\"], gamma_001[\"mean_train_score\"])\n",
    "plt.xlabel('C')\n",
    "plt.ylabel('Accuracy')\n",
    "plt.title(\"Gamma=0.001\")\n",
    "plt.ylim([0.80, 1])\n",
    "plt.legend(['test accuracy', 'train accuracy'], loc='upper left')\n",
    "plt.xscale('log')\n",
    "\n",
    "\n",
    "# subplot 3/3\n",
    "plt.subplot(133)\n",
    "gamma_0001 = cv_results[cv_results['param_gamma']==0.0001]\n",
    "\n",
    "plt.plot(gamma_0001[\"param_C\"], gamma_0001[\"mean_test_score\"])\n",
    "plt.plot(gamma_0001[\"param_C\"], gamma_0001[\"mean_train_score\"])\n",
    "plt.xlabel('C')\n",
    "plt.ylabel('Accuracy')\n",
    "plt.title(\"Gamma=0.0001\")\n",
    "plt.ylim([0.80, 1])\n",
    "plt.legend(['test accuracy', 'train accuracy'], loc='upper left')\n",
    "plt.xscale('log')\n"
   ]
  },
  {
   "cell_type": "code",
   "execution_count": 301,
   "metadata": {},
   "outputs": [
    {
     "name": "stdout",
     "output_type": "stream",
     "text": [
      "The best test score is 0.9707142857142858 corresponding to hyperparameters {'C': 10, 'gamma': 0.001, 'kernel': 'poly'}\n"
     ]
    }
   ],
   "source": [
    "# printing the optimal accuracy score and hyperparameters\n",
    "best_score = model_cv.best_score_\n",
    "best_hyperparams = model_cv.best_params_\n",
    "print(\"The best test score is {0} corresponding to hyperparameters {1}\".format(best_score, best_hyperparams))"
   ]
  },
  {
   "cell_type": "markdown",
   "metadata": {},
   "source": [
    "## #Regression Models "
   ]
  },
  {
   "cell_type": "code",
   "execution_count": 127,
   "metadata": {
    "scrolled": true
   },
   "outputs": [
    {
     "data": {
      "image/png": "[encoded data removed]",
      "text/plain": [
       "<Figure size 640x480 with 1 Axes>"
      ]
     },
     "metadata": {},
     "output_type": "display_data"
    }
   ],
   "source": [
    "df_SPSleepPer.plot(x='Performance Index', y='Sleep Hours', style='*')\n",
    "plt.title('Hours of Sleep vs Academic Performance')\n",
    "plt.xlabel('Academic Performance')\n",
    "plt.ylabel('Sleep Hours')\n",
    "plt.show()"
   ]
  },
  {
   "cell_type": "code",
   "execution_count": 128,
   "metadata": {},
   "outputs": [],
   "source": [
    "# Split the dataset into X and y columns\n",
    "X = df_SPSleepPer.iloc[:, :-1].values            # Independent variables\n",
    "y = df_SPSleepPer.iloc[:, 1].values              # Dependent variable"
   ]
  },
  {
   "cell_type": "code",
   "execution_count": 129,
   "metadata": {},
   "outputs": [
    {
     "data": {
      "text/plain": [
       "array([[9],\n",
       "       [4],\n",
       "       [7],\n",
       "       ...,\n",
       "       [8],\n",
       "       [7],\n",
       "       [8]], dtype=int64)"
      ]
     },
     "execution_count": 129,
     "metadata": {},
     "output_type": "execute_result"
    }
   ],
   "source": [
    "X"
   ]
  },
  {
   "cell_type": "code",
   "execution_count": 130,
   "metadata": {},
   "outputs": [
    {
     "data": {
      "text/plain": [
       "array([91., 65., 45., ..., 74., 95., 64.])"
      ]
     },
     "execution_count": 130,
     "metadata": {},
     "output_type": "execute_result"
    }
   ],
   "source": [
    "y"
   ]
  },
  {
   "cell_type": "code",
   "execution_count": 131,
   "metadata": {},
   "outputs": [],
   "source": [
    "# Split the dataset\n",
    "X_train, X_test, y_train, y_test = train_test_split(X, y, test_size=0.2, random_state=0)"
   ]
  },
  {
   "cell_type": "code",
   "execution_count": 132,
   "metadata": {},
   "outputs": [
    {
     "data": {
      "text/plain": [
       "((10000, 1), (10000,), (8000, 1), (2000, 1), (8000,), (2000,))"
      ]
     },
     "execution_count": 132,
     "metadata": {},
     "output_type": "execute_result"
    }
   ],
   "source": [
    "# Show the rows and columns\n",
    "X.shape, y.shape, X_train.shape, X_test.shape, y_train.shape, y_test.shape"
   ]
  },
  {
   "cell_type": "code",
   "execution_count": 133,
   "metadata": {},
   "outputs": [],
   "source": [
    "# Method to calculate the score\n",
    "def get_cv_scores(model):\n",
    "    scores = cross_val_score(model,\n",
    "                             X_train,\n",
    "                             y_train,\n",
    "                             cv = 10,\n",
    "                             scoring='r2')\n",
    "    \n",
    "    print('CV Mean: ', np.mean(scores))\n",
    "    print('STD: ', np.std(scores))\n",
    "    print('\\n')"
   ]
  },
  {
   "cell_type": "code",
   "execution_count": 134,
   "metadata": {},
   "outputs": [
    {
     "name": "stdout",
     "output_type": "stream",
     "text": [
      "CV Mean:  0.001404426397997416\n",
      "STD:  0.0031814703671015935\n",
      "\n",
      "\n"
     ]
    }
   ],
   "source": [
    "# Train the model\n",
    "lr = LinearRegression().fit(X_train, y_train)\n",
    "\n",
    "# Calculate the mean values and Standard deviation\n",
    "get_cv_scores(lr)"
   ]
  },
  {
   "cell_type": "code",
   "execution_count": 135,
   "metadata": {},
   "outputs": [
    {
     "name": "stdout",
     "output_type": "stream",
     "text": [
      "50.92290552842073\n",
      "[0.63970627]\n"
     ]
    }
   ],
   "source": [
    "# Calculate the intercept and coefficient\n",
    "print(lr.intercept_)\n",
    "print(lr.coef_)"
   ]
  },
  {
   "cell_type": "code",
   "execution_count": 136,
   "metadata": {},
   "outputs": [],
   "source": [
    "# Calculate the predicted values\n",
    "y_pred = lr.predict(X_test)\n",
    "# y_pred"
   ]
  },
  {
   "cell_type": "code",
   "execution_count": 137,
   "metadata": {},
   "outputs": [
    {
     "data": {
      "image/png": "[encoded data removed]",
      "text/plain": [
       "<Figure size 640x480 with 1 Axes>"
      ]
     },
     "metadata": {},
     "output_type": "display_data"
    }
   ],
   "source": [
    "# Show the plotted values\n",
    "plt.scatter(X_train, y_train)\n",
    "plt.plot(X_test, y_pred, color='red')\n",
    "plt.show()"
   ]
  },
  {
   "cell_type": "code",
   "execution_count": 138,
   "metadata": {},
   "outputs": [
    {
     "data": {
      "text/html": [
       "<div>\n",
       "<style scoped>\n",
       "    .dataframe tbody tr th:only-of-type {\n",
       "        vertical-align: middle;\n",
       "    }\n",
       "\n",
       "    .dataframe tbody tr th {\n",
       "        vertical-align: top;\n",
       "    }\n",
       "\n",
       "    .dataframe thead th {\n",
       "        text-align: right;\n",
       "    }\n",
       "</style>\n",
       "<table border=\"1\" class=\"dataframe\">\n",
       "  <thead>\n",
       "    <tr style=\"text-align: right;\">\n",
       "      <th></th>\n",
       "      <th>Actual</th>\n",
       "      <th>Predicted</th>\n",
       "    </tr>\n",
       "  </thead>\n",
       "  <tbody>\n",
       "    <tr>\n",
       "      <th>0</th>\n",
       "      <td>53.0</td>\n",
       "      <td>56.680262</td>\n",
       "    </tr>\n",
       "    <tr>\n",
       "      <th>1</th>\n",
       "      <td>50.0</td>\n",
       "      <td>53.481731</td>\n",
       "    </tr>\n",
       "    <tr>\n",
       "      <th>2</th>\n",
       "      <td>80.0</td>\n",
       "      <td>54.121437</td>\n",
       "    </tr>\n",
       "    <tr>\n",
       "      <th>3</th>\n",
       "      <td>24.0</td>\n",
       "      <td>54.761143</td>\n",
       "    </tr>\n",
       "    <tr>\n",
       "      <th>4</th>\n",
       "      <td>64.0</td>\n",
       "      <td>54.121437</td>\n",
       "    </tr>\n",
       "  </tbody>\n",
       "</table>\n",
       "</div>"
      ],
      "text/plain": [
       "   Actual  Predicted\n",
       "0    53.0  56.680262\n",
       "1    50.0  53.481731\n",
       "2    80.0  54.121437\n",
       "3    24.0  54.761143\n",
       "4    64.0  54.121437"
      ]
     },
     "execution_count": 138,
     "metadata": {},
     "output_type": "execute_result"
    }
   ],
   "source": [
    "# Display the test and predicted values\n",
    "df = pd.DataFrame({'Actual': y_test, 'Predicted': y_pred})\n",
    "df.head()"
   ]
  },
  {
   "cell_type": "code",
   "execution_count": 139,
   "metadata": {},
   "outputs": [
    {
     "name": "stdout",
     "output_type": "stream",
     "text": [
      "Mean Absolute Error: 15.529829309291152\n",
      "Mean Squared Error: 345.0333842350917\n",
      "Root Mean Squared Error: 18.5750742726669\n",
      "R2 score: -0.0027055507057760497\n"
     ]
    }
   ],
   "source": [
    "# Calculate the error values\n",
    "print('Mean Absolute Error:', metrics.mean_absolute_error(y_test, y_pred))\n",
    "print('Mean Squared Error:', metrics.mean_squared_error(y_test, y_pred))\n",
    "print('Root Mean Squared Error:', np.sqrt(metrics.mean_squared_error(y_test, y_pred)))\n",
    "print('R2 score:', metrics.r2_score(y_test, y_pred))"
   ]
  },
  {
   "cell_type": "markdown",
   "metadata": {},
   "source": [
    "## Linear Regression with Hours of Study as the Independent variable"
   ]
  },
  {
   "cell_type": "code",
   "execution_count": 140,
   "metadata": {},
   "outputs": [
    {
     "data": {
      "image/png": "[encoded data removed]",
      "text/plain": [
       "<Figure size 640x480 with 1 Axes>"
      ]
     },
     "metadata": {},
     "output_type": "display_data"
    }
   ],
   "source": [
    "df_SPHSPer.plot(x='Performance Index', y='Hours Studied', style='*')\n",
    "plt.title('Hours of Study vs Academic Performance')\n",
    "plt.xlabel('Academic Performance')\n",
    "plt.ylabel('Hours of Study')\n",
    "plt.show()"
   ]
  },
  {
   "cell_type": "code",
   "execution_count": 141,
   "metadata": {},
   "outputs": [],
   "source": [
    " # Split the dataset into X and y columns\n",
    "X = df_SPHSPer.iloc[:, :-1].values            # Independent variables\n",
    "y = df_SPHSPer.iloc[:, 1].values              # Dependent variable"
   ]
  },
  {
   "cell_type": "code",
   "execution_count": 142,
   "metadata": {},
   "outputs": [
    {
     "data": {
      "text/plain": [
       "array([[7],\n",
       "       [4],\n",
       "       [8],\n",
       "       ...,\n",
       "       [6],\n",
       "       [9],\n",
       "       [7]], dtype=int64)"
      ]
     },
     "execution_count": 142,
     "metadata": {},
     "output_type": "execute_result"
    }
   ],
   "source": [
    "X"
   ]
  },
  {
   "cell_type": "code",
   "execution_count": 143,
   "metadata": {},
   "outputs": [
    {
     "data": {
      "text/plain": [
       "array([91., 65., 45., ..., 74., 95., 64.])"
      ]
     },
     "execution_count": 143,
     "metadata": {},
     "output_type": "execute_result"
    }
   ],
   "source": [
    "y"
   ]
  },
  {
   "cell_type": "code",
   "execution_count": 144,
   "metadata": {},
   "outputs": [],
   "source": [
    "# Split the dataset\n",
    "X_train, X_test, y_train, y_test = train_test_split(X, y, test_size=0.2, random_state=0)"
   ]
  },
  {
   "cell_type": "code",
   "execution_count": 145,
   "metadata": {},
   "outputs": [
    {
     "data": {
      "text/plain": [
       "((10000, 1), (10000,), (8000, 1), (2000, 1), (8000,), (2000,))"
      ]
     },
     "execution_count": 145,
     "metadata": {},
     "output_type": "execute_result"
    }
   ],
   "source": [
    "# Show the rows and columns\n",
    "X.shape, y.shape, X_train.shape, X_test.shape, y_train.shape, y_test.shape"
   ]
  },
  {
   "cell_type": "code",
   "execution_count": 146,
   "metadata": {},
   "outputs": [],
   "source": [
    "# Method to calculate the score\n",
    "def get_cv_scores(model):\n",
    "    scores = cross_val_score(model,\n",
    "                             X_train,\n",
    "                             y_train,\n",
    "                             cv = 10,\n",
    "                             scoring='r2')\n",
    "    \n",
    "    print('CV Mean: ', np.mean(scores))\n",
    "    print('STD: ', np.std(scores))\n",
    "    print('\\n')"
   ]
  },
  {
   "cell_type": "code",
   "execution_count": 147,
   "metadata": {},
   "outputs": [
    {
     "name": "stdout",
     "output_type": "stream",
     "text": [
      "CV Mean:  0.14082925016272108\n",
      "STD:  0.014626519917461157\n",
      "\n",
      "\n"
     ]
    }
   ],
   "source": [
    "# Train the model\n",
    "lr = LinearRegression().fit(X_train, y_train)\n",
    "\n",
    "# Calculate the mean values and Standard deviation\n",
    "get_cv_scores(lr)"
   ]
  },
  {
   "cell_type": "code",
   "execution_count": 148,
   "metadata": {},
   "outputs": [
    {
     "name": "stdout",
     "output_type": "stream",
     "text": [
      "41.09137202718477\n",
      "[2.82005292]\n"
     ]
    }
   ],
   "source": [
    "# Calculate the intercept and coefficient\n",
    "print(lr.intercept_)\n",
    "print(lr.coef_)"
   ]
  },
  {
   "cell_type": "code",
   "execution_count": 149,
   "metadata": {},
   "outputs": [],
   "source": [
    "# Calculate the predicted values\n",
    "y_pred = lr.predict(X_test)\n",
    "# y_pred"
   ]
  },
  {
   "cell_type": "code",
   "execution_count": 150,
   "metadata": {},
   "outputs": [
    {
     "data": {
      "image/png": "[encoded data removed]",
      "text/plain": [
       "<Figure size 640x480 with 1 Axes>"
      ]
     },
     "metadata": {},
     "output_type": "display_data"
    }
   ],
   "source": [
    "# Show the plotted values\n",
    "plt.scatter(X_train, y_train)\n",
    "plt.plot(X_test, y_pred, color='red')\n",
    "plt.show()"
   ]
  },
  {
   "cell_type": "code",
   "execution_count": 151,
   "metadata": {},
   "outputs": [
    {
     "data": {
      "text/html": [
       "<div>\n",
       "<style scoped>\n",
       "    .dataframe tbody tr th:only-of-type {\n",
       "        vertical-align: middle;\n",
       "    }\n",
       "\n",
       "    .dataframe tbody tr th {\n",
       "        vertical-align: top;\n",
       "    }\n",
       "\n",
       "    .dataframe thead th {\n",
       "        text-align: right;\n",
       "    }\n",
       "</style>\n",
       "<table border=\"1\" class=\"dataframe\">\n",
       "  <thead>\n",
       "    <tr style=\"text-align: right;\">\n",
       "      <th></th>\n",
       "      <th>Actual</th>\n",
       "      <th>Predicted</th>\n",
       "    </tr>\n",
       "  </thead>\n",
       "  <tbody>\n",
       "    <tr>\n",
       "      <th>0</th>\n",
       "      <td>53.0</td>\n",
       "      <td>52.371584</td>\n",
       "    </tr>\n",
       "    <tr>\n",
       "      <th>1</th>\n",
       "      <td>50.0</td>\n",
       "      <td>63.651795</td>\n",
       "    </tr>\n",
       "    <tr>\n",
       "      <th>2</th>\n",
       "      <td>80.0</td>\n",
       "      <td>58.011690</td>\n",
       "    </tr>\n",
       "    <tr>\n",
       "      <th>3</th>\n",
       "      <td>24.0</td>\n",
       "      <td>43.911425</td>\n",
       "    </tr>\n",
       "    <tr>\n",
       "      <th>4</th>\n",
       "      <td>64.0</td>\n",
       "      <td>46.731478</td>\n",
       "    </tr>\n",
       "  </tbody>\n",
       "</table>\n",
       "</div>"
      ],
      "text/plain": [
       "   Actual  Predicted\n",
       "0    53.0  52.371584\n",
       "1    50.0  63.651795\n",
       "2    80.0  58.011690\n",
       "3    24.0  43.911425\n",
       "4    64.0  46.731478"
      ]
     },
     "execution_count": 151,
     "metadata": {},
     "output_type": "execute_result"
    }
   ],
   "source": [
    "# Display the test and predicted values\n",
    "df = pd.DataFrame({'Actual': y_test, 'Predicted': y_pred})\n",
    "df.head()"
   ]
  },
  {
   "cell_type": "code",
   "execution_count": 152,
   "metadata": {},
   "outputs": [
    {
     "name": "stdout",
     "output_type": "stream",
     "text": [
      "Mean Absolute Error: 14.88202462644476\n",
      "Mean Squared Error: 300.0411017393494\n",
      "Root Mean Squared Error: 17.321694540065916\n",
      "R2 score: 0.128047047328808\n"
     ]
    }
   ],
   "source": [
    "# Calculate the error values\n",
    "print('Mean Absolute Error:', metrics.mean_absolute_error(y_test, y_pred))\n",
    "print('Mean Squared Error:', metrics.mean_squared_error(y_test, y_pred))\n",
    "print('Root Mean Squared Error:', np.sqrt(metrics.mean_squared_error(y_test, y_pred)))\n",
    "print('R2 score:', metrics.r2_score(y_test, y_pred))"
   ]
  },
  {
   "cell_type": "markdown",
   "metadata": {},
   "source": [
    "Linear Regression with Previous Scores as the Independent variable"
   ]
  },
  {
   "cell_type": "code",
   "execution_count": 153,
   "metadata": {},
   "outputs": [
    {
     "data": {
      "image/png": "[encoded data removed]",
      "text/plain": [
       "<Figure size 640x480 with 1 Axes>"
      ]
     },
     "metadata": {},
     "output_type": "display_data"
    }
   ],
   "source": [
    "df_SPPSPer.plot(x='Performance Index', y='Previous Scores', style='*')\n",
    "plt.title('Previous Scores vs Academic Performance')\n",
    "plt.xlabel('Academic Performance')\n",
    "plt.ylabel('Previous Scores')\n",
    "plt.show()"
   ]
  },
  {
   "cell_type": "code",
   "execution_count": 154,
   "metadata": {},
   "outputs": [],
   "source": [
    "# Split the dataset into X and y columns\n",
    "X = df_SPPSPer.iloc[:, :-1].values            # Independent variables\n",
    "y = df_SPPSPer.iloc[:, 1].values              # Dependent variable"
   ]
  },
  {
   "cell_type": "code",
   "execution_count": 155,
   "metadata": {},
   "outputs": [],
   "source": [
    "# Split the dataset\n",
    "X_train, X_test, y_train, y_test = train_test_split(X, y, test_size=0.2, random_state=0)"
   ]
  },
  {
   "cell_type": "code",
   "execution_count": 156,
   "metadata": {},
   "outputs": [
    {
     "data": {
      "text/plain": [
       "((10000, 1), (10000,), (8000, 1), (2000, 1), (8000,), (2000,))"
      ]
     },
     "execution_count": 156,
     "metadata": {},
     "output_type": "execute_result"
    }
   ],
   "source": [
    "# Show the rows and columns\n",
    "X.shape, y.shape, X_train.shape, X_test.shape, y_train.shape, y_test.shape"
   ]
  },
  {
   "cell_type": "code",
   "execution_count": 157,
   "metadata": {},
   "outputs": [],
   "source": [
    "# Method to calculate the score\n",
    "def get_cv_scores(model):\n",
    "    scores = cross_val_score(model,\n",
    "                             X_train,\n",
    "                             y_train,\n",
    "                             cv = 10,\n",
    "                             scoring='r2')\n",
    "    \n",
    "    print('CV Mean: ', np.mean(scores))\n",
    "    print('STD: ', np.std(scores))\n",
    "    print('\\n')"
   ]
  },
  {
   "cell_type": "code",
   "execution_count": 158,
   "metadata": {},
   "outputs": [
    {
     "name": "stdout",
     "output_type": "stream",
     "text": [
      "CV Mean:  0.8397090739092226\n",
      "STD:  0.00818414928346299\n",
      "\n",
      "\n"
     ]
    }
   ],
   "source": [
    "# Train the model\n",
    "lr = LinearRegression().fit(X_train, y_train)\n",
    "\n",
    "# Calculate the mean values and Standard deviation\n",
    "get_cv_scores(lr)"
   ]
  },
  {
   "cell_type": "code",
   "execution_count": 159,
   "metadata": {},
   "outputs": [
    {
     "name": "stdout",
     "output_type": "stream",
     "text": [
      "-15.506091435073245\n",
      "[1.01765602]\n"
     ]
    }
   ],
   "source": [
    "# Calculate the intercept and coefficient\n",
    "print(lr.intercept_)\n",
    "print(lr.coef_)"
   ]
  },
  {
   "cell_type": "code",
   "execution_count": 160,
   "metadata": {},
   "outputs": [],
   "source": [
    "# Calculate the predicted values\n",
    "y_pred = lr.predict(X_test)\n",
    "# y_pred"
   ]
  },
  {
   "cell_type": "code",
   "execution_count": 161,
   "metadata": {},
   "outputs": [
    {
     "data": {
      "image/png": "[encoded data removed]",
      "text/plain": [
       "<Figure size 640x480 with 1 Axes>"
      ]
     },
     "metadata": {},
     "output_type": "display_data"
    }
   ],
   "source": [
    "# Show the plotted values\n",
    "plt.scatter(X_train, y_train)\n",
    "plt.plot(X_test, y_pred, color='red')\n",
    "plt.show()"
   ]
  },
  {
   "cell_type": "code",
   "execution_count": 162,
   "metadata": {},
   "outputs": [
    {
     "data": {
      "text/html": [
       "<div>\n",
       "<style scoped>\n",
       "    .dataframe tbody tr th:only-of-type {\n",
       "        vertical-align: middle;\n",
       "    }\n",
       "\n",
       "    .dataframe tbody tr th {\n",
       "        vertical-align: top;\n",
       "    }\n",
       "\n",
       "    .dataframe thead th {\n",
       "        text-align: right;\n",
       "    }\n",
       "</style>\n",
       "<table border=\"1\" class=\"dataframe\">\n",
       "  <thead>\n",
       "    <tr style=\"text-align: right;\">\n",
       "      <th></th>\n",
       "      <th>Actual</th>\n",
       "      <th>Predicted</th>\n",
       "    </tr>\n",
       "  </thead>\n",
       "  <tbody>\n",
       "    <tr>\n",
       "      <th>0</th>\n",
       "      <td>53.0</td>\n",
       "      <td>52.676862</td>\n",
       "    </tr>\n",
       "    <tr>\n",
       "      <th>1</th>\n",
       "      <td>50.0</td>\n",
       "      <td>45.553270</td>\n",
       "    </tr>\n",
       "    <tr>\n",
       "      <th>2</th>\n",
       "      <td>80.0</td>\n",
       "      <td>76.082950</td>\n",
       "    </tr>\n",
       "    <tr>\n",
       "      <th>3</th>\n",
       "      <td>24.0</td>\n",
       "      <td>36.394365</td>\n",
       "    </tr>\n",
       "    <tr>\n",
       "      <th>4</th>\n",
       "      <td>64.0</td>\n",
       "      <td>76.082950</td>\n",
       "    </tr>\n",
       "  </tbody>\n",
       "</table>\n",
       "</div>"
      ],
      "text/plain": [
       "   Actual  Predicted\n",
       "0    53.0  52.676862\n",
       "1    50.0  45.553270\n",
       "2    80.0  76.082950\n",
       "3    24.0  36.394365\n",
       "4    64.0  76.082950"
      ]
     },
     "execution_count": 162,
     "metadata": {},
     "output_type": "execute_result"
    }
   ],
   "source": [
    "# Display the test and predicted values\n",
    "df = pd.DataFrame({'Actual': y_test, 'Predicted': y_pred})\n",
    "df.head()"
   ]
  },
  {
   "cell_type": "code",
   "execution_count": 163,
   "metadata": {},
   "outputs": [
    {
     "name": "stdout",
     "output_type": "stream",
     "text": [
      "Mean Absolute Error: 6.5684993751275815\n",
      "Mean Squared Error: 59.906453523970555\n",
      "Root Mean Squared Error: 7.739925937886651\n",
      "R2 score: 0.8259051552221549\n"
     ]
    }
   ],
   "source": [
    "# Calculate the error values\n",
    "print('Mean Absolute Error:', metrics.mean_absolute_error(y_test, y_pred))\n",
    "print('Mean Squared Error:', metrics.mean_squared_error(y_test, y_pred))\n",
    "print('Root Mean Squared Error:', np.sqrt(metrics.mean_squared_error(y_test, y_pred)))\n",
    "print('R2 score:', metrics.r2_score(y_test, y_pred))"
   ]
  }
 ],
 "metadata": {
  "kernelspec": {
   "display_name": "Python 3 (ipykernel)",
   "language": "python",
   "name": "python3"
  },
  "language_info": {
   "codemirror_mode": {
    "name": "ipython",
    "version": 3
   },
   "file_extension": ".py",
   "mimetype": "text/x-python",
   "name": "python",
   "nbconvert_exporter": "python",
   "pygments_lexer": "ipython3",
   "version": "3.11.7"
  }
 },
 "nbformat": 4,
 "nbformat_minor": 4
}
