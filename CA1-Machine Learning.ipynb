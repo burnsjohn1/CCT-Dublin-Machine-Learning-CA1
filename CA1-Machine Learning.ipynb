{
 "cells": [
  {
   "cell_type": "markdown",
   "metadata": {},
   "source": [
    "### CA1 Machine learning\n",
    "\n",
    "## Model 1 Supervised Learning\n",
    "\n",
    "# Import packages"
   ]
  },
  {
   "cell_type": "code",
   "execution_count": 2,
   "metadata": {},
   "outputs": [],
   "source": [
    "#Import packages necessary for model\n",
    "import numpy as np\n",
    "import pandas as pd\n",
    "import matplotlib.pyplot as plt\n",
    "import seaborn as sns\n",
    "from sklearn.metrics import confusion_matrix\n",
    "from sklearn.model_selection import KFold\n",
    "from sklearn.model_selection import cross_val_score\n",
    "from sklearn.model_selection import GridSearchCV\n",
    "from sklearn.preprocessing import scale\n",
    "from sklearn.linear_model import LinearRegression\n",
    "from sklearn.model_selection import train_test_split, cross_val_score\n",
    "from sklearn import metrics\n",
    "# Import thi slibrary to suppress the warnings\n",
    "import warnings\n",
    "warnings.filterwarnings('ignore')   "
   ]
  },
  {
   "cell_type": "markdown",
   "metadata": {},
   "source": [
    "## Abstract: \n",
    "This dataset is sythetic and concerns student academic performance and is from Kaggle (www.kaggle.com. (n.d.)). Student Performance (Multiple Linear Regression). [online] Available at: https://www.kaggle.com/datasets/nikhil7280/student-performance-multiple-linear-regression.\r\n",
    "\r",
    "It contains the following data\n",
    "\n",
    "-  Hours Studied: The total number of hours spent studying by each student\n",
    "- \r\n",
    "Previous Scores: The scores obtained by students in previous test- .\r\n",
    "Extracurricular Activities: Whether the student participates in extracurricular activities (/or \n",
    "- ).\r\n",
    "Sleep HouAhe averdaily age number of hours of s\n",
    "       \n",
    "- ay.\r\n",
    "Sample Question Papers Practiced: The number of sample question pataken by the pers the st.c- le:\r\n",
    "\r\n",
    "Performance Index: A measure of the overall performance ostudent representingresents the student's academc erf.orma\n",
    "## Key Research Questions\n",
    "Can we predict whether students will pass or fail their examination. \n",
    "To what extent d MachiDo the other variables impact on student perform model?"
   ]
  },
  {
   "cell_type": "markdown",
   "metadata": {},
   "source": [
    "\n"
   ]
  },
  {
   "cell_type": "code",
   "execution_count": 3,
   "metadata": {},
   "outputs": [],
   "source": [
    "# Read Student Perfromance file\n",
    "df_SP = pd.read_csv('Student_Performance.csv')\n",
    "\n"
   ]
  },
  {
   "cell_type": "code",
   "execution_count": 4,
   "metadata": {},
   "outputs": [
    {
     "data": {
      "text/plain": [
       "(10000, 6)"
      ]
     },
     "execution_count": 4,
     "metadata": {},
     "output_type": "execute_result"
    }
   ],
   "source": [
    "df_SP.shape"
   ]
  },
  {
   "cell_type": "code",
   "execution_count": 5,
   "metadata": {
    "scrolled": true
   },
   "outputs": [
    {
     "data": {
      "text/html": [
       "<div>\n",
       "<style scoped>\n",
       "    .dataframe tbody tr th:only-of-type {\n",
       "        vertical-align: middle;\n",
       "    }\n",
       "\n",
       "    .dataframe tbody tr th {\n",
       "        vertical-align: top;\n",
       "    }\n",
       "\n",
       "    .dataframe thead th {\n",
       "        text-align: right;\n",
       "    }\n",
       "</style>\n",
       "<table border=\"1\" class=\"dataframe\">\n",
       "  <thead>\n",
       "    <tr style=\"text-align: right;\">\n",
       "      <th></th>\n",
       "      <th>Hours Studied</th>\n",
       "      <th>Previous Scores</th>\n",
       "      <th>Extracurricular Activities</th>\n",
       "      <th>Sleep Hours</th>\n",
       "      <th>Sample Question Papers Practiced</th>\n",
       "      <th>Performance Index</th>\n",
       "    </tr>\n",
       "  </thead>\n",
       "  <tbody>\n",
       "    <tr>\n",
       "      <th>0</th>\n",
       "      <td>7</td>\n",
       "      <td>99</td>\n",
       "      <td>Yes</td>\n",
       "      <td>9</td>\n",
       "      <td>1</td>\n",
       "      <td>91.0</td>\n",
       "    </tr>\n",
       "    <tr>\n",
       "      <th>1</th>\n",
       "      <td>4</td>\n",
       "      <td>82</td>\n",
       "      <td>No</td>\n",
       "      <td>4</td>\n",
       "      <td>2</td>\n",
       "      <td>65.0</td>\n",
       "    </tr>\n",
       "    <tr>\n",
       "      <th>2</th>\n",
       "      <td>8</td>\n",
       "      <td>51</td>\n",
       "      <td>Yes</td>\n",
       "      <td>7</td>\n",
       "      <td>2</td>\n",
       "      <td>45.0</td>\n",
       "    </tr>\n",
       "    <tr>\n",
       "      <th>3</th>\n",
       "      <td>5</td>\n",
       "      <td>52</td>\n",
       "      <td>Yes</td>\n",
       "      <td>5</td>\n",
       "      <td>2</td>\n",
       "      <td>36.0</td>\n",
       "    </tr>\n",
       "    <tr>\n",
       "      <th>4</th>\n",
       "      <td>7</td>\n",
       "      <td>75</td>\n",
       "      <td>No</td>\n",
       "      <td>8</td>\n",
       "      <td>5</td>\n",
       "      <td>66.0</td>\n",
       "    </tr>\n",
       "  </tbody>\n",
       "</table>\n",
       "</div>"
      ],
      "text/plain": [
       "   Hours Studied  Previous Scores Extracurricular Activities  Sleep Hours  \\\n",
       "0              7               99                        Yes            9   \n",
       "1              4               82                         No            4   \n",
       "2              8               51                        Yes            7   \n",
       "3              5               52                        Yes            5   \n",
       "4              7               75                         No            8   \n",
       "\n",
       "   Sample Question Papers Practiced  Performance Index  \n",
       "0                                 1               91.0  \n",
       "1                                 2               65.0  \n",
       "2                                 2               45.0  \n",
       "3                                 2               36.0  \n",
       "4                                 5               66.0  "
      ]
     },
     "execution_count": 5,
     "metadata": {},
     "output_type": "execute_result"
    }
   ],
   "source": [
    "# Display first 5 records\n",
    "df_SP.head()"
   ]
  },
  {
   "cell_type": "code",
   "execution_count": 6,
   "metadata": {},
   "outputs": [
    {
     "name": "stdout",
     "output_type": "stream",
     "text": [
      "<class 'pandas.core.frame.DataFrame'>\n",
      "RangeIndex: 10000 entries, 0 to 9999\n",
      "Data columns (total 6 columns):\n",
      " #   Column                            Non-Null Count  Dtype  \n",
      "---  ------                            --------------  -----  \n",
      " 0   Hours Studied                     10000 non-null  int64  \n",
      " 1   Previous Scores                   10000 non-null  int64  \n",
      " 2   Extracurricular Activities        10000 non-null  object \n",
      " 3   Sleep Hours                       10000 non-null  int64  \n",
      " 4   Sample Question Papers Practiced  10000 non-null  int64  \n",
      " 5   Performance Index                 10000 non-null  float64\n",
      "dtypes: float64(1), int64(4), object(1)\n",
      "memory usage: 468.9+ KB\n"
     ]
    }
   ],
   "source": [
    "df_SP.info()"
   ]
  },
  {
   "cell_type": "code",
   "execution_count": 7,
   "metadata": {
    "scrolled": true
   },
   "outputs": [
    {
     "data": {
      "text/html": [
       "<div>\n",
       "<style scoped>\n",
       "    .dataframe tbody tr th:only-of-type {\n",
       "        vertical-align: middle;\n",
       "    }\n",
       "\n",
       "    .dataframe tbody tr th {\n",
       "        vertical-align: top;\n",
       "    }\n",
       "\n",
       "    .dataframe thead th {\n",
       "        text-align: right;\n",
       "    }\n",
       "</style>\n",
       "<table border=\"1\" class=\"dataframe\">\n",
       "  <thead>\n",
       "    <tr style=\"text-align: right;\">\n",
       "      <th></th>\n",
       "      <th>Hours Studied</th>\n",
       "      <th>Previous Scores</th>\n",
       "      <th>Sleep Hours</th>\n",
       "      <th>Sample Question Papers Practiced</th>\n",
       "      <th>Performance Index</th>\n",
       "    </tr>\n",
       "  </thead>\n",
       "  <tbody>\n",
       "    <tr>\n",
       "      <th>count</th>\n",
       "      <td>10000.000000</td>\n",
       "      <td>10000.000000</td>\n",
       "      <td>10000.000000</td>\n",
       "      <td>10000.000000</td>\n",
       "      <td>10000.000000</td>\n",
       "    </tr>\n",
       "    <tr>\n",
       "      <th>mean</th>\n",
       "      <td>4.992900</td>\n",
       "      <td>69.445700</td>\n",
       "      <td>6.530600</td>\n",
       "      <td>4.583300</td>\n",
       "      <td>55.224800</td>\n",
       "    </tr>\n",
       "    <tr>\n",
       "      <th>std</th>\n",
       "      <td>2.589309</td>\n",
       "      <td>17.343152</td>\n",
       "      <td>1.695863</td>\n",
       "      <td>2.867348</td>\n",
       "      <td>19.212558</td>\n",
       "    </tr>\n",
       "    <tr>\n",
       "      <th>min</th>\n",
       "      <td>1.000000</td>\n",
       "      <td>40.000000</td>\n",
       "      <td>4.000000</td>\n",
       "      <td>0.000000</td>\n",
       "      <td>10.000000</td>\n",
       "    </tr>\n",
       "    <tr>\n",
       "      <th>25%</th>\n",
       "      <td>3.000000</td>\n",
       "      <td>54.000000</td>\n",
       "      <td>5.000000</td>\n",
       "      <td>2.000000</td>\n",
       "      <td>40.000000</td>\n",
       "    </tr>\n",
       "    <tr>\n",
       "      <th>50%</th>\n",
       "      <td>5.000000</td>\n",
       "      <td>69.000000</td>\n",
       "      <td>7.000000</td>\n",
       "      <td>5.000000</td>\n",
       "      <td>55.000000</td>\n",
       "    </tr>\n",
       "    <tr>\n",
       "      <th>75%</th>\n",
       "      <td>7.000000</td>\n",
       "      <td>85.000000</td>\n",
       "      <td>8.000000</td>\n",
       "      <td>7.000000</td>\n",
       "      <td>71.000000</td>\n",
       "    </tr>\n",
       "    <tr>\n",
       "      <th>max</th>\n",
       "      <td>9.000000</td>\n",
       "      <td>99.000000</td>\n",
       "      <td>9.000000</td>\n",
       "      <td>9.000000</td>\n",
       "      <td>100.000000</td>\n",
       "    </tr>\n",
       "  </tbody>\n",
       "</table>\n",
       "</div>"
      ],
      "text/plain": [
       "       Hours Studied  Previous Scores   Sleep Hours  \\\n",
       "count   10000.000000     10000.000000  10000.000000   \n",
       "mean        4.992900        69.445700      6.530600   \n",
       "std         2.589309        17.343152      1.695863   \n",
       "min         1.000000        40.000000      4.000000   \n",
       "25%         3.000000        54.000000      5.000000   \n",
       "50%         5.000000        69.000000      7.000000   \n",
       "75%         7.000000        85.000000      8.000000   \n",
       "max         9.000000        99.000000      9.000000   \n",
       "\n",
       "       Sample Question Papers Practiced  Performance Index  \n",
       "count                      10000.000000       10000.000000  \n",
       "mean                           4.583300          55.224800  \n",
       "std                            2.867348          19.212558  \n",
       "min                            0.000000          10.000000  \n",
       "25%                            2.000000          40.000000  \n",
       "50%                            5.000000          55.000000  \n",
       "75%                            7.000000          71.000000  \n",
       "max                            9.000000         100.000000  "
      ]
     },
     "execution_count": 7,
     "metadata": {},
     "output_type": "execute_result"
    }
   ],
   "source": [
    "# Statistical profile of the file\n",
    "df_SP.describe()"
   ]
  },
  {
   "cell_type": "markdown",
   "metadata": {},
   "source": [
    "# Does the Data need to be wrangled?\n",
    "- missing values - none see below\n",
    "- covert string / categorical to numeric - yes extracurricular activities - see below\n",
    "- need to be normalised / rescaled - no need - data falls within limited bounds - no possibilityof extreme  outliers."
   ]
  },
  {
   "cell_type": "code",
   "execution_count": 8,
   "metadata": {},
   "outputs": [
    {
     "name": "stdout",
     "output_type": "stream",
     "text": [
      "Missing Values:\n",
      "Hours Studied                       0\n",
      "Previous Scores                     0\n",
      "Extracurricular Activities          0\n",
      "Sleep Hours                         0\n",
      "Sample Question Papers Practiced    0\n",
      "Performance Index                   0\n",
      "dtype: int64\n"
     ]
    }
   ],
   "source": [
    "# Check for missing values\n",
    "missing_values = df_SP.isnull().sum()\n",
    "print(\"Missing Values:\")\n",
    "print(missing_values)"
   ]
  },
  {
   "cell_type": "code",
   "execution_count": 9,
   "metadata": {},
   "outputs": [
    {
     "name": "stdout",
     "output_type": "stream",
     "text": [
      "Class No: Count = 5052\n",
      "Class Yes: Count = 4948\n"
     ]
    }
   ],
   "source": [
    "# Find unique value for Extracurricular Activities\n",
    "unique_classes, class_counts = np.unique(df_SP['Extracurricular Activities'], return_counts=True)\n",
    "\n",
    "for cls, count in zip(unique_classes, class_counts):\n",
    "    print(f\"Class {cls}: Count = {count}\")"
   ]
  },
  {
   "cell_type": "code",
   "execution_count": 10,
   "metadata": {},
   "outputs": [],
   "source": [
    "#Replace non-numeric categorical data No with 0 and Yes with 1\n",
    "df_SP['Extracurricular Activities'].replace('No',0,inplace=True)\n",
    "df_SP['Extracurricular Activities'].replace('Yes',1,inplace=True)"
   ]
  },
  {
   "cell_type": "code",
   "execution_count": 11,
   "metadata": {},
   "outputs": [
    {
     "data": {
      "text/html": [
       "<div>\n",
       "<style scoped>\n",
       "    .dataframe tbody tr th:only-of-type {\n",
       "        vertical-align: middle;\n",
       "    }\n",
       "\n",
       "    .dataframe tbody tr th {\n",
       "        vertical-align: top;\n",
       "    }\n",
       "\n",
       "    .dataframe thead th {\n",
       "        text-align: right;\n",
       "    }\n",
       "</style>\n",
       "<table border=\"1\" class=\"dataframe\">\n",
       "  <thead>\n",
       "    <tr style=\"text-align: right;\">\n",
       "      <th></th>\n",
       "      <th>Hours Studied</th>\n",
       "      <th>Previous Scores</th>\n",
       "      <th>Extracurricular Activities</th>\n",
       "      <th>Sleep Hours</th>\n",
       "      <th>Sample Question Papers Practiced</th>\n",
       "      <th>Performance Index</th>\n",
       "    </tr>\n",
       "  </thead>\n",
       "  <tbody>\n",
       "    <tr>\n",
       "      <th>0</th>\n",
       "      <td>7</td>\n",
       "      <td>99</td>\n",
       "      <td>1</td>\n",
       "      <td>9</td>\n",
       "      <td>1</td>\n",
       "      <td>91.0</td>\n",
       "    </tr>\n",
       "    <tr>\n",
       "      <th>1</th>\n",
       "      <td>4</td>\n",
       "      <td>82</td>\n",
       "      <td>0</td>\n",
       "      <td>4</td>\n",
       "      <td>2</td>\n",
       "      <td>65.0</td>\n",
       "    </tr>\n",
       "    <tr>\n",
       "      <th>2</th>\n",
       "      <td>8</td>\n",
       "      <td>51</td>\n",
       "      <td>1</td>\n",
       "      <td>7</td>\n",
       "      <td>2</td>\n",
       "      <td>45.0</td>\n",
       "    </tr>\n",
       "    <tr>\n",
       "      <th>3</th>\n",
       "      <td>5</td>\n",
       "      <td>52</td>\n",
       "      <td>1</td>\n",
       "      <td>5</td>\n",
       "      <td>2</td>\n",
       "      <td>36.0</td>\n",
       "    </tr>\n",
       "    <tr>\n",
       "      <th>4</th>\n",
       "      <td>7</td>\n",
       "      <td>75</td>\n",
       "      <td>0</td>\n",
       "      <td>8</td>\n",
       "      <td>5</td>\n",
       "      <td>66.0</td>\n",
       "    </tr>\n",
       "  </tbody>\n",
       "</table>\n",
       "</div>"
      ],
      "text/plain": [
       "   Hours Studied  Previous Scores  Extracurricular Activities  Sleep Hours  \\\n",
       "0              7               99                           1            9   \n",
       "1              4               82                           0            4   \n",
       "2              8               51                           1            7   \n",
       "3              5               52                           1            5   \n",
       "4              7               75                           0            8   \n",
       "\n",
       "   Sample Question Papers Practiced  Performance Index  \n",
       "0                                 1               91.0  \n",
       "1                                 2               65.0  \n",
       "2                                 2               45.0  \n",
       "3                                 2               36.0  \n",
       "4                                 5               66.0  "
      ]
     },
     "execution_count": 11,
     "metadata": {},
     "output_type": "execute_result"
    }
   ],
   "source": [
    "# Check Extracurricular Activities field now 1 or 0  - Display first 5 records\n",
    "df_SP.head()"
   ]
  },
  {
   "cell_type": "code",
   "execution_count": 12,
   "metadata": {},
   "outputs": [],
   "source": [
    "## Visualise key variables"
   ]
  },
  {
   "cell_type": "code",
   "execution_count": 13,
   "metadata": {},
   "outputs": [
    {
     "data": {
      "text/plain": [
       "<seaborn.axisgrid.FacetGrid at 0x2262b421390>"
      ]
     },
     "execution_count": 13,
     "metadata": {},
     "output_type": "execute_result"
    },
    {
     "data": {
      "image/png": "[encoded data removed]",
      "text/plain": [
       "<Figure size 500x500 with 1 Axes>"
      ]
     },
     "metadata": {},
     "output_type": "display_data"
    }
   ],
   "source": [
    "# Plot the Hours Studied\n",
    "sns.displot(df_SP, x=\"Hours Studied\")"
   ]
  },
  {
   "cell_type": "code",
   "execution_count": 14,
   "metadata": {
    "scrolled": true
   },
   "outputs": [
    {
     "data": {
      "text/plain": [
       "<seaborn.axisgrid.FacetGrid at 0x2262b2e0650>"
      ]
     },
     "execution_count": 14,
     "metadata": {},
     "output_type": "execute_result"
    },
    {
     "data": {
      "image/png": "[encoded data removed]",
      "text/plain": [
       "<Figure size 500x500 with 1 Axes>"
      ]
     },
     "metadata": {},
     "output_type": "display_data"
    }
   ],
   "source": [
    "sns.displot(df_SP, x=\"Previous Scores\")"
   ]
  },
  {
   "cell_type": "code",
   "execution_count": 15,
   "metadata": {
    "scrolled": true
   },
   "outputs": [
    {
     "data": {
      "text/plain": [
       "<seaborn.axisgrid.FacetGrid at 0x2262bed54d0>"
      ]
     },
     "execution_count": 15,
     "metadata": {},
     "output_type": "execute_result"
    },
    {
     "data": {
      "image/png": "[encoded data removed]",
      "text/plain": [
       "<Figure size 500x500 with 1 Axes>"
      ]
     },
     "metadata": {},
     "output_type": "display_data"
    }
   ],
   "source": [
    "sns.displot(df_SP, x=\"Sample Question Papers Practiced\")"
   ]
  },
  {
   "cell_type": "code",
   "execution_count": 16,
   "metadata": {},
   "outputs": [
    {
     "data": {
      "text/plain": [
       "<seaborn.axisgrid.FacetGrid at 0x2262d18e790>"
      ]
     },
     "execution_count": 16,
     "metadata": {},
     "output_type": "execute_result"
    },
    {
     "data": {
      "image/png": "[encoded data removed]",
      "text/plain": [
       "<Figure size 500x500 with 1 Axes>"
      ]
     },
     "metadata": {},
     "output_type": "display_data"
    }
   ],
   "source": [
    "sns.displot(df_SP, x=\"Performance Index\")"
   ]
  },
  {
   "cell_type": "markdown",
   "metadata": {},
   "source": [
    "### Question 1 - can these variables predict whether a student passes or fails?\n",
    "A = 90-100%\n",
    "B = 80-90%\n",
    "C = 70-79%\n",
    "D = 60-69%\n",
    "F = below 60%\n",
    "Convert values below 60% to 0 and above to 1"
   ]
  },
  {
   "cell_type": "code",
   "execution_count": 17,
   "metadata": {
    "scrolled": true
   },
   "outputs": [
    {
     "data": {
      "text/html": [
       "<div>\n",
       "<style scoped>\n",
       "    .dataframe tbody tr th:only-of-type {\n",
       "        vertical-align: middle;\n",
       "    }\n",
       "\n",
       "    .dataframe tbody tr th {\n",
       "        vertical-align: top;\n",
       "    }\n",
       "\n",
       "    .dataframe thead th {\n",
       "        text-align: right;\n",
       "    }\n",
       "</style>\n",
       "<table border=\"1\" class=\"dataframe\">\n",
       "  <thead>\n",
       "    <tr style=\"text-align: right;\">\n",
       "      <th></th>\n",
       "      <th>Hours Studied</th>\n",
       "      <th>Previous Scores</th>\n",
       "      <th>Extracurricular Activities</th>\n",
       "      <th>Sleep Hours</th>\n",
       "      <th>Sample Question Papers Practiced</th>\n",
       "      <th>Performance Index</th>\n",
       "    </tr>\n",
       "  </thead>\n",
       "  <tbody>\n",
       "    <tr>\n",
       "      <th>0</th>\n",
       "      <td>7</td>\n",
       "      <td>99</td>\n",
       "      <td>1</td>\n",
       "      <td>9</td>\n",
       "      <td>1</td>\n",
       "      <td>91.0</td>\n",
       "    </tr>\n",
       "    <tr>\n",
       "      <th>1</th>\n",
       "      <td>4</td>\n",
       "      <td>82</td>\n",
       "      <td>0</td>\n",
       "      <td>4</td>\n",
       "      <td>2</td>\n",
       "      <td>65.0</td>\n",
       "    </tr>\n",
       "    <tr>\n",
       "      <th>2</th>\n",
       "      <td>8</td>\n",
       "      <td>51</td>\n",
       "      <td>1</td>\n",
       "      <td>7</td>\n",
       "      <td>2</td>\n",
       "      <td>45.0</td>\n",
       "    </tr>\n",
       "    <tr>\n",
       "      <th>3</th>\n",
       "      <td>5</td>\n",
       "      <td>52</td>\n",
       "      <td>1</td>\n",
       "      <td>5</td>\n",
       "      <td>2</td>\n",
       "      <td>36.0</td>\n",
       "    </tr>\n",
       "    <tr>\n",
       "      <th>4</th>\n",
       "      <td>7</td>\n",
       "      <td>75</td>\n",
       "      <td>0</td>\n",
       "      <td>8</td>\n",
       "      <td>5</td>\n",
       "      <td>66.0</td>\n",
       "    </tr>\n",
       "    <tr>\n",
       "      <th>...</th>\n",
       "      <td>...</td>\n",
       "      <td>...</td>\n",
       "      <td>...</td>\n",
       "      <td>...</td>\n",
       "      <td>...</td>\n",
       "      <td>...</td>\n",
       "    </tr>\n",
       "    <tr>\n",
       "      <th>9995</th>\n",
       "      <td>1</td>\n",
       "      <td>49</td>\n",
       "      <td>1</td>\n",
       "      <td>4</td>\n",
       "      <td>2</td>\n",
       "      <td>23.0</td>\n",
       "    </tr>\n",
       "    <tr>\n",
       "      <th>9996</th>\n",
       "      <td>7</td>\n",
       "      <td>64</td>\n",
       "      <td>1</td>\n",
       "      <td>8</td>\n",
       "      <td>5</td>\n",
       "      <td>58.0</td>\n",
       "    </tr>\n",
       "    <tr>\n",
       "      <th>9997</th>\n",
       "      <td>6</td>\n",
       "      <td>83</td>\n",
       "      <td>1</td>\n",
       "      <td>8</td>\n",
       "      <td>5</td>\n",
       "      <td>74.0</td>\n",
       "    </tr>\n",
       "    <tr>\n",
       "      <th>9998</th>\n",
       "      <td>9</td>\n",
       "      <td>97</td>\n",
       "      <td>1</td>\n",
       "      <td>7</td>\n",
       "      <td>0</td>\n",
       "      <td>95.0</td>\n",
       "    </tr>\n",
       "    <tr>\n",
       "      <th>9999</th>\n",
       "      <td>7</td>\n",
       "      <td>74</td>\n",
       "      <td>0</td>\n",
       "      <td>8</td>\n",
       "      <td>1</td>\n",
       "      <td>64.0</td>\n",
       "    </tr>\n",
       "  </tbody>\n",
       "</table>\n",
       "<p>10000 rows × 6 columns</p>\n",
       "</div>"
      ],
      "text/plain": [
       "      Hours Studied  Previous Scores  Extracurricular Activities  Sleep Hours  \\\n",
       "0                 7               99                           1            9   \n",
       "1                 4               82                           0            4   \n",
       "2                 8               51                           1            7   \n",
       "3                 5               52                           1            5   \n",
       "4                 7               75                           0            8   \n",
       "...             ...              ...                         ...          ...   \n",
       "9995              1               49                           1            4   \n",
       "9996              7               64                           1            8   \n",
       "9997              6               83                           1            8   \n",
       "9998              9               97                           1            7   \n",
       "9999              7               74                           0            8   \n",
       "\n",
       "      Sample Question Papers Practiced  Performance Index  \n",
       "0                                    1               91.0  \n",
       "1                                    2               65.0  \n",
       "2                                    2               45.0  \n",
       "3                                    2               36.0  \n",
       "4                                    5               66.0  \n",
       "...                                ...                ...  \n",
       "9995                                 2               23.0  \n",
       "9996                                 5               58.0  \n",
       "9997                                 5               74.0  \n",
       "9998                                 0               95.0  \n",
       "9999                                 1               64.0  \n",
       "\n",
       "[10000 rows x 6 columns]"
      ]
     },
     "execution_count": 17,
     "metadata": {},
     "output_type": "execute_result"
    }
   ],
   "source": [
    "df_SP"
   ]
  },
  {
   "cell_type": "code",
   "execution_count": 18,
   "metadata": {},
   "outputs": [
    {
     "name": "stdout",
     "output_type": "stream",
     "text": [
      "      Hours Studied  Previous Scores  Extracurricular Activities  Sleep Hours  \\\n",
      "0                 7               99                           1            9   \n",
      "1                 4               82                           0            4   \n",
      "2                 8               51                           1            7   \n",
      "3                 5               52                           1            5   \n",
      "4                 7               75                           0            8   \n",
      "...             ...              ...                         ...          ...   \n",
      "9995              1               49                           1            4   \n",
      "9996              7               64                           1            8   \n",
      "9997              6               83                           1            8   \n",
      "9998              9               97                           1            7   \n",
      "9999              7               74                           0            8   \n",
      "\n",
      "      Sample Question Papers Practiced  Performance Index  PassFail  \n",
      "0                                    1               91.0         1  \n",
      "1                                    2               65.0         1  \n",
      "2                                    2               45.0         0  \n",
      "3                                    2               36.0         0  \n",
      "4                                    5               66.0         1  \n",
      "...                                ...                ...       ...  \n",
      "9995                                 2               23.0         0  \n",
      "9996                                 5               58.0         0  \n",
      "9997                                 5               74.0         1  \n",
      "9998                                 0               95.0         1  \n",
      "9999                                 1               64.0         1  \n",
      "\n",
      "[10000 rows x 7 columns]\n"
     ]
    }
   ],
   "source": [
    "df_SP['PassFail'] = (df_SP['Performance Index'] > 60).astype(int)\n",
    "\n",
    "print(df_SP)"
   ]
  },
  {
   "cell_type": "code",
   "execution_count": 19,
   "metadata": {},
   "outputs": [],
   "source": [
    "# Setup new Datasets for SVC and Regression tests.\n",
    "df_SPInd = df_SP.drop(['Performance Index','PassFail'], axis = 1)\n",
    "df_SPDCon = df_SP['Performance Index']\n",
    "df_SPDDis = df_SP['PassFail']\n",
    "df_SPSleepPer = df_SP[['Sleep Hours','Performance Index']]\n",
    "df_SPHSPer = df_SP[['Hours Studied','Performance Index']]\n",
    "df_SPSQPPer = df_SP[['Sample Question Papers Practiced','Performance Index']]\n",
    "df_SPPSPer = df_SP[['Previous Scores','Performance Index']]\n",
    "# axis = 1 means along columnwise"
   ]
  },
  {
   "cell_type": "code",
   "execution_count": 20,
   "metadata": {
    "scrolled": true
   },
   "outputs": [],
   "source": [
    "#Display some records to confirm that the results are as expected \n",
    "#Display last 5 records\n",
    "#df_SPInd.head()"
   ]
  },
  {
   "cell_type": "code",
   "execution_count": 21,
   "metadata": {},
   "outputs": [],
   "source": [
    "#df_SPSleepPer.head()"
   ]
  },
  {
   "cell_type": "code",
   "execution_count": 22,
   "metadata": {},
   "outputs": [],
   "source": [
    "#df_SPHSPer.head()"
   ]
  },
  {
   "cell_type": "code",
   "execution_count": 25,
   "metadata": {},
   "outputs": [],
   "source": [
    "#df_SPDCon.head()"
   ]
  },
  {
   "cell_type": "code",
   "execution_count": 26,
   "metadata": {},
   "outputs": [],
   "source": [
    "#df_SPDDis.head()"
   ]
  },
  {
   "cell_type": "code",
   "execution_count": 27,
   "metadata": {},
   "outputs": [],
   "source": [
    "# Store the values as X and y before the applying the ML model\n",
    "# For machine learning model, the data has already been split into independent and dependent variables\n",
    "\n",
    "X = df_SPInd           # Features (independent variables) from the Student Performance\n",
    "\n",
    "y = df_SPDDis            # Target variable (Pass / Fail) for the prediction\n",
    "\n"
   ]
  },
  {
   "cell_type": "code",
   "execution_count": 28,
   "metadata": {},
   "outputs": [
    {
     "name": "stdout",
     "output_type": "stream",
     "text": [
      "      Hours Studied  Previous Scores  Extracurricular Activities  Sleep Hours  \\\n",
      "0                 7               99                           1            9   \n",
      "1                 4               82                           0            4   \n",
      "2                 8               51                           1            7   \n",
      "3                 5               52                           1            5   \n",
      "4                 7               75                           0            8   \n",
      "...             ...              ...                         ...          ...   \n",
      "9995              1               49                           1            4   \n",
      "9996              7               64                           1            8   \n",
      "9997              6               83                           1            8   \n",
      "9998              9               97                           1            7   \n",
      "9999              7               74                           0            8   \n",
      "\n",
      "      Sample Question Papers Practiced  \n",
      "0                                    1  \n",
      "1                                    2  \n",
      "2                                    2  \n",
      "3                                    2  \n",
      "4                                    5  \n",
      "...                                ...  \n",
      "9995                                 2  \n",
      "9996                                 5  \n",
      "9997                                 5  \n",
      "9998                                 0  \n",
      "9999                                 1  \n",
      "\n",
      "[10000 rows x 5 columns] 0       1\n",
      "1       1\n",
      "2       0\n",
      "3       0\n",
      "4       1\n",
      "       ..\n",
      "9995    0\n",
      "9996    0\n",
      "9997    1\n",
      "9998    1\n",
      "9999    1\n",
      "Name: PassFail, Length: 10000, dtype: int32\n"
     ]
    }
   ],
   "source": [
    "# print Independent and dependent variables for a quick visual check\n",
    "print(X,y)"
   ]
  },
  {
   "cell_type": "code",
   "execution_count": 29,
   "metadata": {
    "scrolled": true
   },
   "outputs": [
    {
     "data": {
      "text/plain": [
       "PassFail\n",
       "0    5878\n",
       "1    4122\n",
       "Name: count, dtype: int64"
      ]
     },
     "execution_count": 29,
     "metadata": {},
     "output_type": "execute_result"
    }
   ],
   "source": [
    "# Display the label variables of binary types\n",
    "y.value_counts()"
   ]
  },
  {
   "cell_type": "markdown",
   "metadata": {},
   "source": [
    "## Splitting Data into Training and Testing"
   ]
  },
  {
   "cell_type": "code",
   "execution_count": 30,
   "metadata": {},
   "outputs": [],
   "source": [
    "# Import train_test_split function\n",
    "from sklearn.model_selection import train_test_split  \n",
    "\n",
    "# Split dataset into training set and test set\n",
    "X_train, X_test, y_train, y_test = train_test_split(X, y, test_size = 0.30, random_state = 102) # 80% training and 20% test\n"
   ]
  },
  {
   "cell_type": "code",
   "execution_count": 31,
   "metadata": {},
   "outputs": [],
   "source": [
    "# X_train, "
   ]
  },
  {
   "cell_type": "code",
   "execution_count": 32,
   "metadata": {},
   "outputs": [],
   "source": [
    "# X_test"
   ]
  },
  {
   "cell_type": "code",
   "execution_count": 33,
   "metadata": {},
   "outputs": [],
   "source": [
    "# y_train"
   ]
  },
  {
   "cell_type": "code",
   "execution_count": 34,
   "metadata": {},
   "outputs": [],
   "source": [
    "# y_test"
   ]
  },
  {
   "cell_type": "code",
   "execution_count": 35,
   "metadata": {},
   "outputs": [
    {
     "name": "stdout",
     "output_type": "stream",
     "text": [
      "Total number of rows and columns for the complete dataset:  (10000, 5) (10000,)\n",
      "Number of rows and columns after splitting dataset:  (7000, 5) (3000, 5) (7000,) (3000,)\n"
     ]
    }
   ],
   "source": [
    "# Display the rows and columns (dimenions) of an unsplit dataset\n",
    "print('Total number of rows and columns for the complete dataset: ', X.shape, y.shape)\n",
    "\n",
    "# Display the rows and columns (dimenions) of the split   dataset\n",
    "print('Number of rows and columns after splitting dataset: ', X_train.shape, X_test.shape, y_train.shape, y_test.shape )"
   ]
  },
  {
   "cell_type": "markdown",
   "metadata": {},
   "source": [
    "## Generating The Model\n",
    "SVM module is imported from sklearn to create a support vector classifier in svc() by passing the argument kernel as the linear kernel. The data-set is trained using the set() with the predict() function used to make predictions."
   ]
  },
  {
   "cell_type": "code",
   "execution_count": 36,
   "metadata": {},
   "outputs": [],
   "source": [
    "# Import the library for the model named as 'SVM'\n",
    "from sklearn import svm\n",
    "\n",
    "# Create a classifier\n",
    "cls_svm = svm.SVC(kernel = \"linear\")   \n",
    "\n",
    "# Train the model\n",
    "cls_svm.fit(X_train, y_train)\n",
    "\n",
    "# Predict the response\n",
    "y_pred = cls_svm.predict(X_test)"
   ]
  },
  {
   "cell_type": "markdown",
   "metadata": {},
   "source": [
    "## Evaluation of the Model\n"
   ]
  },
  {
   "cell_type": "code",
   "execution_count": 37,
   "metadata": {},
   "outputs": [
    {
     "name": "stdout",
     "output_type": "stream",
     "text": [
      "accuracy: 0.977\n",
      "precision: 0.9739837398373984\n",
      "recall 0.9700404858299595\n",
      "accuracy: 0.98\n",
      "precision: 0.97\n",
      "recall: 0.97\n"
     ]
    }
   ],
   "source": [
    "# Import the metrics library for accuracy, precision and recall\n",
    "from sklearn import metrics\n",
    "\n",
    "# accuracy\n",
    "print(\"accuracy:\", metrics.accuracy_score(y_test, y_pred))\n",
    "\n",
    "# precision score\n",
    "print(\"precision:\", metrics.precision_score(y_test, y_pred))\n",
    "\n",
    "# recall score\n",
    "print(\"recall\" , metrics.recall_score(y_test, y_pred))\n",
    "\n",
    "# Display to 2 decimal places\n",
    "print( \"accuracy: {:.2f}\".format(metrics.accuracy_score(y_test, y_pred)) )\n",
    "print( \"precision: {:.2f}\".format(metrics.precision_score(y_test, y_pred)) )\n",
    "print( \"recall: {:.2f}\".format(metrics.recall_score(y_test, y_pred)) )"
   ]
  },
  {
   "cell_type": "code",
   "execution_count": 38,
   "metadata": {},
   "outputs": [
    {
     "name": "stdout",
     "output_type": "stream",
     "text": [
      "Class 0: Count = 1765\n",
      "Class 1: Count = 1235\n"
     ]
    }
   ],
   "source": [
    "import numpy as np\n",
    "\n",
    "# Display the unique classes present in y_test and their counts\n",
    "unique_classes, class_counts = np.unique(y_test, return_counts=True)\n",
    "\n",
    "for cls, count in zip(unique_classes, class_counts):\n",
    "    print(f\"Class {cls}: Count = {count}\")"
   ]
  },
  {
   "cell_type": "code",
   "execution_count": 39,
   "metadata": {},
   "outputs": [
    {
     "name": "stdout",
     "output_type": "stream",
     "text": [
      "Class 0: Count = 1770\n",
      "Class 1: Count = 1230\n"
     ]
    }
   ],
   "source": [
    "import numpy as np\n",
    "\n",
    "# Display the unique classes present in y_test and their counts\n",
    "unique_classes, class_counts = np.unique(y_pred, return_counts=True)\n",
    "\n",
    "for cls, count in zip(unique_classes, class_counts):\n",
    "    print(f\"Class {cls}: Count = {count}\")"
   ]
  },
  {
   "cell_type": "code",
   "execution_count": 40,
   "metadata": {
    "scrolled": true
   },
   "outputs": [
    {
     "data": {
      "image/png": "[encoded data removed]",
      "text/plain": [
       "<Figure size 640x480 with 2 Axes>"
      ]
     },
     "metadata": {},
     "output_type": "display_data"
    }
   ],
   "source": [
    "from sklearn.metrics import confusion_matrix\n",
    "import seaborn as sns\n",
    "import matplotlib.pyplot as plt\n",
    "\n",
    "# Call a method predict by using an object classifier 'cls_svm'\n",
    "y_predict = cls_svm.predict(X_test)\n",
    "\n",
    "# Calculate cm by calling a method named as 'confusion_matrix'\n",
    "cm = confusion_matrix(y_test, y_predict)\n",
    "\n",
    "# Define labels for the confusion matrix\n",
    "labels = ['True Positive', 'False Negative', 'False Positive', 'True Negative']\n",
    "\n",
    "# Create a heatmap with annotations and sum of rows/columns\n",
    "sns.heatmap(cm, annot=True, fmt='d', cmap='Blues', xticklabels=['Predicted 0', 'Predicted 1', 'Sum'], yticklabels=['Actual 0', 'Actual 1', 'Sum'])\n",
    "\n",
    "# Add labels for TP, FP, TN, FN\n",
    "for i in range(len(labels)):\n",
    "    plt.text(i % 2 + 0.5, int(i / 2) + 0.75, str(labels[i]) + \" = \" + str(cm.flatten()[i]), color='red', fontsize=10, ha='center', va='center')\n",
    "\n",
    "# Add sum of rows and columns\n",
    "for i in range(2):\n",
    "    plt.text(2.5, i + 0.75, str(cm.sum(axis=1)[i]), color='blue', fontsize=10, ha='center', va='center')\n",
    "    plt.text(i + 0.5, 2.75, str(cm.sum(axis=0)[i]), color='blue', fontsize=10, ha='center', va='center')\n",
    "\n",
    "# Add overall sum\n",
    "plt.text(2.5, 2.75, str(cm.sum()), color='blue', fontsize=12, ha='center', va='center')\n",
    "\n",
    "# Show the plot\n",
    "plt.show()\n"
   ]
  },
  {
   "cell_type": "markdown",
   "metadata": {},
   "source": [
    "## Hyperparameter Tuning\n",
    "Test a number of parameters to discover which is optimal. The parametes chosen are:\n",
    "- choice of kernal\n",
    "- Level of \"C\" \n",
    "- Level of Gamma "
   ]
  },
  {
   "cell_type": "code",
   "execution_count": 41,
   "metadata": {},
   "outputs": [],
   "source": [
    "#create a KFold with 5 splits\n",
    "folds = KFold(n_splits = 5, shuffle = True, random_state = 4)"
   ]
  },
  {
   "cell_type": "code",
   "execution_count": 42,
   "metadata": {},
   "outputs": [],
   "source": [
    "hyper_params = [ {'gamma': [0.01, 0.001, 0.0001],\n",
    "                  'C': [1, 10, 100, 1000],\n",
    "                  'kernel': ['linear', 'rbf', 'poly']}]"
   ]
  },
  {
   "cell_type": "code",
   "execution_count": 43,
   "metadata": {},
   "outputs": [],
   "source": [
    "Model = svm.SVC(kernel=\"linear\")  #Model"
   ]
  },
  {
   "cell_type": "code",
   "execution_count": 44,
   "metadata": {},
   "outputs": [],
   "source": [
    "# set up GridSearchCV()\n",
    "model_cv = GridSearchCV(estimator = Model, \n",
    "                        param_grid = hyper_params, \n",
    "                        scoring= 'accuracy', \n",
    "                        cv = folds, \n",
    "                        verbose = 2,\n",
    "                        return_train_score=True) "
   ]
  },
  {
   "cell_type": "code",
   "execution_count": 45,
   "metadata": {},
   "outputs": [
    {
     "name": "stdout",
     "output_type": "stream",
     "text": [
      "Fitting 5 folds for each of 36 candidates, totalling 180 fits\n",
      "[CV] END .....................C=1, gamma=0.01, kernel=linear; total time=   0.1s\n",
      "[CV] END .....................C=1, gamma=0.01, kernel=linear; total time=   0.1s\n",
      "[CV] END .....................C=1, gamma=0.01, kernel=linear; total time=   0.1s\n",
      "[CV] END .....................C=1, gamma=0.01, kernel=linear; total time=   0.1s\n",
      "[CV] END .....................C=1, gamma=0.01, kernel=linear; total time=   0.1s\n",
      "[CV] END ........................C=1, gamma=0.01, kernel=rbf; total time=   0.2s\n",
      "[CV] END ........................C=1, gamma=0.01, kernel=rbf; total time=   0.2s\n",
      "[CV] END ........................C=1, gamma=0.01, kernel=rbf; total time=   0.2s\n",
      "[CV] END ........................C=1, gamma=0.01, kernel=rbf; total time=   0.2s\n",
      "[CV] END ........................C=1, gamma=0.01, kernel=rbf; total time=   0.2s\n",
      "[CV] END .......................C=1, gamma=0.01, kernel=poly; total time=   3.5s\n",
      "[CV] END .......................C=1, gamma=0.01, kernel=poly; total time=   5.8s\n",
      "[CV] END .......................C=1, gamma=0.01, kernel=poly; total time=   3.7s\n",
      "[CV] END .......................C=1, gamma=0.01, kernel=poly; total time=   3.9s\n",
      "[CV] END .......................C=1, gamma=0.01, kernel=poly; total time=   3.6s\n",
      "[CV] END ....................C=1, gamma=0.001, kernel=linear; total time=   0.1s\n",
      "[CV] END ....................C=1, gamma=0.001, kernel=linear; total time=   0.1s\n",
      "[CV] END ....................C=1, gamma=0.001, kernel=linear; total time=   0.1s\n",
      "[CV] END ....................C=1, gamma=0.001, kernel=linear; total time=   0.1s\n",
      "[CV] END ....................C=1, gamma=0.001, kernel=linear; total time=   0.3s\n",
      "[CV] END .......................C=1, gamma=0.001, kernel=rbf; total time=   0.7s\n",
      "[CV] END .......................C=1, gamma=0.001, kernel=rbf; total time=   0.2s\n",
      "[CV] END .......................C=1, gamma=0.001, kernel=rbf; total time=   0.2s\n",
      "[CV] END .......................C=1, gamma=0.001, kernel=rbf; total time=   0.2s\n",
      "[CV] END .......................C=1, gamma=0.001, kernel=rbf; total time=   0.2s\n",
      "[CV] END ......................C=1, gamma=0.001, kernel=poly; total time=   0.1s\n",
      "[CV] END ......................C=1, gamma=0.001, kernel=poly; total time=   0.1s\n",
      "[CV] END ......................C=1, gamma=0.001, kernel=poly; total time=   0.1s\n",
      "[CV] END ......................C=1, gamma=0.001, kernel=poly; total time=   0.3s\n",
      "[CV] END ......................C=1, gamma=0.001, kernel=poly; total time=   0.2s\n",
      "[CV] END ...................C=1, gamma=0.0001, kernel=linear; total time=   0.1s\n",
      "[CV] END ...................C=1, gamma=0.0001, kernel=linear; total time=   0.1s\n",
      "[CV] END ...................C=1, gamma=0.0001, kernel=linear; total time=   0.1s\n",
      "[CV] END ...................C=1, gamma=0.0001, kernel=linear; total time=   0.1s\n",
      "[CV] END ...................C=1, gamma=0.0001, kernel=linear; total time=   0.1s\n",
      "[CV] END ......................C=1, gamma=0.0001, kernel=rbf; total time=   0.4s\n",
      "[CV] END ......................C=1, gamma=0.0001, kernel=rbf; total time=   0.9s\n",
      "[CV] END ......................C=1, gamma=0.0001, kernel=rbf; total time=   0.5s\n",
      "[CV] END ......................C=1, gamma=0.0001, kernel=rbf; total time=   0.5s\n",
      "[CV] END ......................C=1, gamma=0.0001, kernel=rbf; total time=   0.4s\n",
      "[CV] END .....................C=1, gamma=0.0001, kernel=poly; total time=   0.2s\n",
      "[CV] END .....................C=1, gamma=0.0001, kernel=poly; total time=   0.5s\n",
      "[CV] END .....................C=1, gamma=0.0001, kernel=poly; total time=   0.6s\n",
      "[CV] END .....................C=1, gamma=0.0001, kernel=poly; total time=   0.2s\n",
      "[CV] END .....................C=1, gamma=0.0001, kernel=poly; total time=   0.2s\n",
      "[CV] END ....................C=10, gamma=0.01, kernel=linear; total time=   0.3s\n",
      "[CV] END ....................C=10, gamma=0.01, kernel=linear; total time=   0.3s\n",
      "[CV] END ....................C=10, gamma=0.01, kernel=linear; total time=   0.4s\n",
      "[CV] END ....................C=10, gamma=0.01, kernel=linear; total time=   0.3s\n",
      "[CV] END ....................C=10, gamma=0.01, kernel=linear; total time=   0.9s\n",
      "[CV] END .......................C=10, gamma=0.01, kernel=rbf; total time=   0.5s\n",
      "[CV] END .......................C=10, gamma=0.01, kernel=rbf; total time=   0.1s\n",
      "[CV] END .......................C=10, gamma=0.01, kernel=rbf; total time=   0.1s\n",
      "[CV] END .......................C=10, gamma=0.01, kernel=rbf; total time=   0.1s\n",
      "[CV] END .......................C=10, gamma=0.01, kernel=rbf; total time=   0.1s\n",
      "[CV] END ......................C=10, gamma=0.01, kernel=poly; total time=  21.2s\n",
      "[CV] END ......................C=10, gamma=0.01, kernel=poly; total time=  16.2s\n",
      "[CV] END ......................C=10, gamma=0.01, kernel=poly; total time=  18.9s\n",
      "[CV] END ......................C=10, gamma=0.01, kernel=poly; total time=  37.2s\n",
      "[CV] END ......................C=10, gamma=0.01, kernel=poly; total time=  20.7s\n",
      "[CV] END ...................C=10, gamma=0.001, kernel=linear; total time=   0.6s\n",
      "[CV] END ...................C=10, gamma=0.001, kernel=linear; total time=   0.6s\n",
      "[CV] END ...................C=10, gamma=0.001, kernel=linear; total time=   0.3s\n",
      "[CV] END ...................C=10, gamma=0.001, kernel=linear; total time=   0.3s\n",
      "[CV] END ...................C=10, gamma=0.001, kernel=linear; total time=   0.3s\n",
      "[CV] END ......................C=10, gamma=0.001, kernel=rbf; total time=   0.1s\n",
      "[CV] END ......................C=10, gamma=0.001, kernel=rbf; total time=   0.5s\n",
      "[CV] END ......................C=10, gamma=0.001, kernel=rbf; total time=   0.3s\n",
      "[CV] END ......................C=10, gamma=0.001, kernel=rbf; total time=   0.1s\n",
      "[CV] END ......................C=10, gamma=0.001, kernel=rbf; total time=   0.2s\n",
      "[CV] END .....................C=10, gamma=0.001, kernel=poly; total time=   0.1s\n",
      "[CV] END .....................C=10, gamma=0.001, kernel=poly; total time=   0.1s\n",
      "[CV] END .....................C=10, gamma=0.001, kernel=poly; total time=   0.1s\n",
      "[CV] END .....................C=10, gamma=0.001, kernel=poly; total time=   0.1s\n",
      "[CV] END .....................C=10, gamma=0.001, kernel=poly; total time=   0.1s\n",
      "[CV] END ..................C=10, gamma=0.0001, kernel=linear; total time=   0.7s\n",
      "[CV] END ..................C=10, gamma=0.0001, kernel=linear; total time=   0.9s\n",
      "[CV] END ..................C=10, gamma=0.0001, kernel=linear; total time=   0.4s\n",
      "[CV] END ..................C=10, gamma=0.0001, kernel=linear; total time=   0.3s\n",
      "[CV] END ..................C=10, gamma=0.0001, kernel=linear; total time=   0.3s\n",
      "[CV] END .....................C=10, gamma=0.0001, kernel=rbf; total time=   0.2s\n",
      "[CV] END .....................C=10, gamma=0.0001, kernel=rbf; total time=   0.3s\n",
      "[CV] END .....................C=10, gamma=0.0001, kernel=rbf; total time=   0.6s\n",
      "[CV] END .....................C=10, gamma=0.0001, kernel=rbf; total time=   0.5s\n",
      "[CV] END .....................C=10, gamma=0.0001, kernel=rbf; total time=   0.2s\n",
      "[CV] END ....................C=10, gamma=0.0001, kernel=poly; total time=   0.1s\n",
      "[CV] END ....................C=10, gamma=0.0001, kernel=poly; total time=   0.1s\n",
      "[CV] END ....................C=10, gamma=0.0001, kernel=poly; total time=   0.1s\n",
      "[CV] END ....................C=10, gamma=0.0001, kernel=poly; total time=   0.1s\n",
      "[CV] END ....................C=10, gamma=0.0001, kernel=poly; total time=   0.2s\n",
      "[CV] END ...................C=100, gamma=0.01, kernel=linear; total time=   2.9s\n",
      "[CV] END ...................C=100, gamma=0.01, kernel=linear; total time=   3.4s\n",
      "[CV] END ...................C=100, gamma=0.01, kernel=linear; total time=   1.8s\n",
      "[CV] END ...................C=100, gamma=0.01, kernel=linear; total time=   2.2s\n",
      "[CV] END ...................C=100, gamma=0.01, kernel=linear; total time=   1.8s\n",
      "[CV] END ......................C=100, gamma=0.01, kernel=rbf; total time=   0.2s\n",
      "[CV] END ......................C=100, gamma=0.01, kernel=rbf; total time=   0.3s\n",
      "[CV] END ......................C=100, gamma=0.01, kernel=rbf; total time=   1.2s\n",
      "[CV] END ......................C=100, gamma=0.01, kernel=rbf; total time=   0.2s\n",
      "[CV] END ......................C=100, gamma=0.01, kernel=rbf; total time=   0.4s\n",
      "[CV] END .....................C=100, gamma=0.01, kernel=poly; total time=  56.6s\n",
      "[CV] END .....................C=100, gamma=0.01, kernel=poly; total time=  51.6s\n",
      "[CV] END .....................C=100, gamma=0.01, kernel=poly; total time=  54.6s\n",
      "[CV] END .....................C=100, gamma=0.01, kernel=poly; total time=  50.2s\n",
      "[CV] END .....................C=100, gamma=0.01, kernel=poly; total time=  48.9s\n",
      "[CV] END ..................C=100, gamma=0.001, kernel=linear; total time=   2.1s\n",
      "[CV] END ..................C=100, gamma=0.001, kernel=linear; total time=   3.4s\n",
      "[CV] END ..................C=100, gamma=0.001, kernel=linear; total time=   2.0s\n",
      "[CV] END ..................C=100, gamma=0.001, kernel=linear; total time=   2.7s\n",
      "[CV] END ..................C=100, gamma=0.001, kernel=linear; total time=   1.9s\n",
      "[CV] END .....................C=100, gamma=0.001, kernel=rbf; total time=   0.4s\n",
      "[CV] END .....................C=100, gamma=0.001, kernel=rbf; total time=   0.4s\n",
      "[CV] END .....................C=100, gamma=0.001, kernel=rbf; total time=   0.1s\n",
      "[CV] END .....................C=100, gamma=0.001, kernel=rbf; total time=   0.1s\n",
      "[CV] END .....................C=100, gamma=0.001, kernel=rbf; total time=   0.1s\n",
      "[CV] END ....................C=100, gamma=0.001, kernel=poly; total time=   0.9s\n",
      "[CV] END ....................C=100, gamma=0.001, kernel=poly; total time=   1.1s\n",
      "[CV] END ....................C=100, gamma=0.001, kernel=poly; total time=   0.5s\n",
      "[CV] END ....................C=100, gamma=0.001, kernel=poly; total time=   0.5s\n",
      "[CV] END ....................C=100, gamma=0.001, kernel=poly; total time=   0.4s\n",
      "[CV] END .................C=100, gamma=0.0001, kernel=linear; total time=   2.6s\n",
      "[CV] END .................C=100, gamma=0.0001, kernel=linear; total time=   3.4s\n",
      "[CV] END .................C=100, gamma=0.0001, kernel=linear; total time=   2.1s\n",
      "[CV] END .................C=100, gamma=0.0001, kernel=linear; total time=   2.6s\n",
      "[CV] END .................C=100, gamma=0.0001, kernel=linear; total time=   2.1s\n",
      "[CV] END ....................C=100, gamma=0.0001, kernel=rbf; total time=   0.4s\n",
      "[CV] END ....................C=100, gamma=0.0001, kernel=rbf; total time=   0.3s\n",
      "[CV] END ....................C=100, gamma=0.0001, kernel=rbf; total time=   0.1s\n",
      "[CV] END ....................C=100, gamma=0.0001, kernel=rbf; total time=   0.1s\n",
      "[CV] END ....................C=100, gamma=0.0001, kernel=rbf; total time=   0.1s\n",
      "[CV] END ...................C=100, gamma=0.0001, kernel=poly; total time=   0.2s\n",
      "[CV] END ...................C=100, gamma=0.0001, kernel=poly; total time=   0.1s\n",
      "[CV] END ...................C=100, gamma=0.0001, kernel=poly; total time=   0.4s\n",
      "[CV] END ...................C=100, gamma=0.0001, kernel=poly; total time=   0.4s\n",
      "[CV] END ...................C=100, gamma=0.0001, kernel=poly; total time=   0.3s\n",
      "[CV] END ..................C=1000, gamma=0.01, kernel=linear; total time=  21.3s\n",
      "[CV] END ..................C=1000, gamma=0.01, kernel=linear; total time=  26.0s\n",
      "[CV] END ..................C=1000, gamma=0.01, kernel=linear; total time=  17.7s\n",
      "[CV] END ..................C=1000, gamma=0.01, kernel=linear; total time=  19.6s\n",
      "[CV] END ..................C=1000, gamma=0.01, kernel=linear; total time=  17.8s\n",
      "[CV] END .....................C=1000, gamma=0.01, kernel=rbf; total time=   0.8s\n",
      "[CV] END .....................C=1000, gamma=0.01, kernel=rbf; total time=   0.4s\n",
      "[CV] END .....................C=1000, gamma=0.01, kernel=rbf; total time=   0.5s\n",
      "[CV] END .....................C=1000, gamma=0.01, kernel=rbf; total time=   0.5s\n",
      "[CV] END .....................C=1000, gamma=0.01, kernel=rbf; total time=   1.1s\n",
      "[CV] END ....................C=1000, gamma=0.01, kernel=poly; total time=  55.6s\n",
      "[CV] END ....................C=1000, gamma=0.01, kernel=poly; total time=  36.2s\n",
      "[CV] END ....................C=1000, gamma=0.01, kernel=poly; total time=  55.2s\n",
      "[CV] END ....................C=1000, gamma=0.01, kernel=poly; total time= 1.2min\n",
      "[CV] END ....................C=1000, gamma=0.01, kernel=poly; total time= 1.2min\n",
      "[CV] END .................C=1000, gamma=0.001, kernel=linear; total time=  29.1s\n",
      "[CV] END .................C=1000, gamma=0.001, kernel=linear; total time=  29.1s\n",
      "[CV] END .................C=1000, gamma=0.001, kernel=linear; total time=  20.6s\n",
      "[CV] END .................C=1000, gamma=0.001, kernel=linear; total time=  20.2s\n",
      "[CV] END .................C=1000, gamma=0.001, kernel=linear; total time=  20.8s\n",
      "[CV] END ....................C=1000, gamma=0.001, kernel=rbf; total time=   0.5s\n",
      "[CV] END ....................C=1000, gamma=0.001, kernel=rbf; total time=   0.2s\n",
      "[CV] END ....................C=1000, gamma=0.001, kernel=rbf; total time=   0.2s\n",
      "[CV] END ....................C=1000, gamma=0.001, kernel=rbf; total time=   0.2s\n",
      "[CV] END ....................C=1000, gamma=0.001, kernel=rbf; total time=   0.2s\n",
      "[CV] END ...................C=1000, gamma=0.001, kernel=poly; total time=   4.4s\n",
      "[CV] END ...................C=1000, gamma=0.001, kernel=poly; total time=   6.5s\n",
      "[CV] END ...................C=1000, gamma=0.001, kernel=poly; total time=   6.1s\n",
      "[CV] END ...................C=1000, gamma=0.001, kernel=poly; total time=   4.2s\n",
      "[CV] END ...................C=1000, gamma=0.001, kernel=poly; total time=   5.6s\n",
      "[CV] END ................C=1000, gamma=0.0001, kernel=linear; total time=  21.7s\n",
      "[CV] END ................C=1000, gamma=0.0001, kernel=linear; total time=  27.8s\n",
      "[CV] END ................C=1000, gamma=0.0001, kernel=linear; total time=  18.4s\n",
      "[CV] END ................C=1000, gamma=0.0001, kernel=linear; total time=  20.5s\n",
      "[CV] END ................C=1000, gamma=0.0001, kernel=linear; total time=  20.2s\n",
      "[CV] END ...................C=1000, gamma=0.0001, kernel=rbf; total time=   0.1s\n",
      "[CV] END ...................C=1000, gamma=0.0001, kernel=rbf; total time=   0.1s\n",
      "[CV] END ...................C=1000, gamma=0.0001, kernel=rbf; total time=   0.1s\n",
      "[CV] END ...................C=1000, gamma=0.0001, kernel=rbf; total time=   0.2s\n",
      "[CV] END ...................C=1000, gamma=0.0001, kernel=rbf; total time=   0.5s\n",
      "[CV] END ..................C=1000, gamma=0.0001, kernel=poly; total time=   0.1s\n",
      "[CV] END ..................C=1000, gamma=0.0001, kernel=poly; total time=   0.1s\n",
      "[CV] END ..................C=1000, gamma=0.0001, kernel=poly; total time=   0.0s\n",
      "[CV] END ..................C=1000, gamma=0.0001, kernel=poly; total time=   0.1s\n",
      "[CV] END ..................C=1000, gamma=0.0001, kernel=poly; total time=   0.1s\n"
     ]
    },
    {
     "data": {
      "text/html": [
       "<style>#sk-container-id-1 {color: black;background-color: white;}#sk-container-id-1 pre{padding: 0;}#sk-container-id-1 div.sk-toggleable {background-color: white;}#sk-container-id-1 label.sk-toggleable__label {cursor: pointer;display: block;width: 100%;margin-bottom: 0;padding: 0.3em;box-sizing: border-box;text-align: center;}#sk-container-id-1 label.sk-toggleable__label-arrow:before {content: \"▸\";float: left;margin-right: 0.25em;color: #696969;}#sk-container-id-1 label.sk-toggleable__label-arrow:hover:before {color: black;}#sk-container-id-1 div.sk-estimator:hover label.sk-toggleable__label-arrow:before {color: black;}#sk-container-id-1 div.sk-toggleable__content {max-height: 0;max-width: 0;overflow: hidden;text-align: left;background-color: #f0f8ff;}#sk-container-id-1 div.sk-toggleable__content pre {margin: 0.2em;color: black;border-radius: 0.25em;background-color: #f0f8ff;}#sk-container-id-1 input.sk-toggleable__control:checked~div.sk-toggleable__content {max-height: 200px;max-width: 100%;overflow: auto;}#sk-container-id-1 input.sk-toggleable__control:checked~label.sk-toggleable__label-arrow:before {content: \"▾\";}#sk-container-id-1 div.sk-estimator input.sk-toggleable__control:checked~label.sk-toggleable__label {background-color: #d4ebff;}#sk-container-id-1 div.sk-label input.sk-toggleable__control:checked~label.sk-toggleable__label {background-color: #d4ebff;}#sk-container-id-1 input.sk-hidden--visually {border: 0;clip: rect(1px 1px 1px 1px);clip: rect(1px, 1px, 1px, 1px);height: 1px;margin: -1px;overflow: hidden;padding: 0;position: absolute;width: 1px;}#sk-container-id-1 div.sk-estimator {font-family: monospace;background-color: #f0f8ff;border: 1px dotted black;border-radius: 0.25em;box-sizing: border-box;margin-bottom: 0.5em;}#sk-container-id-1 div.sk-estimator:hover {background-color: #d4ebff;}#sk-container-id-1 div.sk-parallel-item::after {content: \"\";width: 100%;border-bottom: 1px solid gray;flex-grow: 1;}#sk-container-id-1 div.sk-label:hover label.sk-toggleable__label {background-color: #d4ebff;}#sk-container-id-1 div.sk-serial::before {content: \"\";position: absolute;border-left: 1px solid gray;box-sizing: border-box;top: 0;bottom: 0;left: 50%;z-index: 0;}#sk-container-id-1 div.sk-serial {display: flex;flex-direction: column;align-items: center;background-color: white;padding-right: 0.2em;padding-left: 0.2em;position: relative;}#sk-container-id-1 div.sk-item {position: relative;z-index: 1;}#sk-container-id-1 div.sk-parallel {display: flex;align-items: stretch;justify-content: center;background-color: white;position: relative;}#sk-container-id-1 div.sk-item::before, #sk-container-id-1 div.sk-parallel-item::before {content: \"\";position: absolute;border-left: 1px solid gray;box-sizing: border-box;top: 0;bottom: 0;left: 50%;z-index: -1;}#sk-container-id-1 div.sk-parallel-item {display: flex;flex-direction: column;z-index: 1;position: relative;background-color: white;}#sk-container-id-1 div.sk-parallel-item:first-child::after {align-self: flex-end;width: 50%;}#sk-container-id-1 div.sk-parallel-item:last-child::after {align-self: flex-start;width: 50%;}#sk-container-id-1 div.sk-parallel-item:only-child::after {width: 0;}#sk-container-id-1 div.sk-dashed-wrapped {border: 1px dashed gray;margin: 0 0.4em 0.5em 0.4em;box-sizing: border-box;padding-bottom: 0.4em;background-color: white;}#sk-container-id-1 div.sk-label label {font-family: monospace;font-weight: bold;display: inline-block;line-height: 1.2em;}#sk-container-id-1 div.sk-label-container {text-align: center;}#sk-container-id-1 div.sk-container {/* jupyter's `normalize.less` sets `[hidden] { display: none; }` but bootstrap.min.css set `[hidden] { display: none !important; }` so we also need the `!important` here to be able to override the default hidden behavior on the sphinx rendered scikit-learn.org. See: https://github.com/scikit-learn/scikit-learn/issues/21755 */display: inline-block !important;position: relative;}#sk-container-id-1 div.sk-text-repr-fallback {display: none;}</style><div id=\"sk-container-id-1\" class=\"sk-top-container\"><div class=\"sk-text-repr-fallback\"><pre>GridSearchCV(cv=KFold(n_splits=5, random_state=4, shuffle=True),\n",
       "             estimator=SVC(kernel=&#x27;linear&#x27;),\n",
       "             param_grid=[{&#x27;C&#x27;: [1, 10, 100, 1000],\n",
       "                          &#x27;gamma&#x27;: [0.01, 0.001, 0.0001],\n",
       "                          &#x27;kernel&#x27;: [&#x27;linear&#x27;, &#x27;rbf&#x27;, &#x27;poly&#x27;]}],\n",
       "             return_train_score=True, scoring=&#x27;accuracy&#x27;, verbose=2)</pre><b>In a Jupyter environment, please rerun this cell to show the HTML representation or trust the notebook. <br />On GitHub, the HTML representation is unable to render, please try loading this page with nbviewer.org.</b></div><div class=\"sk-container\" hidden><div class=\"sk-item sk-dashed-wrapped\"><div class=\"sk-label-container\"><div class=\"sk-label sk-toggleable\"><input class=\"sk-toggleable__control sk-hidden--visually\" id=\"sk-estimator-id-1\" type=\"checkbox\" ><label for=\"sk-estimator-id-1\" class=\"sk-toggleable__label sk-toggleable__label-arrow\">GridSearchCV</label><div class=\"sk-toggleable__content\"><pre>GridSearchCV(cv=KFold(n_splits=5, random_state=4, shuffle=True),\n",
       "             estimator=SVC(kernel=&#x27;linear&#x27;),\n",
       "             param_grid=[{&#x27;C&#x27;: [1, 10, 100, 1000],\n",
       "                          &#x27;gamma&#x27;: [0.01, 0.001, 0.0001],\n",
       "                          &#x27;kernel&#x27;: [&#x27;linear&#x27;, &#x27;rbf&#x27;, &#x27;poly&#x27;]}],\n",
       "             return_train_score=True, scoring=&#x27;accuracy&#x27;, verbose=2)</pre></div></div></div><div class=\"sk-parallel\"><div class=\"sk-parallel-item\"><div class=\"sk-item\"><div class=\"sk-label-container\"><div class=\"sk-label sk-toggleable\"><input class=\"sk-toggleable__control sk-hidden--visually\" id=\"sk-estimator-id-2\" type=\"checkbox\" ><label for=\"sk-estimator-id-2\" class=\"sk-toggleable__label sk-toggleable__label-arrow\">estimator: SVC</label><div class=\"sk-toggleable__content\"><pre>SVC(kernel=&#x27;linear&#x27;)</pre></div></div></div><div class=\"sk-serial\"><div class=\"sk-item\"><div class=\"sk-estimator sk-toggleable\"><input class=\"sk-toggleable__control sk-hidden--visually\" id=\"sk-estimator-id-3\" type=\"checkbox\" ><label for=\"sk-estimator-id-3\" class=\"sk-toggleable__label sk-toggleable__label-arrow\">SVC</label><div class=\"sk-toggleable__content\"><pre>SVC(kernel=&#x27;linear&#x27;)</pre></div></div></div></div></div></div></div></div></div></div>"
      ],
      "text/plain": [
       "GridSearchCV(cv=KFold(n_splits=5, random_state=4, shuffle=True),\n",
       "             estimator=SVC(kernel='linear'),\n",
       "             param_grid=[{'C': [1, 10, 100, 1000],\n",
       "                          'gamma': [0.01, 0.001, 0.0001],\n",
       "                          'kernel': ['linear', 'rbf', 'poly']}],\n",
       "             return_train_score=True, scoring='accuracy', verbose=2)"
      ]
     },
     "execution_count": 45,
     "metadata": {},
     "output_type": "execute_result"
    }
   ],
   "source": [
    "# fit the model\n",
    "model_cv.fit(X_train, y_train)       "
   ]
  },
  {
   "cell_type": "code",
   "execution_count": 46,
   "metadata": {},
   "outputs": [
    {
     "data": {
      "text/html": [
       "<div>\n",
       "<style scoped>\n",
       "    .dataframe tbody tr th:only-of-type {\n",
       "        vertical-align: middle;\n",
       "    }\n",
       "\n",
       "    .dataframe tbody tr th {\n",
       "        vertical-align: top;\n",
       "    }\n",
       "\n",
       "    .dataframe thead th {\n",
       "        text-align: right;\n",
       "    }\n",
       "</style>\n",
       "<table border=\"1\" class=\"dataframe\">\n",
       "  <thead>\n",
       "    <tr style=\"text-align: right;\">\n",
       "      <th></th>\n",
       "      <th>mean_fit_time</th>\n",
       "      <th>std_fit_time</th>\n",
       "      <th>mean_score_time</th>\n",
       "      <th>std_score_time</th>\n",
       "      <th>param_C</th>\n",
       "      <th>param_gamma</th>\n",
       "      <th>param_kernel</th>\n",
       "      <th>params</th>\n",
       "      <th>split0_test_score</th>\n",
       "      <th>split1_test_score</th>\n",
       "      <th>...</th>\n",
       "      <th>mean_test_score</th>\n",
       "      <th>std_test_score</th>\n",
       "      <th>rank_test_score</th>\n",
       "      <th>split0_train_score</th>\n",
       "      <th>split1_train_score</th>\n",
       "      <th>split2_train_score</th>\n",
       "      <th>split3_train_score</th>\n",
       "      <th>split4_train_score</th>\n",
       "      <th>mean_train_score</th>\n",
       "      <th>std_train_score</th>\n",
       "    </tr>\n",
       "  </thead>\n",
       "  <tbody>\n",
       "    <tr>\n",
       "      <th>0</th>\n",
       "      <td>0.147259</td>\n",
       "      <td>0.012270</td>\n",
       "      <td>0.016167</td>\n",
       "      <td>0.000394</td>\n",
       "      <td>1</td>\n",
       "      <td>0.01</td>\n",
       "      <td>linear</td>\n",
       "      <td>{'C': 1, 'gamma': 0.01, 'kernel': 'linear'}</td>\n",
       "      <td>0.962857</td>\n",
       "      <td>0.977143</td>\n",
       "      <td>...</td>\n",
       "      <td>0.970286</td>\n",
       "      <td>0.004836</td>\n",
       "      <td>8</td>\n",
       "      <td>0.972321</td>\n",
       "      <td>0.968571</td>\n",
       "      <td>0.969464</td>\n",
       "      <td>0.970714</td>\n",
       "      <td>0.971071</td>\n",
       "      <td>0.970429</td>\n",
       "      <td>0.001301</td>\n",
       "    </tr>\n",
       "    <tr>\n",
       "      <th>1</th>\n",
       "      <td>0.173856</td>\n",
       "      <td>0.006017</td>\n",
       "      <td>0.109158</td>\n",
       "      <td>0.033526</td>\n",
       "      <td>1</td>\n",
       "      <td>0.01</td>\n",
       "      <td>rbf</td>\n",
       "      <td>{'C': 1, 'gamma': 0.01, 'kernel': 'rbf'}</td>\n",
       "      <td>0.964286</td>\n",
       "      <td>0.973571</td>\n",
       "      <td>...</td>\n",
       "      <td>0.969429</td>\n",
       "      <td>0.003736</td>\n",
       "      <td>27</td>\n",
       "      <td>0.972321</td>\n",
       "      <td>0.971429</td>\n",
       "      <td>0.970179</td>\n",
       "      <td>0.972143</td>\n",
       "      <td>0.972321</td>\n",
       "      <td>0.971679</td>\n",
       "      <td>0.000819</td>\n",
       "    </tr>\n",
       "    <tr>\n",
       "      <th>2</th>\n",
       "      <td>4.165767</td>\n",
       "      <td>0.879313</td>\n",
       "      <td>0.027043</td>\n",
       "      <td>0.012153</td>\n",
       "      <td>1</td>\n",
       "      <td>0.01</td>\n",
       "      <td>poly</td>\n",
       "      <td>{'C': 1, 'gamma': 0.01, 'kernel': 'poly'}</td>\n",
       "      <td>0.961429</td>\n",
       "      <td>0.972857</td>\n",
       "      <td>...</td>\n",
       "      <td>0.969286</td>\n",
       "      <td>0.004333</td>\n",
       "      <td>28</td>\n",
       "      <td>0.973393</td>\n",
       "      <td>0.971964</td>\n",
       "      <td>0.971964</td>\n",
       "      <td>0.973036</td>\n",
       "      <td>0.973036</td>\n",
       "      <td>0.972679</td>\n",
       "      <td>0.000598</td>\n",
       "    </tr>\n",
       "    <tr>\n",
       "      <th>3</th>\n",
       "      <td>0.182504</td>\n",
       "      <td>0.072540</td>\n",
       "      <td>0.020131</td>\n",
       "      <td>0.009047</td>\n",
       "      <td>1</td>\n",
       "      <td>0.001</td>\n",
       "      <td>linear</td>\n",
       "      <td>{'C': 1, 'gamma': 0.001, 'kernel': 'linear'}</td>\n",
       "      <td>0.962857</td>\n",
       "      <td>0.977143</td>\n",
       "      <td>...</td>\n",
       "      <td>0.970286</td>\n",
       "      <td>0.004836</td>\n",
       "      <td>8</td>\n",
       "      <td>0.972321</td>\n",
       "      <td>0.968571</td>\n",
       "      <td>0.969464</td>\n",
       "      <td>0.970714</td>\n",
       "      <td>0.971071</td>\n",
       "      <td>0.970429</td>\n",
       "      <td>0.001301</td>\n",
       "    </tr>\n",
       "    <tr>\n",
       "      <th>4</th>\n",
       "      <td>0.278201</td>\n",
       "      <td>0.119910</td>\n",
       "      <td>0.149965</td>\n",
       "      <td>0.056788</td>\n",
       "      <td>1</td>\n",
       "      <td>0.001</td>\n",
       "      <td>rbf</td>\n",
       "      <td>{'C': 1, 'gamma': 0.001, 'kernel': 'rbf'}</td>\n",
       "      <td>0.961429</td>\n",
       "      <td>0.970714</td>\n",
       "      <td>...</td>\n",
       "      <td>0.967857</td>\n",
       "      <td>0.004403</td>\n",
       "      <td>31</td>\n",
       "      <td>0.970179</td>\n",
       "      <td>0.967321</td>\n",
       "      <td>0.967143</td>\n",
       "      <td>0.967857</td>\n",
       "      <td>0.967679</td>\n",
       "      <td>0.968036</td>\n",
       "      <td>0.001101</td>\n",
       "    </tr>\n",
       "    <tr>\n",
       "      <th>5</th>\n",
       "      <td>0.198399</td>\n",
       "      <td>0.070034</td>\n",
       "      <td>0.029539</td>\n",
       "      <td>0.013065</td>\n",
       "      <td>1</td>\n",
       "      <td>0.001</td>\n",
       "      <td>poly</td>\n",
       "      <td>{'C': 1, 'gamma': 0.001, 'kernel': 'poly'}</td>\n",
       "      <td>0.963571</td>\n",
       "      <td>0.975714</td>\n",
       "      <td>...</td>\n",
       "      <td>0.970286</td>\n",
       "      <td>0.004751</td>\n",
       "      <td>8</td>\n",
       "      <td>0.972143</td>\n",
       "      <td>0.969107</td>\n",
       "      <td>0.970179</td>\n",
       "      <td>0.970893</td>\n",
       "      <td>0.971071</td>\n",
       "      <td>0.970679</td>\n",
       "      <td>0.001006</td>\n",
       "    </tr>\n",
       "    <tr>\n",
       "      <th>6</th>\n",
       "      <td>0.144552</td>\n",
       "      <td>0.005800</td>\n",
       "      <td>0.015062</td>\n",
       "      <td>0.000203</td>\n",
       "      <td>1</td>\n",
       "      <td>0.0001</td>\n",
       "      <td>linear</td>\n",
       "      <td>{'C': 1, 'gamma': 0.0001, 'kernel': 'linear'}</td>\n",
       "      <td>0.962857</td>\n",
       "      <td>0.977143</td>\n",
       "      <td>...</td>\n",
       "      <td>0.970286</td>\n",
       "      <td>0.004836</td>\n",
       "      <td>8</td>\n",
       "      <td>0.972321</td>\n",
       "      <td>0.968571</td>\n",
       "      <td>0.969464</td>\n",
       "      <td>0.970714</td>\n",
       "      <td>0.971071</td>\n",
       "      <td>0.970429</td>\n",
       "      <td>0.001301</td>\n",
       "    </tr>\n",
       "    <tr>\n",
       "      <th>7</th>\n",
       "      <td>0.448140</td>\n",
       "      <td>0.181771</td>\n",
       "      <td>0.190864</td>\n",
       "      <td>0.004684</td>\n",
       "      <td>1</td>\n",
       "      <td>0.0001</td>\n",
       "      <td>rbf</td>\n",
       "      <td>{'C': 1, 'gamma': 0.0001, 'kernel': 'rbf'}</td>\n",
       "      <td>0.947857</td>\n",
       "      <td>0.947143</td>\n",
       "      <td>...</td>\n",
       "      <td>0.947429</td>\n",
       "      <td>0.004300</td>\n",
       "      <td>35</td>\n",
       "      <td>0.948750</td>\n",
       "      <td>0.947500</td>\n",
       "      <td>0.948393</td>\n",
       "      <td>0.948036</td>\n",
       "      <td>0.948214</td>\n",
       "      <td>0.948179</td>\n",
       "      <td>0.000413</td>\n",
       "    </tr>\n",
       "    <tr>\n",
       "      <th>8</th>\n",
       "      <td>0.372878</td>\n",
       "      <td>0.147272</td>\n",
       "      <td>0.081716</td>\n",
       "      <td>0.036019</td>\n",
       "      <td>1</td>\n",
       "      <td>0.0001</td>\n",
       "      <td>poly</td>\n",
       "      <td>{'C': 1, 'gamma': 0.0001, 'kernel': 'poly'}</td>\n",
       "      <td>0.936429</td>\n",
       "      <td>0.933571</td>\n",
       "      <td>...</td>\n",
       "      <td>0.934714</td>\n",
       "      <td>0.003213</td>\n",
       "      <td>36</td>\n",
       "      <td>0.934643</td>\n",
       "      <td>0.935000</td>\n",
       "      <td>0.933929</td>\n",
       "      <td>0.935536</td>\n",
       "      <td>0.935179</td>\n",
       "      <td>0.934857</td>\n",
       "      <td>0.000546</td>\n",
       "    </tr>\n",
       "    <tr>\n",
       "      <th>9</th>\n",
       "      <td>0.516014</td>\n",
       "      <td>0.206598</td>\n",
       "      <td>0.020338</td>\n",
       "      <td>0.007617</td>\n",
       "      <td>10</td>\n",
       "      <td>0.01</td>\n",
       "      <td>linear</td>\n",
       "      <td>{'C': 10, 'gamma': 0.01, 'kernel': 'linear'}</td>\n",
       "      <td>0.962857</td>\n",
       "      <td>0.977857</td>\n",
       "      <td>...</td>\n",
       "      <td>0.970286</td>\n",
       "      <td>0.005002</td>\n",
       "      <td>8</td>\n",
       "      <td>0.972321</td>\n",
       "      <td>0.968750</td>\n",
       "      <td>0.968929</td>\n",
       "      <td>0.970714</td>\n",
       "      <td>0.971071</td>\n",
       "      <td>0.970357</td>\n",
       "      <td>0.001351</td>\n",
       "    </tr>\n",
       "    <tr>\n",
       "      <th>10</th>\n",
       "      <td>0.196420</td>\n",
       "      <td>0.084378</td>\n",
       "      <td>0.097352</td>\n",
       "      <td>0.044613</td>\n",
       "      <td>10</td>\n",
       "      <td>0.01</td>\n",
       "      <td>rbf</td>\n",
       "      <td>{'C': 10, 'gamma': 0.01, 'kernel': 'rbf'}</td>\n",
       "      <td>0.965714</td>\n",
       "      <td>0.970714</td>\n",
       "      <td>...</td>\n",
       "      <td>0.970000</td>\n",
       "      <td>0.002821</td>\n",
       "      <td>22</td>\n",
       "      <td>0.974286</td>\n",
       "      <td>0.973214</td>\n",
       "      <td>0.972143</td>\n",
       "      <td>0.974107</td>\n",
       "      <td>0.974464</td>\n",
       "      <td>0.973643</td>\n",
       "      <td>0.000865</td>\n",
       "    </tr>\n",
       "    <tr>\n",
       "      <th>11</th>\n",
       "      <td>22.918914</td>\n",
       "      <td>7.406086</td>\n",
       "      <td>0.015160</td>\n",
       "      <td>0.000808</td>\n",
       "      <td>10</td>\n",
       "      <td>0.01</td>\n",
       "      <td>poly</td>\n",
       "      <td>{'C': 10, 'gamma': 0.01, 'kernel': 'poly'}</td>\n",
       "      <td>0.963571</td>\n",
       "      <td>0.971429</td>\n",
       "      <td>...</td>\n",
       "      <td>0.970143</td>\n",
       "      <td>0.003709</td>\n",
       "      <td>19</td>\n",
       "      <td>0.973393</td>\n",
       "      <td>0.972857</td>\n",
       "      <td>0.972321</td>\n",
       "      <td>0.972857</td>\n",
       "      <td>0.973929</td>\n",
       "      <td>0.973071</td>\n",
       "      <td>0.000546</td>\n",
       "    </tr>\n",
       "    <tr>\n",
       "      <th>12</th>\n",
       "      <td>0.509198</td>\n",
       "      <td>0.140086</td>\n",
       "      <td>0.019420</td>\n",
       "      <td>0.007533</td>\n",
       "      <td>10</td>\n",
       "      <td>0.001</td>\n",
       "      <td>linear</td>\n",
       "      <td>{'C': 10, 'gamma': 0.001, 'kernel': 'linear'}</td>\n",
       "      <td>0.962857</td>\n",
       "      <td>0.977857</td>\n",
       "      <td>...</td>\n",
       "      <td>0.970286</td>\n",
       "      <td>0.005002</td>\n",
       "      <td>8</td>\n",
       "      <td>0.972321</td>\n",
       "      <td>0.968750</td>\n",
       "      <td>0.968929</td>\n",
       "      <td>0.970714</td>\n",
       "      <td>0.971071</td>\n",
       "      <td>0.970357</td>\n",
       "      <td>0.001351</td>\n",
       "    </tr>\n",
       "    <tr>\n",
       "      <th>13</th>\n",
       "      <td>0.233441</td>\n",
       "      <td>0.097753</td>\n",
       "      <td>0.105052</td>\n",
       "      <td>0.038342</td>\n",
       "      <td>10</td>\n",
       "      <td>0.001</td>\n",
       "      <td>rbf</td>\n",
       "      <td>{'C': 10, 'gamma': 0.001, 'kernel': 'rbf'}</td>\n",
       "      <td>0.962857</td>\n",
       "      <td>0.976429</td>\n",
       "      <td>...</td>\n",
       "      <td>0.970143</td>\n",
       "      <td>0.004682</td>\n",
       "      <td>21</td>\n",
       "      <td>0.973036</td>\n",
       "      <td>0.970000</td>\n",
       "      <td>0.970536</td>\n",
       "      <td>0.971607</td>\n",
       "      <td>0.971964</td>\n",
       "      <td>0.971429</td>\n",
       "      <td>0.001071</td>\n",
       "    </tr>\n",
       "    <tr>\n",
       "      <th>14</th>\n",
       "      <td>0.178489</td>\n",
       "      <td>0.010462</td>\n",
       "      <td>0.017439</td>\n",
       "      <td>0.001021</td>\n",
       "      <td>10</td>\n",
       "      <td>0.001</td>\n",
       "      <td>poly</td>\n",
       "      <td>{'C': 10, 'gamma': 0.001, 'kernel': 'poly'}</td>\n",
       "      <td>0.964286</td>\n",
       "      <td>0.976429</td>\n",
       "      <td>...</td>\n",
       "      <td>0.970714</td>\n",
       "      <td>0.004928</td>\n",
       "      <td>1</td>\n",
       "      <td>0.973036</td>\n",
       "      <td>0.970179</td>\n",
       "      <td>0.970536</td>\n",
       "      <td>0.971607</td>\n",
       "      <td>0.971786</td>\n",
       "      <td>0.971429</td>\n",
       "      <td>0.001010</td>\n",
       "    </tr>\n",
       "    <tr>\n",
       "      <th>15</th>\n",
       "      <td>0.582397</td>\n",
       "      <td>0.229617</td>\n",
       "      <td>0.024454</td>\n",
       "      <td>0.010847</td>\n",
       "      <td>10</td>\n",
       "      <td>0.0001</td>\n",
       "      <td>linear</td>\n",
       "      <td>{'C': 10, 'gamma': 0.0001, 'kernel': 'linear'}</td>\n",
       "      <td>0.962857</td>\n",
       "      <td>0.977857</td>\n",
       "      <td>...</td>\n",
       "      <td>0.970286</td>\n",
       "      <td>0.005002</td>\n",
       "      <td>8</td>\n",
       "      <td>0.972321</td>\n",
       "      <td>0.968750</td>\n",
       "      <td>0.968929</td>\n",
       "      <td>0.970714</td>\n",
       "      <td>0.971071</td>\n",
       "      <td>0.970357</td>\n",
       "      <td>0.001351</td>\n",
       "    </tr>\n",
       "    <tr>\n",
       "      <th>16</th>\n",
       "      <td>0.300576</td>\n",
       "      <td>0.099498</td>\n",
       "      <td>0.152000</td>\n",
       "      <td>0.064532</td>\n",
       "      <td>10</td>\n",
       "      <td>0.0001</td>\n",
       "      <td>rbf</td>\n",
       "      <td>{'C': 10, 'gamma': 0.0001, 'kernel': 'rbf'}</td>\n",
       "      <td>0.962143</td>\n",
       "      <td>0.970714</td>\n",
       "      <td>...</td>\n",
       "      <td>0.967714</td>\n",
       "      <td>0.004481</td>\n",
       "      <td>32</td>\n",
       "      <td>0.970179</td>\n",
       "      <td>0.968393</td>\n",
       "      <td>0.967500</td>\n",
       "      <td>0.968393</td>\n",
       "      <td>0.968036</td>\n",
       "      <td>0.968500</td>\n",
       "      <td>0.000901</td>\n",
       "    </tr>\n",
       "    <tr>\n",
       "      <th>17</th>\n",
       "      <td>0.179574</td>\n",
       "      <td>0.007174</td>\n",
       "      <td>0.047097</td>\n",
       "      <td>0.020266</td>\n",
       "      <td>10</td>\n",
       "      <td>0.0001</td>\n",
       "      <td>poly</td>\n",
       "      <td>{'C': 10, 'gamma': 0.0001, 'kernel': 'poly'}</td>\n",
       "      <td>0.962857</td>\n",
       "      <td>0.967857</td>\n",
       "      <td>...</td>\n",
       "      <td>0.964000</td>\n",
       "      <td>0.003017</td>\n",
       "      <td>34</td>\n",
       "      <td>0.965357</td>\n",
       "      <td>0.963214</td>\n",
       "      <td>0.964107</td>\n",
       "      <td>0.964286</td>\n",
       "      <td>0.963750</td>\n",
       "      <td>0.964143</td>\n",
       "      <td>0.000709</td>\n",
       "    </tr>\n",
       "    <tr>\n",
       "      <th>18</th>\n",
       "      <td>2.536892</td>\n",
       "      <td>0.622350</td>\n",
       "      <td>0.019258</td>\n",
       "      <td>0.008099</td>\n",
       "      <td>100</td>\n",
       "      <td>0.01</td>\n",
       "      <td>linear</td>\n",
       "      <td>{'C': 100, 'gamma': 0.01, 'kernel': 'linear'}</td>\n",
       "      <td>0.962857</td>\n",
       "      <td>0.977857</td>\n",
       "      <td>...</td>\n",
       "      <td>0.970429</td>\n",
       "      <td>0.005002</td>\n",
       "      <td>5</td>\n",
       "      <td>0.972679</td>\n",
       "      <td>0.968750</td>\n",
       "      <td>0.968929</td>\n",
       "      <td>0.970714</td>\n",
       "      <td>0.971071</td>\n",
       "      <td>0.970429</td>\n",
       "      <td>0.001458</td>\n",
       "    </tr>\n",
       "    <tr>\n",
       "      <th>19</th>\n",
       "      <td>0.461238</td>\n",
       "      <td>0.385629</td>\n",
       "      <td>0.093172</td>\n",
       "      <td>0.024776</td>\n",
       "      <td>100</td>\n",
       "      <td>0.01</td>\n",
       "      <td>rbf</td>\n",
       "      <td>{'C': 100, 'gamma': 0.01, 'kernel': 'rbf'}</td>\n",
       "      <td>0.966429</td>\n",
       "      <td>0.965714</td>\n",
       "      <td>...</td>\n",
       "      <td>0.968571</td>\n",
       "      <td>0.002785</td>\n",
       "      <td>30</td>\n",
       "      <td>0.975893</td>\n",
       "      <td>0.973750</td>\n",
       "      <td>0.972500</td>\n",
       "      <td>0.975000</td>\n",
       "      <td>0.974821</td>\n",
       "      <td>0.974393</td>\n",
       "      <td>0.001166</td>\n",
       "    </tr>\n",
       "    <tr>\n",
       "      <th>20</th>\n",
       "      <td>52.466757</td>\n",
       "      <td>2.839128</td>\n",
       "      <td>0.017109</td>\n",
       "      <td>0.007557</td>\n",
       "      <td>100</td>\n",
       "      <td>0.01</td>\n",
       "      <td>poly</td>\n",
       "      <td>{'C': 100, 'gamma': 0.01, 'kernel': 'poly'}</td>\n",
       "      <td>0.966429</td>\n",
       "      <td>0.972857</td>\n",
       "      <td>...</td>\n",
       "      <td>0.970429</td>\n",
       "      <td>0.002416</td>\n",
       "      <td>4</td>\n",
       "      <td>0.974643</td>\n",
       "      <td>0.971607</td>\n",
       "      <td>0.972500</td>\n",
       "      <td>0.971071</td>\n",
       "      <td>0.973214</td>\n",
       "      <td>0.972607</td>\n",
       "      <td>0.001256</td>\n",
       "    </tr>\n",
       "    <tr>\n",
       "      <th>21</th>\n",
       "      <td>2.479588</td>\n",
       "      <td>0.591131</td>\n",
       "      <td>0.026039</td>\n",
       "      <td>0.013540</td>\n",
       "      <td>100</td>\n",
       "      <td>0.001</td>\n",
       "      <td>linear</td>\n",
       "      <td>{'C': 100, 'gamma': 0.001, 'kernel': 'linear'}</td>\n",
       "      <td>0.962857</td>\n",
       "      <td>0.977857</td>\n",
       "      <td>...</td>\n",
       "      <td>0.970429</td>\n",
       "      <td>0.005002</td>\n",
       "      <td>5</td>\n",
       "      <td>0.972679</td>\n",
       "      <td>0.968750</td>\n",
       "      <td>0.968929</td>\n",
       "      <td>0.970714</td>\n",
       "      <td>0.971071</td>\n",
       "      <td>0.970429</td>\n",
       "      <td>0.001458</td>\n",
       "    </tr>\n",
       "    <tr>\n",
       "      <th>22</th>\n",
       "      <td>0.220903</td>\n",
       "      <td>0.094756</td>\n",
       "      <td>0.100209</td>\n",
       "      <td>0.033724</td>\n",
       "      <td>100</td>\n",
       "      <td>0.001</td>\n",
       "      <td>rbf</td>\n",
       "      <td>{'C': 100, 'gamma': 0.001, 'kernel': 'rbf'}</td>\n",
       "      <td>0.963571</td>\n",
       "      <td>0.975714</td>\n",
       "      <td>...</td>\n",
       "      <td>0.969857</td>\n",
       "      <td>0.004247</td>\n",
       "      <td>23</td>\n",
       "      <td>0.973571</td>\n",
       "      <td>0.970357</td>\n",
       "      <td>0.971071</td>\n",
       "      <td>0.971786</td>\n",
       "      <td>0.973214</td>\n",
       "      <td>0.972000</td>\n",
       "      <td>0.001229</td>\n",
       "    </tr>\n",
       "    <tr>\n",
       "      <th>23</th>\n",
       "      <td>0.767977</td>\n",
       "      <td>0.241111</td>\n",
       "      <td>0.027011</td>\n",
       "      <td>0.011324</td>\n",
       "      <td>100</td>\n",
       "      <td>0.001</td>\n",
       "      <td>poly</td>\n",
       "      <td>{'C': 100, 'gamma': 0.001, 'kernel': 'poly'}</td>\n",
       "      <td>0.963571</td>\n",
       "      <td>0.975000</td>\n",
       "      <td>...</td>\n",
       "      <td>0.970143</td>\n",
       "      <td>0.004175</td>\n",
       "      <td>19</td>\n",
       "      <td>0.973214</td>\n",
       "      <td>0.971429</td>\n",
       "      <td>0.971071</td>\n",
       "      <td>0.971786</td>\n",
       "      <td>0.972679</td>\n",
       "      <td>0.972036</td>\n",
       "      <td>0.000795</td>\n",
       "    </tr>\n",
       "    <tr>\n",
       "      <th>24</th>\n",
       "      <td>2.638577</td>\n",
       "      <td>0.489067</td>\n",
       "      <td>0.024023</td>\n",
       "      <td>0.009784</td>\n",
       "      <td>100</td>\n",
       "      <td>0.0001</td>\n",
       "      <td>linear</td>\n",
       "      <td>{'C': 100, 'gamma': 0.0001, 'kernel': 'linear'}</td>\n",
       "      <td>0.962857</td>\n",
       "      <td>0.977857</td>\n",
       "      <td>...</td>\n",
       "      <td>0.970429</td>\n",
       "      <td>0.005002</td>\n",
       "      <td>5</td>\n",
       "      <td>0.972679</td>\n",
       "      <td>0.968750</td>\n",
       "      <td>0.968929</td>\n",
       "      <td>0.970714</td>\n",
       "      <td>0.971071</td>\n",
       "      <td>0.970429</td>\n",
       "      <td>0.001458</td>\n",
       "    </tr>\n",
       "    <tr>\n",
       "      <th>25</th>\n",
       "      <td>0.226996</td>\n",
       "      <td>0.088018</td>\n",
       "      <td>0.095772</td>\n",
       "      <td>0.032216</td>\n",
       "      <td>100</td>\n",
       "      <td>0.0001</td>\n",
       "      <td>rbf</td>\n",
       "      <td>{'C': 100, 'gamma': 0.0001, 'kernel': 'rbf'}</td>\n",
       "      <td>0.962857</td>\n",
       "      <td>0.978571</td>\n",
       "      <td>...</td>\n",
       "      <td>0.970714</td>\n",
       "      <td>0.005345</td>\n",
       "      <td>1</td>\n",
       "      <td>0.973929</td>\n",
       "      <td>0.969821</td>\n",
       "      <td>0.970000</td>\n",
       "      <td>0.970536</td>\n",
       "      <td>0.971607</td>\n",
       "      <td>0.971179</td>\n",
       "      <td>0.001509</td>\n",
       "    </tr>\n",
       "    <tr>\n",
       "      <th>26</th>\n",
       "      <td>0.319443</td>\n",
       "      <td>0.087585</td>\n",
       "      <td>0.049486</td>\n",
       "      <td>0.018399</td>\n",
       "      <td>100</td>\n",
       "      <td>0.0001</td>\n",
       "      <td>poly</td>\n",
       "      <td>{'C': 100, 'gamma': 0.0001, 'kernel': 'poly'}</td>\n",
       "      <td>0.962143</td>\n",
       "      <td>0.974286</td>\n",
       "      <td>...</td>\n",
       "      <td>0.968857</td>\n",
       "      <td>0.004620</td>\n",
       "      <td>29</td>\n",
       "      <td>0.970357</td>\n",
       "      <td>0.968750</td>\n",
       "      <td>0.968036</td>\n",
       "      <td>0.969107</td>\n",
       "      <td>0.969821</td>\n",
       "      <td>0.969214</td>\n",
       "      <td>0.000811</td>\n",
       "    </tr>\n",
       "    <tr>\n",
       "      <th>27</th>\n",
       "      <td>20.563356</td>\n",
       "      <td>3.063856</td>\n",
       "      <td>0.034551</td>\n",
       "      <td>0.010128</td>\n",
       "      <td>1000</td>\n",
       "      <td>0.01</td>\n",
       "      <td>linear</td>\n",
       "      <td>{'C': 1000, 'gamma': 0.01, 'kernel': 'linear'}</td>\n",
       "      <td>0.962857</td>\n",
       "      <td>0.977857</td>\n",
       "      <td>...</td>\n",
       "      <td>0.970286</td>\n",
       "      <td>0.005002</td>\n",
       "      <td>8</td>\n",
       "      <td>0.972679</td>\n",
       "      <td>0.968750</td>\n",
       "      <td>0.968929</td>\n",
       "      <td>0.971071</td>\n",
       "      <td>0.971071</td>\n",
       "      <td>0.970500</td>\n",
       "      <td>0.001479</td>\n",
       "    </tr>\n",
       "    <tr>\n",
       "      <th>28</th>\n",
       "      <td>0.665297</td>\n",
       "      <td>0.224018</td>\n",
       "      <td>0.072347</td>\n",
       "      <td>0.024333</td>\n",
       "      <td>1000</td>\n",
       "      <td>0.01</td>\n",
       "      <td>rbf</td>\n",
       "      <td>{'C': 1000, 'gamma': 0.01, 'kernel': 'rbf'}</td>\n",
       "      <td>0.962857</td>\n",
       "      <td>0.965714</td>\n",
       "      <td>...</td>\n",
       "      <td>0.967571</td>\n",
       "      <td>0.003631</td>\n",
       "      <td>33</td>\n",
       "      <td>0.978929</td>\n",
       "      <td>0.978036</td>\n",
       "      <td>0.976250</td>\n",
       "      <td>0.977321</td>\n",
       "      <td>0.978929</td>\n",
       "      <td>0.977893</td>\n",
       "      <td>0.001019</td>\n",
       "    </tr>\n",
       "    <tr>\n",
       "      <th>29</th>\n",
       "      <td>57.658768</td>\n",
       "      <td>12.636725</td>\n",
       "      <td>0.022464</td>\n",
       "      <td>0.011213</td>\n",
       "      <td>1000</td>\n",
       "      <td>0.01</td>\n",
       "      <td>poly</td>\n",
       "      <td>{'C': 1000, 'gamma': 0.01, 'kernel': 'poly'}</td>\n",
       "      <td>0.964286</td>\n",
       "      <td>0.974286</td>\n",
       "      <td>...</td>\n",
       "      <td>0.970571</td>\n",
       "      <td>0.003870</td>\n",
       "      <td>3</td>\n",
       "      <td>0.972679</td>\n",
       "      <td>0.971250</td>\n",
       "      <td>0.971964</td>\n",
       "      <td>0.971071</td>\n",
       "      <td>0.973036</td>\n",
       "      <td>0.972000</td>\n",
       "      <td>0.000769</td>\n",
       "    </tr>\n",
       "    <tr>\n",
       "      <th>30</th>\n",
       "      <td>24.030004</td>\n",
       "      <td>4.221861</td>\n",
       "      <td>0.036111</td>\n",
       "      <td>0.004526</td>\n",
       "      <td>1000</td>\n",
       "      <td>0.001</td>\n",
       "      <td>linear</td>\n",
       "      <td>{'C': 1000, 'gamma': 0.001, 'kernel': 'linear'}</td>\n",
       "      <td>0.962857</td>\n",
       "      <td>0.977857</td>\n",
       "      <td>...</td>\n",
       "      <td>0.970286</td>\n",
       "      <td>0.005002</td>\n",
       "      <td>8</td>\n",
       "      <td>0.972679</td>\n",
       "      <td>0.968750</td>\n",
       "      <td>0.968929</td>\n",
       "      <td>0.971071</td>\n",
       "      <td>0.971071</td>\n",
       "      <td>0.970500</td>\n",
       "      <td>0.001479</td>\n",
       "    </tr>\n",
       "    <tr>\n",
       "      <th>31</th>\n",
       "      <td>0.261116</td>\n",
       "      <td>0.102485</td>\n",
       "      <td>0.076017</td>\n",
       "      <td>0.031485</td>\n",
       "      <td>1000</td>\n",
       "      <td>0.001</td>\n",
       "      <td>rbf</td>\n",
       "      <td>{'C': 1000, 'gamma': 0.001, 'kernel': 'rbf'}</td>\n",
       "      <td>0.964286</td>\n",
       "      <td>0.972143</td>\n",
       "      <td>...</td>\n",
       "      <td>0.969714</td>\n",
       "      <td>0.003017</td>\n",
       "      <td>24</td>\n",
       "      <td>0.973214</td>\n",
       "      <td>0.972143</td>\n",
       "      <td>0.971786</td>\n",
       "      <td>0.973036</td>\n",
       "      <td>0.973929</td>\n",
       "      <td>0.972821</td>\n",
       "      <td>0.000769</td>\n",
       "    </tr>\n",
       "    <tr>\n",
       "      <th>32</th>\n",
       "      <td>5.444180</td>\n",
       "      <td>0.890130</td>\n",
       "      <td>0.031046</td>\n",
       "      <td>0.010319</td>\n",
       "      <td>1000</td>\n",
       "      <td>0.001</td>\n",
       "      <td>poly</td>\n",
       "      <td>{'C': 1000, 'gamma': 0.001, 'kernel': 'poly'}</td>\n",
       "      <td>0.963571</td>\n",
       "      <td>0.972143</td>\n",
       "      <td>...</td>\n",
       "      <td>0.969571</td>\n",
       "      <td>0.003338</td>\n",
       "      <td>26</td>\n",
       "      <td>0.974107</td>\n",
       "      <td>0.972143</td>\n",
       "      <td>0.971607</td>\n",
       "      <td>0.972321</td>\n",
       "      <td>0.972857</td>\n",
       "      <td>0.972607</td>\n",
       "      <td>0.000850</td>\n",
       "    </tr>\n",
       "    <tr>\n",
       "      <th>33</th>\n",
       "      <td>21.789636</td>\n",
       "      <td>3.210417</td>\n",
       "      <td>0.016002</td>\n",
       "      <td>0.000949</td>\n",
       "      <td>1000</td>\n",
       "      <td>0.0001</td>\n",
       "      <td>linear</td>\n",
       "      <td>{'C': 1000, 'gamma': 0.0001, 'kernel': 'linear'}</td>\n",
       "      <td>0.962857</td>\n",
       "      <td>0.977857</td>\n",
       "      <td>...</td>\n",
       "      <td>0.970286</td>\n",
       "      <td>0.005002</td>\n",
       "      <td>8</td>\n",
       "      <td>0.972679</td>\n",
       "      <td>0.968750</td>\n",
       "      <td>0.968929</td>\n",
       "      <td>0.971071</td>\n",
       "      <td>0.971071</td>\n",
       "      <td>0.970500</td>\n",
       "      <td>0.001479</td>\n",
       "    </tr>\n",
       "    <tr>\n",
       "      <th>34</th>\n",
       "      <td>0.195770</td>\n",
       "      <td>0.093743</td>\n",
       "      <td>0.101793</td>\n",
       "      <td>0.047924</td>\n",
       "      <td>1000</td>\n",
       "      <td>0.0001</td>\n",
       "      <td>rbf</td>\n",
       "      <td>{'C': 1000, 'gamma': 0.0001, 'kernel': 'rbf'}</td>\n",
       "      <td>0.962857</td>\n",
       "      <td>0.974286</td>\n",
       "      <td>...</td>\n",
       "      <td>0.969714</td>\n",
       "      <td>0.004155</td>\n",
       "      <td>25</td>\n",
       "      <td>0.972679</td>\n",
       "      <td>0.970714</td>\n",
       "      <td>0.969464</td>\n",
       "      <td>0.971250</td>\n",
       "      <td>0.971250</td>\n",
       "      <td>0.971071</td>\n",
       "      <td>0.001035</td>\n",
       "    </tr>\n",
       "    <tr>\n",
       "      <th>35</th>\n",
       "      <td>0.143905</td>\n",
       "      <td>0.015367</td>\n",
       "      <td>0.021492</td>\n",
       "      <td>0.002947</td>\n",
       "      <td>1000</td>\n",
       "      <td>0.0001</td>\n",
       "      <td>poly</td>\n",
       "      <td>{'C': 1000, 'gamma': 0.0001, 'kernel': 'poly'}</td>\n",
       "      <td>0.963571</td>\n",
       "      <td>0.975714</td>\n",
       "      <td>...</td>\n",
       "      <td>0.970286</td>\n",
       "      <td>0.004751</td>\n",
       "      <td>8</td>\n",
       "      <td>0.972143</td>\n",
       "      <td>0.969107</td>\n",
       "      <td>0.970179</td>\n",
       "      <td>0.970893</td>\n",
       "      <td>0.971071</td>\n",
       "      <td>0.970679</td>\n",
       "      <td>0.001006</td>\n",
       "    </tr>\n",
       "  </tbody>\n",
       "</table>\n",
       "<p>36 rows × 23 columns</p>\n",
       "</div>"
      ],
      "text/plain": [
       "    mean_fit_time  std_fit_time  mean_score_time  std_score_time param_C  \\\n",
       "0        0.147259      0.012270         0.016167        0.000394       1   \n",
       "1        0.173856      0.006017         0.109158        0.033526       1   \n",
       "2        4.165767      0.879313         0.027043        0.012153       1   \n",
       "3        0.182504      0.072540         0.020131        0.009047       1   \n",
       "4        0.278201      0.119910         0.149965        0.056788       1   \n",
       "5        0.198399      0.070034         0.029539        0.013065       1   \n",
       "6        0.144552      0.005800         0.015062        0.000203       1   \n",
       "7        0.448140      0.181771         0.190864        0.004684       1   \n",
       "8        0.372878      0.147272         0.081716        0.036019       1   \n",
       "9        0.516014      0.206598         0.020338        0.007617      10   \n",
       "10       0.196420      0.084378         0.097352        0.044613      10   \n",
       "11      22.918914      7.406086         0.015160        0.000808      10   \n",
       "12       0.509198      0.140086         0.019420        0.007533      10   \n",
       "13       0.233441      0.097753         0.105052        0.038342      10   \n",
       "14       0.178489      0.010462         0.017439        0.001021      10   \n",
       "15       0.582397      0.229617         0.024454        0.010847      10   \n",
       "16       0.300576      0.099498         0.152000        0.064532      10   \n",
       "17       0.179574      0.007174         0.047097        0.020266      10   \n",
       "18       2.536892      0.622350         0.019258        0.008099     100   \n",
       "19       0.461238      0.385629         0.093172        0.024776     100   \n",
       "20      52.466757      2.839128         0.017109        0.007557     100   \n",
       "21       2.479588      0.591131         0.026039        0.013540     100   \n",
       "22       0.220903      0.094756         0.100209        0.033724     100   \n",
       "23       0.767977      0.241111         0.027011        0.011324     100   \n",
       "24       2.638577      0.489067         0.024023        0.009784     100   \n",
       "25       0.226996      0.088018         0.095772        0.032216     100   \n",
       "26       0.319443      0.087585         0.049486        0.018399     100   \n",
       "27      20.563356      3.063856         0.034551        0.010128    1000   \n",
       "28       0.665297      0.224018         0.072347        0.024333    1000   \n",
       "29      57.658768     12.636725         0.022464        0.011213    1000   \n",
       "30      24.030004      4.221861         0.036111        0.004526    1000   \n",
       "31       0.261116      0.102485         0.076017        0.031485    1000   \n",
       "32       5.444180      0.890130         0.031046        0.010319    1000   \n",
       "33      21.789636      3.210417         0.016002        0.000949    1000   \n",
       "34       0.195770      0.093743         0.101793        0.047924    1000   \n",
       "35       0.143905      0.015367         0.021492        0.002947    1000   \n",
       "\n",
       "   param_gamma param_kernel                                            params  \\\n",
       "0         0.01       linear       {'C': 1, 'gamma': 0.01, 'kernel': 'linear'}   \n",
       "1         0.01          rbf          {'C': 1, 'gamma': 0.01, 'kernel': 'rbf'}   \n",
       "2         0.01         poly         {'C': 1, 'gamma': 0.01, 'kernel': 'poly'}   \n",
       "3        0.001       linear      {'C': 1, 'gamma': 0.001, 'kernel': 'linear'}   \n",
       "4        0.001          rbf         {'C': 1, 'gamma': 0.001, 'kernel': 'rbf'}   \n",
       "5        0.001         poly        {'C': 1, 'gamma': 0.001, 'kernel': 'poly'}   \n",
       "6       0.0001       linear     {'C': 1, 'gamma': 0.0001, 'kernel': 'linear'}   \n",
       "7       0.0001          rbf        {'C': 1, 'gamma': 0.0001, 'kernel': 'rbf'}   \n",
       "8       0.0001         poly       {'C': 1, 'gamma': 0.0001, 'kernel': 'poly'}   \n",
       "9         0.01       linear      {'C': 10, 'gamma': 0.01, 'kernel': 'linear'}   \n",
       "10        0.01          rbf         {'C': 10, 'gamma': 0.01, 'kernel': 'rbf'}   \n",
       "11        0.01         poly        {'C': 10, 'gamma': 0.01, 'kernel': 'poly'}   \n",
       "12       0.001       linear     {'C': 10, 'gamma': 0.001, 'kernel': 'linear'}   \n",
       "13       0.001          rbf        {'C': 10, 'gamma': 0.001, 'kernel': 'rbf'}   \n",
       "14       0.001         poly       {'C': 10, 'gamma': 0.001, 'kernel': 'poly'}   \n",
       "15      0.0001       linear    {'C': 10, 'gamma': 0.0001, 'kernel': 'linear'}   \n",
       "16      0.0001          rbf       {'C': 10, 'gamma': 0.0001, 'kernel': 'rbf'}   \n",
       "17      0.0001         poly      {'C': 10, 'gamma': 0.0001, 'kernel': 'poly'}   \n",
       "18        0.01       linear     {'C': 100, 'gamma': 0.01, 'kernel': 'linear'}   \n",
       "19        0.01          rbf        {'C': 100, 'gamma': 0.01, 'kernel': 'rbf'}   \n",
       "20        0.01         poly       {'C': 100, 'gamma': 0.01, 'kernel': 'poly'}   \n",
       "21       0.001       linear    {'C': 100, 'gamma': 0.001, 'kernel': 'linear'}   \n",
       "22       0.001          rbf       {'C': 100, 'gamma': 0.001, 'kernel': 'rbf'}   \n",
       "23       0.001         poly      {'C': 100, 'gamma': 0.001, 'kernel': 'poly'}   \n",
       "24      0.0001       linear   {'C': 100, 'gamma': 0.0001, 'kernel': 'linear'}   \n",
       "25      0.0001          rbf      {'C': 100, 'gamma': 0.0001, 'kernel': 'rbf'}   \n",
       "26      0.0001         poly     {'C': 100, 'gamma': 0.0001, 'kernel': 'poly'}   \n",
       "27        0.01       linear    {'C': 1000, 'gamma': 0.01, 'kernel': 'linear'}   \n",
       "28        0.01          rbf       {'C': 1000, 'gamma': 0.01, 'kernel': 'rbf'}   \n",
       "29        0.01         poly      {'C': 1000, 'gamma': 0.01, 'kernel': 'poly'}   \n",
       "30       0.001       linear   {'C': 1000, 'gamma': 0.001, 'kernel': 'linear'}   \n",
       "31       0.001          rbf      {'C': 1000, 'gamma': 0.001, 'kernel': 'rbf'}   \n",
       "32       0.001         poly     {'C': 1000, 'gamma': 0.001, 'kernel': 'poly'}   \n",
       "33      0.0001       linear  {'C': 1000, 'gamma': 0.0001, 'kernel': 'linear'}   \n",
       "34      0.0001          rbf     {'C': 1000, 'gamma': 0.0001, 'kernel': 'rbf'}   \n",
       "35      0.0001         poly    {'C': 1000, 'gamma': 0.0001, 'kernel': 'poly'}   \n",
       "\n",
       "    split0_test_score  split1_test_score  ...  mean_test_score  \\\n",
       "0            0.962857           0.977143  ...         0.970286   \n",
       "1            0.964286           0.973571  ...         0.969429   \n",
       "2            0.961429           0.972857  ...         0.969286   \n",
       "3            0.962857           0.977143  ...         0.970286   \n",
       "4            0.961429           0.970714  ...         0.967857   \n",
       "5            0.963571           0.975714  ...         0.970286   \n",
       "6            0.962857           0.977143  ...         0.970286   \n",
       "7            0.947857           0.947143  ...         0.947429   \n",
       "8            0.936429           0.933571  ...         0.934714   \n",
       "9            0.962857           0.977857  ...         0.970286   \n",
       "10           0.965714           0.970714  ...         0.970000   \n",
       "11           0.963571           0.971429  ...         0.970143   \n",
       "12           0.962857           0.977857  ...         0.970286   \n",
       "13           0.962857           0.976429  ...         0.970143   \n",
       "14           0.964286           0.976429  ...         0.970714   \n",
       "15           0.962857           0.977857  ...         0.970286   \n",
       "16           0.962143           0.970714  ...         0.967714   \n",
       "17           0.962857           0.967857  ...         0.964000   \n",
       "18           0.962857           0.977857  ...         0.970429   \n",
       "19           0.966429           0.965714  ...         0.968571   \n",
       "20           0.966429           0.972857  ...         0.970429   \n",
       "21           0.962857           0.977857  ...         0.970429   \n",
       "22           0.963571           0.975714  ...         0.969857   \n",
       "23           0.963571           0.975000  ...         0.970143   \n",
       "24           0.962857           0.977857  ...         0.970429   \n",
       "25           0.962857           0.978571  ...         0.970714   \n",
       "26           0.962143           0.974286  ...         0.968857   \n",
       "27           0.962857           0.977857  ...         0.970286   \n",
       "28           0.962857           0.965714  ...         0.967571   \n",
       "29           0.964286           0.974286  ...         0.970571   \n",
       "30           0.962857           0.977857  ...         0.970286   \n",
       "31           0.964286           0.972143  ...         0.969714   \n",
       "32           0.963571           0.972143  ...         0.969571   \n",
       "33           0.962857           0.977857  ...         0.970286   \n",
       "34           0.962857           0.974286  ...         0.969714   \n",
       "35           0.963571           0.975714  ...         0.970286   \n",
       "\n",
       "    std_test_score  rank_test_score  split0_train_score  split1_train_score  \\\n",
       "0         0.004836                8            0.972321            0.968571   \n",
       "1         0.003736               27            0.972321            0.971429   \n",
       "2         0.004333               28            0.973393            0.971964   \n",
       "3         0.004836                8            0.972321            0.968571   \n",
       "4         0.004403               31            0.970179            0.967321   \n",
       "5         0.004751                8            0.972143            0.969107   \n",
       "6         0.004836                8            0.972321            0.968571   \n",
       "7         0.004300               35            0.948750            0.947500   \n",
       "8         0.003213               36            0.934643            0.935000   \n",
       "9         0.005002                8            0.972321            0.968750   \n",
       "10        0.002821               22            0.974286            0.973214   \n",
       "11        0.003709               19            0.973393            0.972857   \n",
       "12        0.005002                8            0.972321            0.968750   \n",
       "13        0.004682               21            0.973036            0.970000   \n",
       "14        0.004928                1            0.973036            0.970179   \n",
       "15        0.005002                8            0.972321            0.968750   \n",
       "16        0.004481               32            0.970179            0.968393   \n",
       "17        0.003017               34            0.965357            0.963214   \n",
       "18        0.005002                5            0.972679            0.968750   \n",
       "19        0.002785               30            0.975893            0.973750   \n",
       "20        0.002416                4            0.974643            0.971607   \n",
       "21        0.005002                5            0.972679            0.968750   \n",
       "22        0.004247               23            0.973571            0.970357   \n",
       "23        0.004175               19            0.973214            0.971429   \n",
       "24        0.005002                5            0.972679            0.968750   \n",
       "25        0.005345                1            0.973929            0.969821   \n",
       "26        0.004620               29            0.970357            0.968750   \n",
       "27        0.005002                8            0.972679            0.968750   \n",
       "28        0.003631               33            0.978929            0.978036   \n",
       "29        0.003870                3            0.972679            0.971250   \n",
       "30        0.005002                8            0.972679            0.968750   \n",
       "31        0.003017               24            0.973214            0.972143   \n",
       "32        0.003338               26            0.974107            0.972143   \n",
       "33        0.005002                8            0.972679            0.968750   \n",
       "34        0.004155               25            0.972679            0.970714   \n",
       "35        0.004751                8            0.972143            0.969107   \n",
       "\n",
       "    split2_train_score  split3_train_score  split4_train_score  \\\n",
       "0             0.969464            0.970714            0.971071   \n",
       "1             0.970179            0.972143            0.972321   \n",
       "2             0.971964            0.973036            0.973036   \n",
       "3             0.969464            0.970714            0.971071   \n",
       "4             0.967143            0.967857            0.967679   \n",
       "5             0.970179            0.970893            0.971071   \n",
       "6             0.969464            0.970714            0.971071   \n",
       "7             0.948393            0.948036            0.948214   \n",
       "8             0.933929            0.935536            0.935179   \n",
       "9             0.968929            0.970714            0.971071   \n",
       "10            0.972143            0.974107            0.974464   \n",
       "11            0.972321            0.972857            0.973929   \n",
       "12            0.968929            0.970714            0.971071   \n",
       "13            0.970536            0.971607            0.971964   \n",
       "14            0.970536            0.971607            0.971786   \n",
       "15            0.968929            0.970714            0.971071   \n",
       "16            0.967500            0.968393            0.968036   \n",
       "17            0.964107            0.964286            0.963750   \n",
       "18            0.968929            0.970714            0.971071   \n",
       "19            0.972500            0.975000            0.974821   \n",
       "20            0.972500            0.971071            0.973214   \n",
       "21            0.968929            0.970714            0.971071   \n",
       "22            0.971071            0.971786            0.973214   \n",
       "23            0.971071            0.971786            0.972679   \n",
       "24            0.968929            0.970714            0.971071   \n",
       "25            0.970000            0.970536            0.971607   \n",
       "26            0.968036            0.969107            0.969821   \n",
       "27            0.968929            0.971071            0.971071   \n",
       "28            0.976250            0.977321            0.978929   \n",
       "29            0.971964            0.971071            0.973036   \n",
       "30            0.968929            0.971071            0.971071   \n",
       "31            0.971786            0.973036            0.973929   \n",
       "32            0.971607            0.972321            0.972857   \n",
       "33            0.968929            0.971071            0.971071   \n",
       "34            0.969464            0.971250            0.971250   \n",
       "35            0.970179            0.970893            0.971071   \n",
       "\n",
       "    mean_train_score  std_train_score  \n",
       "0           0.970429         0.001301  \n",
       "1           0.971679         0.000819  \n",
       "2           0.972679         0.000598  \n",
       "3           0.970429         0.001301  \n",
       "4           0.968036         0.001101  \n",
       "5           0.970679         0.001006  \n",
       "6           0.970429         0.001301  \n",
       "7           0.948179         0.000413  \n",
       "8           0.934857         0.000546  \n",
       "9           0.970357         0.001351  \n",
       "10          0.973643         0.000865  \n",
       "11          0.973071         0.000546  \n",
       "12          0.970357         0.001351  \n",
       "13          0.971429         0.001071  \n",
       "14          0.971429         0.001010  \n",
       "15          0.970357         0.001351  \n",
       "16          0.968500         0.000901  \n",
       "17          0.964143         0.000709  \n",
       "18          0.970429         0.001458  \n",
       "19          0.974393         0.001166  \n",
       "20          0.972607         0.001256  \n",
       "21          0.970429         0.001458  \n",
       "22          0.972000         0.001229  \n",
       "23          0.972036         0.000795  \n",
       "24          0.970429         0.001458  \n",
       "25          0.971179         0.001509  \n",
       "26          0.969214         0.000811  \n",
       "27          0.970500         0.001479  \n",
       "28          0.977893         0.001019  \n",
       "29          0.972000         0.000769  \n",
       "30          0.970500         0.001479  \n",
       "31          0.972821         0.000769  \n",
       "32          0.972607         0.000850  \n",
       "33          0.970500         0.001479  \n",
       "34          0.971071         0.001035  \n",
       "35          0.970679         0.001006  \n",
       "\n",
       "[36 rows x 23 columns]"
      ]
     },
     "execution_count": 46,
     "metadata": {},
     "output_type": "execute_result"
    }
   ],
   "source": [
    "# cv results\n",
    "cv_results = pd.DataFrame(model_cv.cv_results_)\n",
    "cv_results"
   ]
  },
  {
   "cell_type": "code",
   "execution_count": 47,
   "metadata": {},
   "outputs": [
    {
     "data": {
      "image/png": "[encoded data removed]",
      "text/plain": [
       "<Figure size 1600x600 with 3 Axes>"
      ]
     },
     "metadata": {},
     "output_type": "display_data"
    }
   ],
   "source": [
    "# converting C to numeric type for plotting on x-axis\n",
    "cv_results['param_C'] = cv_results['param_C'].astype('int')\n",
    "\n",
    "# # plotting\n",
    "plt.figure(figsize=(16,6))\n",
    "\n",
    "# subplot 1/3\n",
    "plt.subplot(131)\n",
    "gamma_01 = cv_results[cv_results['param_gamma']==0.01]\n",
    "\n",
    "plt.plot(gamma_01[\"param_C\"], gamma_01[\"mean_test_score\"])\n",
    "plt.plot(gamma_01[\"param_C\"], gamma_01[\"mean_train_score\"])\n",
    "plt.xlabel('C')\n",
    "plt.ylabel('Accuracy')\n",
    "plt.title(\"Gamma=0.01\")\n",
    "plt.ylim([0.80, 1])\n",
    "plt.legend(['test accuracy', 'train accuracy'], loc='upper left')\n",
    "plt.xscale('log')\n",
    "\n",
    "# subplot 2/3\n",
    "plt.subplot(132)\n",
    "gamma_001 = cv_results[cv_results['param_gamma']==0.001]\n",
    "\n",
    "plt.plot(gamma_001[\"param_C\"], gamma_001[\"mean_test_score\"])\n",
    "plt.plot(gamma_001[\"param_C\"], gamma_001[\"mean_train_score\"])\n",
    "plt.xlabel('C')\n",
    "plt.ylabel('Accuracy')\n",
    "plt.title(\"Gamma=0.001\")\n",
    "plt.ylim([0.80, 1])\n",
    "plt.legend(['test accuracy', 'train accuracy'], loc='upper left')\n",
    "plt.xscale('log')\n",
    "\n",
    "\n",
    "# subplot 3/3\n",
    "plt.subplot(133)\n",
    "gamma_0001 = cv_results[cv_results['param_gamma']==0.0001]\n",
    "\n",
    "plt.plot(gamma_0001[\"param_C\"], gamma_0001[\"mean_test_score\"])\n",
    "plt.plot(gamma_0001[\"param_C\"], gamma_0001[\"mean_train_score\"])\n",
    "plt.xlabel('C')\n",
    "plt.ylabel('Accuracy')\n",
    "plt.title(\"Gamma=0.0001\")\n",
    "plt.ylim([0.80, 1])\n",
    "plt.legend(['test accuracy', 'train accuracy'], loc='upper left')\n",
    "plt.xscale('log')\n"
   ]
  },
  {
   "cell_type": "code",
   "execution_count": 48,
   "metadata": {},
   "outputs": [
    {
     "name": "stdout",
     "output_type": "stream",
     "text": [
      "The best test score is 0.9707142857142858 corresponding to hyperparameters {'C': 10, 'gamma': 0.001, 'kernel': 'poly'}\n"
     ]
    }
   ],
   "source": [
    "# printing the optimal accuracy score and hyperparameters\n",
    "best_score = model_cv.best_score_\n",
    "best_hyperparams = model_cv.best_params_\n",
    "print(\"The best test score is {0} corresponding to hyperparameters {1}\".format(best_score, best_hyperparams))"
   ]
  },
  {
   "cell_type": "markdown",
   "metadata": {},
   "source": [
    "## #Regression Models "
   ]
  },
  {
   "cell_type": "code",
   "execution_count": 49,
   "metadata": {
    "scrolled": true
   },
   "outputs": [
    {
     "data": {
      "image/png": "[encoded data removed]",
      "text/plain": [
       "<Figure size 640x480 with 1 Axes>"
      ]
     },
     "metadata": {},
     "output_type": "display_data"
    }
   ],
   "source": [
    "df_SPSleepPer.plot(x='Performance Index', y='Sleep Hours', style='*')\n",
    "plt.title('Hours of Sleep vs Academic Performance')\n",
    "plt.xlabel('Academic Performance')\n",
    "plt.ylabel('Sleep Hours')\n",
    "plt.show()"
   ]
  },
  {
   "cell_type": "code",
   "execution_count": 50,
   "metadata": {},
   "outputs": [],
   "source": [
    "# Split the dataset into X and y columns\n",
    "X = df_SPSleepPer.iloc[:, :-1].values            # Independent variables\n",
    "y = df_SPSleepPer.iloc[:, 1].values              # Dependent variable"
   ]
  },
  {
   "cell_type": "code",
   "execution_count": 51,
   "metadata": {},
   "outputs": [],
   "source": [
    "# X"
   ]
  },
  {
   "cell_type": "code",
   "execution_count": 52,
   "metadata": {},
   "outputs": [],
   "source": [
    "# y"
   ]
  },
  {
   "cell_type": "code",
   "execution_count": 53,
   "metadata": {},
   "outputs": [],
   "source": [
    "# Split the dataset\n",
    "X_train, X_test, y_train, y_test = train_test_split(X, y, test_size=0.2, random_state=0)"
   ]
  },
  {
   "cell_type": "code",
   "execution_count": 54,
   "metadata": {},
   "outputs": [
    {
     "data": {
      "text/plain": [
       "((10000, 1), (10000,), (8000, 1), (2000, 1), (8000,), (2000,))"
      ]
     },
     "execution_count": 54,
     "metadata": {},
     "output_type": "execute_result"
    }
   ],
   "source": [
    "# Show the rows and columns\n",
    "X.shape, y.shape, X_train.shape, X_test.shape, y_train.shape, y_test.shape"
   ]
  },
  {
   "cell_type": "code",
   "execution_count": 55,
   "metadata": {},
   "outputs": [],
   "source": [
    "# Method to calculate the score\n",
    "def get_cv_scores(model):\n",
    "    scores = cross_val_score(model,\n",
    "                             X_train,\n",
    "                             y_train,\n",
    "                             cv = 10,\n",
    "                             scoring='r2')\n",
    "    \n",
    "    print('CV Mean: ', np.mean(scores))\n",
    "    print('STD: ', np.std(scores))\n",
    "    print('\\n')"
   ]
  },
  {
   "cell_type": "code",
   "execution_count": 56,
   "metadata": {},
   "outputs": [
    {
     "name": "stdout",
     "output_type": "stream",
     "text": [
      "CV Mean:  0.001404426397997416\n",
      "STD:  0.0031814703671015935\n",
      "\n",
      "\n"
     ]
    }
   ],
   "source": [
    "# Train the model\n",
    "lr = LinearRegression().fit(X_train, y_train)\n",
    "\n",
    "# Calculate the mean values and Standard deviation\n",
    "get_cv_scores(lr)"
   ]
  },
  {
   "cell_type": "code",
   "execution_count": 57,
   "metadata": {},
   "outputs": [
    {
     "name": "stdout",
     "output_type": "stream",
     "text": [
      "50.92290552842073\n",
      "[0.63970627]\n"
     ]
    }
   ],
   "source": [
    "# Calculate the intercept and coefficient\n",
    "print(lr.intercept_)\n",
    "print(lr.coef_)"
   ]
  },
  {
   "cell_type": "code",
   "execution_count": 58,
   "metadata": {},
   "outputs": [],
   "source": [
    "# Calculate the predicted values\n",
    "y_pred = lr.predict(X_test)\n",
    "# y_pred"
   ]
  },
  {
   "cell_type": "code",
   "execution_count": 59,
   "metadata": {},
   "outputs": [
    {
     "data": {
      "image/png": "[encoded data removed]",
      "text/plain": [
       "<Figure size 640x480 with 1 Axes>"
      ]
     },
     "metadata": {},
     "output_type": "display_data"
    }
   ],
   "source": [
    "# Show the plotted values\n",
    "plt.title('Hours of Sleep  vs Academic Performance')\n",
    "plt.ylabel('Academic Performance')\n",
    "plt.xlabel('Hours of Sleep')\n",
    "plt.scatter(X_train, y_train)\n",
    "plt.plot(X_test, y_pred, color='red')\n",
    "plt.show()"
   ]
  },
  {
   "cell_type": "code",
   "execution_count": 60,
   "metadata": {},
   "outputs": [
    {
     "data": {
      "text/html": [
       "<div>\n",
       "<style scoped>\n",
       "    .dataframe tbody tr th:only-of-type {\n",
       "        vertical-align: middle;\n",
       "    }\n",
       "\n",
       "    .dataframe tbody tr th {\n",
       "        vertical-align: top;\n",
       "    }\n",
       "\n",
       "    .dataframe thead th {\n",
       "        text-align: right;\n",
       "    }\n",
       "</style>\n",
       "<table border=\"1\" class=\"dataframe\">\n",
       "  <thead>\n",
       "    <tr style=\"text-align: right;\">\n",
       "      <th></th>\n",
       "      <th>Actual</th>\n",
       "      <th>Predicted</th>\n",
       "    </tr>\n",
       "  </thead>\n",
       "  <tbody>\n",
       "    <tr>\n",
       "      <th>0</th>\n",
       "      <td>53.0</td>\n",
       "      <td>56.680262</td>\n",
       "    </tr>\n",
       "    <tr>\n",
       "      <th>1</th>\n",
       "      <td>50.0</td>\n",
       "      <td>53.481731</td>\n",
       "    </tr>\n",
       "    <tr>\n",
       "      <th>2</th>\n",
       "      <td>80.0</td>\n",
       "      <td>54.121437</td>\n",
       "    </tr>\n",
       "    <tr>\n",
       "      <th>3</th>\n",
       "      <td>24.0</td>\n",
       "      <td>54.761143</td>\n",
       "    </tr>\n",
       "    <tr>\n",
       "      <th>4</th>\n",
       "      <td>64.0</td>\n",
       "      <td>54.121437</td>\n",
       "    </tr>\n",
       "  </tbody>\n",
       "</table>\n",
       "</div>"
      ],
      "text/plain": [
       "   Actual  Predicted\n",
       "0    53.0  56.680262\n",
       "1    50.0  53.481731\n",
       "2    80.0  54.121437\n",
       "3    24.0  54.761143\n",
       "4    64.0  54.121437"
      ]
     },
     "execution_count": 60,
     "metadata": {},
     "output_type": "execute_result"
    }
   ],
   "source": [
    "# Display the test and predicted values\n",
    "df = pd.DataFrame({'Actual': y_test, 'Predicted': y_pred})\n",
    "df.head()"
   ]
  },
  {
   "cell_type": "code",
   "execution_count": 61,
   "metadata": {},
   "outputs": [
    {
     "name": "stdout",
     "output_type": "stream",
     "text": [
      "Mean Absolute Error: 15.529829309291152\n",
      "Mean Squared Error: 345.0333842350917\n",
      "Root Mean Squared Error: 18.5750742726669\n",
      "R2 score: -0.0027055507057760497\n"
     ]
    }
   ],
   "source": [
    "# Calculate the error values\n",
    "print('Mean Absolute Error:', metrics.mean_absolute_error(y_test, y_pred))\n",
    "print('Mean Squared Error:', metrics.mean_squared_error(y_test, y_pred))\n",
    "print('Root Mean Squared Error:', np.sqrt(metrics.mean_squared_error(y_test, y_pred)))\n",
    "print('R2 score:', metrics.r2_score(y_test, y_pred))"
   ]
  },
  {
   "cell_type": "markdown",
   "metadata": {},
   "source": [
    "## Linear Regression with Hours of Study as the Independent variable"
   ]
  },
  {
   "cell_type": "code",
   "execution_count": 62,
   "metadata": {},
   "outputs": [
    {
     "data": {
      "image/png": "[encoded data removed]",
      "text/plain": [
       "<Figure size 640x480 with 1 Axes>"
      ]
     },
     "metadata": {},
     "output_type": "display_data"
    }
   ],
   "source": [
    "df_SPHSPer.plot(x='Performance Index', y='Hours Studied', style='*')\n",
    "plt.title('Hours of Study vs Academic Performance')\n",
    "plt.xlabel('Academic Performance')\n",
    "plt.ylabel('Hours of Study')\n",
    "plt.show()"
   ]
  },
  {
   "cell_type": "code",
   "execution_count": 63,
   "metadata": {},
   "outputs": [],
   "source": [
    " # Split the dataset into X and y columns\n",
    "X = df_SPHSPer.iloc[:, :-1].values            # Independent variables\n",
    "y = df_SPHSPer.iloc[:, 1].values              # Dependent variable"
   ]
  },
  {
   "cell_type": "code",
   "execution_count": 64,
   "metadata": {},
   "outputs": [],
   "source": [
    "# X"
   ]
  },
  {
   "cell_type": "code",
   "execution_count": 65,
   "metadata": {},
   "outputs": [],
   "source": [
    "# y"
   ]
  },
  {
   "cell_type": "code",
   "execution_count": 66,
   "metadata": {},
   "outputs": [],
   "source": [
    "# Split the dataset\n",
    "X_train, X_test, y_train, y_test = train_test_split(X, y, test_size=0.2, random_state=0)"
   ]
  },
  {
   "cell_type": "code",
   "execution_count": 67,
   "metadata": {},
   "outputs": [
    {
     "data": {
      "text/plain": [
       "((10000, 1), (10000,), (8000, 1), (2000, 1), (8000,), (2000,))"
      ]
     },
     "execution_count": 67,
     "metadata": {},
     "output_type": "execute_result"
    }
   ],
   "source": [
    "# Show the rows and columns\n",
    "X.shape, y.shape, X_train.shape, X_test.shape, y_train.shape, y_test.shape"
   ]
  },
  {
   "cell_type": "code",
   "execution_count": 68,
   "metadata": {},
   "outputs": [],
   "source": [
    "# Method to calculate the score\n",
    "def get_cv_scores(model):\n",
    "    scores = cross_val_score(model,\n",
    "                             X_train,\n",
    "                             y_train,\n",
    "                             cv = 10,\n",
    "                             scoring='r2')\n",
    "    \n",
    "    print('CV Mean: ', np.mean(scores))\n",
    "    print('STD: ', np.std(scores))\n",
    "    print('\\n')"
   ]
  },
  {
   "cell_type": "code",
   "execution_count": 69,
   "metadata": {},
   "outputs": [
    {
     "name": "stdout",
     "output_type": "stream",
     "text": [
      "CV Mean:  0.14082925016272108\n",
      "STD:  0.014626519917461157\n",
      "\n",
      "\n"
     ]
    }
   ],
   "source": [
    "# Train the model\n",
    "lr = LinearRegression().fit(X_train, y_train)\n",
    "\n",
    "# Calculate the mean values and Standard deviation\n",
    "get_cv_scores(lr)"
   ]
  },
  {
   "cell_type": "code",
   "execution_count": 70,
   "metadata": {},
   "outputs": [
    {
     "name": "stdout",
     "output_type": "stream",
     "text": [
      "41.09137202718477\n",
      "[2.82005292]\n"
     ]
    }
   ],
   "source": [
    "# Calculate the intercept and coefficient\n",
    "print(lr.intercept_)\n",
    "print(lr.coef_)"
   ]
  },
  {
   "cell_type": "code",
   "execution_count": 71,
   "metadata": {},
   "outputs": [],
   "source": [
    "# Calculate the predicted values\n",
    "y_pred = lr.predict(X_test)\n",
    "# y_pred"
   ]
  },
  {
   "cell_type": "code",
   "execution_count": 72,
   "metadata": {},
   "outputs": [
    {
     "data": {
      "image/png": "[encoded data removed]",
      "text/plain": [
       "<Figure size 640x480 with 1 Axes>"
      ]
     },
     "metadata": {},
     "output_type": "display_data"
    }
   ],
   "source": [
    "# Show the plotted values\n",
    "plt.title('Hours of Study  vs Academic Performance')\n",
    "plt.ylabel('Academic Performance')\n",
    "plt.xlabel('Hours of Study')\n",
    "plt.scatter(X_train, y_train)\n",
    "plt.plot(X_test, y_pred, color='red')\n",
    "plt.show()"
   ]
  },
  {
   "cell_type": "code",
   "execution_count": 73,
   "metadata": {},
   "outputs": [
    {
     "data": {
      "text/html": [
       "<div>\n",
       "<style scoped>\n",
       "    .dataframe tbody tr th:only-of-type {\n",
       "        vertical-align: middle;\n",
       "    }\n",
       "\n",
       "    .dataframe tbody tr th {\n",
       "        vertical-align: top;\n",
       "    }\n",
       "\n",
       "    .dataframe thead th {\n",
       "        text-align: right;\n",
       "    }\n",
       "</style>\n",
       "<table border=\"1\" class=\"dataframe\">\n",
       "  <thead>\n",
       "    <tr style=\"text-align: right;\">\n",
       "      <th></th>\n",
       "      <th>Actual</th>\n",
       "      <th>Predicted</th>\n",
       "    </tr>\n",
       "  </thead>\n",
       "  <tbody>\n",
       "    <tr>\n",
       "      <th>0</th>\n",
       "      <td>53.0</td>\n",
       "      <td>52.371584</td>\n",
       "    </tr>\n",
       "    <tr>\n",
       "      <th>1</th>\n",
       "      <td>50.0</td>\n",
       "      <td>63.651795</td>\n",
       "    </tr>\n",
       "    <tr>\n",
       "      <th>2</th>\n",
       "      <td>80.0</td>\n",
       "      <td>58.011690</td>\n",
       "    </tr>\n",
       "    <tr>\n",
       "      <th>3</th>\n",
       "      <td>24.0</td>\n",
       "      <td>43.911425</td>\n",
       "    </tr>\n",
       "    <tr>\n",
       "      <th>4</th>\n",
       "      <td>64.0</td>\n",
       "      <td>46.731478</td>\n",
       "    </tr>\n",
       "  </tbody>\n",
       "</table>\n",
       "</div>"
      ],
      "text/plain": [
       "   Actual  Predicted\n",
       "0    53.0  52.371584\n",
       "1    50.0  63.651795\n",
       "2    80.0  58.011690\n",
       "3    24.0  43.911425\n",
       "4    64.0  46.731478"
      ]
     },
     "execution_count": 73,
     "metadata": {},
     "output_type": "execute_result"
    }
   ],
   "source": [
    "# Display the test and predicted values\n",
    "df = pd.DataFrame({'Actual': y_test, 'Predicted': y_pred})\n",
    "df.head()"
   ]
  },
  {
   "cell_type": "code",
   "execution_count": 74,
   "metadata": {},
   "outputs": [
    {
     "name": "stdout",
     "output_type": "stream",
     "text": [
      "Mean Absolute Error: 14.88202462644476\n",
      "Mean Squared Error: 300.0411017393494\n",
      "Root Mean Squared Error: 17.321694540065916\n",
      "R2 score: 0.128047047328808\n"
     ]
    }
   ],
   "source": [
    "# Calculate the error values\n",
    "print('Mean Absolute Error:', metrics.mean_absolute_error(y_test, y_pred))\n",
    "print('Mean Squared Error:', metrics.mean_squared_error(y_test, y_pred))\n",
    "print('Root Mean Squared Error:', np.sqrt(metrics.mean_squared_error(y_test, y_pred)))\n",
    "print('R2 score:', metrics.r2_score(y_test, y_pred))"
   ]
  },
  {
   "cell_type": "markdown",
   "metadata": {},
   "source": [
    "## Linear Regression with Previous Scores as the Independent variable"
   ]
  },
  {
   "cell_type": "code",
   "execution_count": 75,
   "metadata": {},
   "outputs": [
    {
     "data": {
      "image/png": "[encoded data removed]",
      "text/plain": [
       "<Figure size 640x480 with 1 Axes>"
      ]
     },
     "metadata": {},
     "output_type": "display_data"
    }
   ],
   "source": [
    "df_SPPSPer.plot(x='Performance Index', y='Previous Scores', style='*')\n",
    "plt.title('Previous Scores vs Academic Performance')\n",
    "plt.xlabel('Academic Performance')\n",
    "plt.ylabel('Previous Scores')\n",
    "plt.show()"
   ]
  },
  {
   "cell_type": "code",
   "execution_count": 76,
   "metadata": {},
   "outputs": [],
   "source": [
    "# Split the dataset into X and y columns\n",
    "X = df_SPPSPer.iloc[:, :-1].values            # Independent variables\n",
    "y = df_SPPSPer.iloc[:, 1].values              # Dependent variable"
   ]
  },
  {
   "cell_type": "code",
   "execution_count": 77,
   "metadata": {},
   "outputs": [],
   "source": [
    "# Split the dataset\n",
    "X_train, X_test, y_train, y_test = train_test_split(X, y, test_size=0.2, random_state=0)"
   ]
  },
  {
   "cell_type": "code",
   "execution_count": 78,
   "metadata": {},
   "outputs": [
    {
     "data": {
      "text/plain": [
       "((10000, 1), (10000,), (8000, 1), (2000, 1), (8000,), (2000,))"
      ]
     },
     "execution_count": 78,
     "metadata": {},
     "output_type": "execute_result"
    }
   ],
   "source": [
    "# Show the rows and columns\n",
    "X.shape, y.shape, X_train.shape, X_test.shape, y_train.shape, y_test.shape"
   ]
  },
  {
   "cell_type": "code",
   "execution_count": 79,
   "metadata": {},
   "outputs": [],
   "source": [
    "# Method to calculate the score\n",
    "def get_cv_scores(model):\n",
    "    scores = cross_val_score(model,\n",
    "                             X_train,\n",
    "                             y_train,\n",
    "                             cv = 10,\n",
    "                             scoring='r2')\n",
    "    \n",
    "    print('CV Mean: ', np.mean(scores))\n",
    "    print('STD: ', np.std(scores))\n",
    "    print('\\n')"
   ]
  },
  {
   "cell_type": "code",
   "execution_count": 80,
   "metadata": {},
   "outputs": [
    {
     "name": "stdout",
     "output_type": "stream",
     "text": [
      "CV Mean:  0.8397090739092226\n",
      "STD:  0.00818414928346299\n",
      "\n",
      "\n"
     ]
    }
   ],
   "source": [
    "# Train the model\n",
    "lr = LinearRegression().fit(X_train, y_train)\n",
    "\n",
    "# Calculate the mean values and Standard deviation\n",
    "get_cv_scores(lr)"
   ]
  },
  {
   "cell_type": "code",
   "execution_count": 81,
   "metadata": {},
   "outputs": [
    {
     "name": "stdout",
     "output_type": "stream",
     "text": [
      "-15.506091435073245\n",
      "[1.01765602]\n"
     ]
    }
   ],
   "source": [
    "# Calculate the intercept and coefficient\n",
    "print(lr.intercept_)\n",
    "print(lr.coef_)"
   ]
  },
  {
   "cell_type": "code",
   "execution_count": 82,
   "metadata": {},
   "outputs": [],
   "source": [
    "# Calculate the predicted values\n",
    "y_pred = lr.predict(X_test)\n",
    "# y_pred"
   ]
  },
  {
   "cell_type": "code",
   "execution_count": 83,
   "metadata": {},
   "outputs": [
    {
     "data": {
      "image/png": "[encoded data removed]",
      "text/plain": [
       "<Figure size 640x480 with 1 Axes>"
      ]
     },
     "metadata": {},
     "output_type": "display_data"
    }
   ],
   "source": [
    "# Show the plotted values\n",
    "plt.title('Previous Scores vs Academic Performance')\n",
    "plt.xlabel('Academic Performance')\n",
    "plt.ylabel('Previous Scores')\n",
    "plt.scatter(X_train, y_train)\n",
    "plt.plot(X_test, y_pred, color='red')\n",
    "plt.show()"
   ]
  },
  {
   "cell_type": "code",
   "execution_count": 84,
   "metadata": {},
   "outputs": [
    {
     "data": {
      "text/html": [
       "<div>\n",
       "<style scoped>\n",
       "    .dataframe tbody tr th:only-of-type {\n",
       "        vertical-align: middle;\n",
       "    }\n",
       "\n",
       "    .dataframe tbody tr th {\n",
       "        vertical-align: top;\n",
       "    }\n",
       "\n",
       "    .dataframe thead th {\n",
       "        text-align: right;\n",
       "    }\n",
       "</style>\n",
       "<table border=\"1\" class=\"dataframe\">\n",
       "  <thead>\n",
       "    <tr style=\"text-align: right;\">\n",
       "      <th></th>\n",
       "      <th>Actual</th>\n",
       "      <th>Predicted</th>\n",
       "    </tr>\n",
       "  </thead>\n",
       "  <tbody>\n",
       "    <tr>\n",
       "      <th>0</th>\n",
       "      <td>53.0</td>\n",
       "      <td>52.676862</td>\n",
       "    </tr>\n",
       "    <tr>\n",
       "      <th>1</th>\n",
       "      <td>50.0</td>\n",
       "      <td>45.553270</td>\n",
       "    </tr>\n",
       "    <tr>\n",
       "      <th>2</th>\n",
       "      <td>80.0</td>\n",
       "      <td>76.082950</td>\n",
       "    </tr>\n",
       "    <tr>\n",
       "      <th>3</th>\n",
       "      <td>24.0</td>\n",
       "      <td>36.394365</td>\n",
       "    </tr>\n",
       "    <tr>\n",
       "      <th>4</th>\n",
       "      <td>64.0</td>\n",
       "      <td>76.082950</td>\n",
       "    </tr>\n",
       "  </tbody>\n",
       "</table>\n",
       "</div>"
      ],
      "text/plain": [
       "   Actual  Predicted\n",
       "0    53.0  52.676862\n",
       "1    50.0  45.553270\n",
       "2    80.0  76.082950\n",
       "3    24.0  36.394365\n",
       "4    64.0  76.082950"
      ]
     },
     "execution_count": 84,
     "metadata": {},
     "output_type": "execute_result"
    }
   ],
   "source": [
    "# Display the test and predicted values\n",
    "df = pd.DataFrame({'Actual': y_test, 'Predicted': y_pred})\n",
    "df.head()"
   ]
  },
  {
   "cell_type": "code",
   "execution_count": 85,
   "metadata": {},
   "outputs": [
    {
     "name": "stdout",
     "output_type": "stream",
     "text": [
      "Mean Absolute Error: 6.5684993751275815\n",
      "Mean Squared Error: 59.906453523970555\n",
      "Root Mean Squared Error: 7.739925937886651\n",
      "R2 score: 0.8259051552221549\n"
     ]
    }
   ],
   "source": [
    "# Calculate the error values\n",
    "print('Mean Absolute Error:', metrics.mean_absolute_error(y_test, y_pred))\n",
    "print('Mean Squared Error:', metrics.mean_squared_error(y_test, y_pred))\n",
    "print('Root Mean Squared Error:', np.sqrt(metrics.mean_squared_error(y_test, y_pred)))\n",
    "print('R2 score:', metrics.r2_score(y_test, y_pred))"
   ]
  }
 ],
 "metadata": {
  "kernelspec": {
   "display_name": "Python 3 (ipykernel)",
   "language": "python",
   "name": "python3"
  },
  "language_info": {
   "codemirror_mode": {
    "name": "ipython",
    "version": 3
   },
   "file_extension": ".py",
   "mimetype": "text/x-python",
   "name": "python",
   "nbconvert_exporter": "python",
   "pygments_lexer": "ipython3",
   "version": "3.11.7"
  }
 },
 "nbformat": 4,
 "nbformat_minor": 4
}
